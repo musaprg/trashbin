{
  "nbformat": 4,
  "nbformat_minor": 0,
  "metadata": {
    "colab": {
      "name": "042_portfolio_optimization",
      "provenance": []
    },
    "kernelspec": {
      "name": "python3",
      "display_name": "Python 3"
    }
  },
  "cells": [
    {
      "cell_type": "markdown",
      "metadata": {
        "id": "vUO0DrZ2gpJR",
        "colab_type": "text"
      },
      "source": [
        "#ポートフォリオ最適化問題\n",
        "金融資産運用モデルでもっともシンプルで計算しやすいモデルがポートフォリオ最適化問題です。今後のより複雑なモデルのために一旦ポートフォリオ最適化問題をWildqatで解いてみます。今回は銘柄数を指定して解いてみます。"
      ]
    },
    {
      "cell_type": "markdown",
      "metadata": {
        "id": "d5ZFqonUgyR3",
        "colab_type": "text"
      },
      "source": [
        "##ポートフォリオ最適化問題とは？\n",
        "資産運用の際に資産運用銘柄の選択をしますが、その銘柄の評価を過去のリターンと、銘柄間の相関関係によってリスクを割り出します。その中で銘柄数を指定しながら、過去のリターンと見込んだリスクの中で一番いい選択を計算で行います。"
      ]
    },
    {
      "cell_type": "markdown",
      "metadata": {
        "id": "a-pwmVElg_wT",
        "colab_type": "text"
      },
      "source": [
        "##リターンについて\n",
        "過去の傾向からリターンの値を出します。\n",
        "過去のデータが必要ですが、今回は金融データを参考にしたデモデータでやります。"
      ]
    },
    {
      "cell_type": "markdown",
      "metadata": {
        "id": "-gGB2LfqhC_z",
        "colab_type": "text"
      },
      "source": [
        "##リスクについて\n",
        "こちらは銘柄間の分散共分散というものを使いますが、主に相関関係を表す行列式が過去のデータから得られます。"
      ]
    },
    {
      "cell_type": "markdown",
      "metadata": {
        "id": "AFLU6xz-hItB",
        "colab_type": "text"
      },
      "source": [
        "##コスト関数\n",
        "ポートフォリオ最適化問題を解くためには、QUBOのコスト関数と呼ばれる最小化を行うための数式が必要となります。\n",
        "\n",
        "今回使用するコスト関数は下記の通りです。\n",
        "\n",
        "$$E = -\\sum \\mu_i x_i + \\gamma\\sum \\delta_{ij}x_ix_j + B\\left( \\sum x_i-K \\right)^2$$\n",
        "\n",
        "ただし、xiはi番目の銘柄を選択したかしてないかの{0,1}のバイナリ値。μiはi番目の銘柄の過去のデータからの期待リターン、δijは銘柄iと銘柄jの相関（今回はこれでリスクを見込む）を表す係数。γはどれだけリスクを算定に組み込むかというハイパーパラメータです。\n",
        "\n",
        "また、最終項に調整パラメータBのついた銘柄数Kを指定するための制約条件が付いています。\n",
        "制約条件は選択されたxiの個数と指定銘柄数Kが同じになった時にコストが最小の0になるように設計されています。\n",
        "\n",
        "##例題\n",
        "早速今回は例題で行って見ます。6つの銘柄から2つの銘柄を選びながら、ダミーのリターンデータとリスクデータを使って最適化を行います。\n",
        "\n",
        "想定されるリターンは、\n",
        "\n",
        "$$\\mu_i = \\{0.026,0.031,0007,0.022,0010,0.055 \\}$$\n",
        "\n",
        "をダミーデータとして使います。また、想定されるリスクは銘柄間の分散共分散で表現され、\n",
        "\n",
        "$$\\begin{matrix}\n",
        " &x_0&x_1&x_2&x_3&x_4&x_5\\\\\n",
        " x_0&0&0.0015&0.0012&0.0018&0.0022&0.0012\\\\\n",
        " x_1&&0&0.0017&0.0022&0.0005&0.0019\\\\\n",
        " x_2&&&0&0.0040&0.0032&0.0024\\\\\n",
        " x_3&&&&0&0.0012&0.0076\\\\\n",
        " x_4&&&&&0&0.0021\\\\\n",
        " x_5&&&&&&0\n",
        "\\end{matrix}$$\n",
        "\n",
        "とします。早速これをBlueqatで準備して見ます。numpyも使いやすいので入れておきます。"
      ]
    },
    {
      "cell_type": "code",
      "metadata": {
        "id": "zStDjJqk6P5j",
        "colab_type": "code",
        "colab": {
          "base_uri": "https://localhost:8080/",
          "height": 136
        },
        "outputId": "64e2dbb3-d460-4692-9197-c84327204853"
      },
      "source": [
        "!pip install blueqat"
      ],
      "execution_count": 1,
      "outputs": [
        {
          "output_type": "stream",
          "text": [
            "Collecting blueqat\n",
            "\u001b[?25l  Downloading https://files.pythonhosted.org/packages/bb/86/1b72a7cbe500b861d63e84cc6383fbf3730f08ae69fcd85146ae8e3b8873/blueqat-0.3.10-py3-none-any.whl (46kB)\n",
            "\r\u001b[K     |███████                         | 10kB 22.9MB/s eta 0:00:01\r\u001b[K     |██████████████                  | 20kB 1.9MB/s eta 0:00:01\r\u001b[K     |█████████████████████▏          | 30kB 2.8MB/s eta 0:00:01\r\u001b[K     |████████████████████████████▏   | 40kB 1.8MB/s eta 0:00:01\r\u001b[K     |████████████████████████████████| 51kB 1.8MB/s \n",
            "\u001b[?25hRequirement already satisfied: scipy>=1.1.0 in /usr/local/lib/python3.6/dist-packages (from blueqat) (1.3.3)\n",
            "Requirement already satisfied: numpy~=1.12 in /usr/local/lib/python3.6/dist-packages (from blueqat) (1.17.4)\n",
            "Installing collected packages: blueqat\n",
            "Successfully installed blueqat-0.3.10\n"
          ],
          "name": "stdout"
        }
      ]
    },
    {
      "cell_type": "code",
      "metadata": {
        "id": "WPbJZpMui8Pw",
        "colab_type": "code",
        "colab": {}
      },
      "source": [
        "import blueqat.opt as wq\n",
        "import numpy as np\n",
        "a = wq.opt()"
      ],
      "execution_count": 0,
      "outputs": []
    },
    {
      "cell_type": "markdown",
      "metadata": {
        "id": "meI9n8WJjAyS",
        "colab_type": "text"
      },
      "source": [
        "準備ができました。\n",
        "\n",
        "次にまずリターンの行列を作ります。計算しやすいように対角項にいれた6*6の行列にしておきます。"
      ]
    },
    {
      "cell_type": "code",
      "metadata": {
        "id": "9XOZ4TFhjHpM",
        "colab_type": "code",
        "outputId": "bd3a941e-3965-4c62-e1b7-0e103011875f",
        "colab": {
          "base_uri": "https://localhost:8080/",
          "height": 119
        }
      },
      "source": [
        "ret = np.diag([-0.026,-0.031,-0.007,-0.022,-0.010,-0.055])\n",
        "print(ret)"
      ],
      "execution_count": 3,
      "outputs": [
        {
          "output_type": "stream",
          "text": [
            "[[-0.026  0.     0.     0.     0.     0.   ]\n",
            " [ 0.    -0.031  0.     0.     0.     0.   ]\n",
            " [ 0.     0.    -0.007  0.     0.     0.   ]\n",
            " [ 0.     0.     0.    -0.022  0.     0.   ]\n",
            " [ 0.     0.     0.     0.    -0.01   0.   ]\n",
            " [ 0.     0.     0.     0.     0.    -0.055]]\n"
          ],
          "name": "stdout"
        }
      ]
    },
    {
      "cell_type": "markdown",
      "metadata": {
        "id": "uGC6JKYEjb-s",
        "colab_type": "text"
      },
      "source": [
        "次にリターンを用意します。これはそのままになります。"
      ]
    },
    {
      "cell_type": "code",
      "metadata": {
        "id": "If-m1F_CjHdy",
        "colab_type": "code",
        "outputId": "be8deb28-fbb9-4e3e-d54d-c3b9bf843b91",
        "colab": {
          "base_uri": "https://localhost:8080/",
          "height": 54
        }
      },
      "source": [
        "ris = [[0,0.0015,0.0012,0.0018,0.0022,0.0012],[0,0,0.0017,0.0022,0.0005,0.0019],[0,0,0,0.0040,0.0032,0.0024],[0,0,0,0,0.0012,0.0076],[0,0,0,0,0,0.0021],[0,0,0,0,0,0]]\n",
        "\n",
        "print(ris)"
      ],
      "execution_count": 4,
      "outputs": [
        {
          "output_type": "stream",
          "text": [
            "[[0, 0.0015, 0.0012, 0.0018, 0.0022, 0.0012], [0, 0, 0.0017, 0.0022, 0.0005, 0.0019], [0, 0, 0, 0.004, 0.0032, 0.0024], [0, 0, 0, 0, 0.0012, 0.0076], [0, 0, 0, 0, 0, 0.0021], [0, 0, 0, 0, 0, 0]]\n"
          ],
          "name": "stdout"
        }
      ]
    },
    {
      "cell_type": "markdown",
      "metadata": {
        "id": "l5OIEJTyleV6",
        "colab_type": "text"
      },
      "source": [
        "この２つの行列を足し合わせますが、リスクの導入具合によって値が変わりますので、今回はガンマ=0.5としてみます。"
      ]
    },
    {
      "cell_type": "code",
      "metadata": {
        "id": "lUudk7iclRyf",
        "colab_type": "code",
        "outputId": "795ca4d4-7a51-41b1-e7fd-f0676a6e728e",
        "colab": {
          "base_uri": "https://localhost:8080/",
          "height": 119
        }
      },
      "source": [
        "a.qubo = ret + np.asarray(ris)*0.5\n",
        "print(a.qubo)"
      ],
      "execution_count": 5,
      "outputs": [
        {
          "output_type": "stream",
          "text": [
            "[[-0.026    0.00075  0.0006   0.0009   0.0011   0.0006 ]\n",
            " [ 0.      -0.031    0.00085  0.0011   0.00025  0.00095]\n",
            " [ 0.       0.      -0.007    0.002    0.0016   0.0012 ]\n",
            " [ 0.       0.       0.      -0.022    0.0006   0.0038 ]\n",
            " [ 0.       0.       0.       0.      -0.01     0.00105]\n",
            " [ 0.       0.       0.       0.       0.      -0.055  ]]\n"
          ],
          "name": "stdout"
        }
      ]
    },
    {
      "cell_type": "markdown",
      "metadata": {
        "id": "XkS2Nu9-l8Jo",
        "colab_type": "text"
      },
      "source": [
        "無事リターンとリスクを見込んだQUBOmatrixができました。"
      ]
    },
    {
      "cell_type": "markdown",
      "metadata": {
        "id": "I5bMskkhl3Pg",
        "colab_type": "text"
      },
      "source": [
        "#銘柄数を指定する\n",
        "最後に銘柄数を指定する必要があります。銘柄数の指定は上記コスト関数の第三項を使いますが、wildqatではN量子ビットからK量子ビットを選ぶという便利な関数があります。今回はこの制約条件式を導入してくわえてみると、"
      ]
    },
    {
      "cell_type": "code",
      "metadata": {
        "id": "Sz1vh59SlStJ",
        "colab_type": "code",
        "outputId": "81dc2ec7-c143-4a64-e68e-d03f71081c37",
        "colab": {
          "base_uri": "https://localhost:8080/",
          "height": 119
        }
      },
      "source": [
        "a.qubo += wq.sel(6,2)\n",
        "print(a.qubo)"
      ],
      "execution_count": 6,
      "outputs": [
        {
          "output_type": "stream",
          "text": [
            "[[-3.026    2.00075  2.0006   2.0009   2.0011   2.0006 ]\n",
            " [ 0.      -3.031    2.00085  2.0011   2.00025  2.00095]\n",
            " [ 0.       0.      -3.007    2.002    2.0016   2.0012 ]\n",
            " [ 0.       0.       0.      -3.022    2.0006   2.0038 ]\n",
            " [ 0.       0.       0.       0.      -3.01     2.00105]\n",
            " [ 0.       0.       0.       0.       0.      -3.055  ]]\n"
          ],
          "name": "stdout"
        }
      ]
    },
    {
      "cell_type": "code",
      "metadata": {
        "id": "CdPmcVcVmShE",
        "colab_type": "code",
        "outputId": "f79bdfa6-1815-4112-bfc5-83678f46384a",
        "colab": {
          "base_uri": "https://localhost:8080/",
          "height": 34
        }
      },
      "source": [
        "a.sa()"
      ],
      "execution_count": 11,
      "outputs": [
        {
          "output_type": "execute_result",
          "data": {
            "text/plain": [
              "[0, 1, 0, 0, 0, 1]"
            ]
          },
          "metadata": {
            "tags": []
          },
          "execution_count": 11
        }
      ]
    },
    {
      "cell_type": "markdown",
      "metadata": {
        "id": "KEij7FQFmhzY",
        "colab_type": "text"
      },
      "source": [
        "上記は0から数えて、1番目と5番目が1となりその他は0となっていますので、\n",
        "1番目と5番目の銘柄が選択されたことになります。\n",
        "\n",
        "ついでに計算過程のコストの変化を見て見ます。\n",
        "\n",
        "ここではmatplotlibというツールを使います。"
      ]
    },
    {
      "cell_type": "code",
      "metadata": {
        "id": "4cxwz5UCmZkc",
        "colab_type": "code",
        "outputId": "910784ad-7c4a-4359-c042-bea735b32e3d",
        "colab": {
          "base_uri": "https://localhost:8080/",
          "height": 265
        }
      },
      "source": [
        "a.plot()"
      ],
      "execution_count": 12,
      "outputs": [
        {
          "output_type": "display_data",
          "data": {
            "image/png": "[encoded data removed]",
            "text/plain": [
              "<Figure size 432x288 with 1 Axes>"
            ]
          },
          "metadata": {
            "tags": []
          }
        }
      ]
    },
    {
      "cell_type": "code",
      "metadata": {
        "id": "Wb4FHAnqnFuc",
        "colab_type": "code",
        "outputId": "b910d0e9-712d-4f2e-8607-1072e9938d19",
        "colab": {
          "base_uri": "https://localhost:8080/",
          "height": 34
        }
      },
      "source": [
        "print(a.E[-1])"
      ],
      "execution_count": 14,
      "outputs": [
        {
          "output_type": "stream",
          "text": [
            "-4.085049999999999\n"
          ],
          "name": "stdout"
        }
      ]
    },
    {
      "cell_type": "markdown",
      "metadata": {
        "id": "Cu2WoKkmnM5N",
        "colab_type": "text"
      },
      "source": [
        "エネルギーが上下しながら収束していくのが確認できました。以上です。"
      ]
    }
  ]
}