{
  "nbformat": 4,
  "nbformat_minor": 0,
  "metadata": {
    "colab": {
      "name": "041_boolean_reduction",
      "provenance": []
    },
    "kernelspec": {
      "name": "python3",
      "display_name": "Python 3"
    }
  },
  "cells": [
    {
      "cell_type": "markdown",
      "metadata": {
        "id": "_-zOj3w97u4Q",
        "colab_type": "text"
      },
      "source": [
        "#３体問題の２体問題への分解\n",
        "\n",
        "QUBOでは通常２体問題と呼ばれる２つの量子ビットの掛け算までしか計算できません。しかし、時々問題を作っている際に、３量子ビット以上の掛け算が出ることがあります。その際には数学的なテクニックを利用して３体問題を２体問題に分解をします。"
      ]
    },
    {
      "cell_type": "markdown",
      "metadata": {
        "id": "pDPWveBOD_Ke",
        "colab_type": "text"
      },
      "source": [
        "##２体問題の解き方\n",
        "例えば下記のようなコスト関数がある時には、そのままその係数をQUBOで計算できます。これは、$q_0$のバイアスと$q_0,q1$間の結合係数を上三角行列で表すことで実現できます。詳しくは他のチュートリアルを参考にしてください。\n",
        "\n",
        "$$E = q_0-q_0q_1$$"
      ]
    },
    {
      "cell_type": "code",
      "metadata": {
        "id": "gxoMW9sN2dLt",
        "colab_type": "code",
        "colab": {
          "base_uri": "https://localhost:8080/",
          "height": 136
        },
        "outputId": "3c866918-f483-4b28-83ec-93909f7e10b7"
      },
      "source": [
        "!pip install blueqat"
      ],
      "execution_count": 1,
      "outputs": [
        {
          "output_type": "stream",
          "text": [
            "Collecting blueqat\n",
            "\u001b[?25l  Downloading https://files.pythonhosted.org/packages/bb/86/1b72a7cbe500b861d63e84cc6383fbf3730f08ae69fcd85146ae8e3b8873/blueqat-0.3.10-py3-none-any.whl (46kB)\n",
            "\r\u001b[K     |███████                         | 10kB 15.5MB/s eta 0:00:01\r\u001b[K     |██████████████                  | 20kB 6.5MB/s eta 0:00:01\r\u001b[K     |█████████████████████▏          | 30kB 9.0MB/s eta 0:00:01\r\u001b[K     |████████████████████████████▏   | 40kB 5.6MB/s eta 0:00:01\r\u001b[K     |████████████████████████████████| 51kB 3.6MB/s \n",
            "\u001b[?25hRequirement already satisfied: numpy~=1.12 in /usr/local/lib/python3.6/dist-packages (from blueqat) (1.17.4)\n",
            "Requirement already satisfied: scipy>=1.1.0 in /usr/local/lib/python3.6/dist-packages (from blueqat) (1.3.3)\n",
            "Installing collected packages: blueqat\n",
            "Successfully installed blueqat-0.3.10\n"
          ],
          "name": "stdout"
        }
      ]
    },
    {
      "cell_type": "code",
      "metadata": {
        "id": "I0g-6vN97eU1",
        "colab_type": "code",
        "outputId": "0d20126f-cbe0-4a98-ad87-9e5c998b8286",
        "colab": {
          "base_uri": "https://localhost:8080/",
          "height": 34
        }
      },
      "source": [
        "import blueqat.opt as wq\n",
        "a = wq.opt()\n",
        "a.qubo = [[1,-1],[0,0]]\n",
        "a.sa()"
      ],
      "execution_count": 2,
      "outputs": [
        {
          "output_type": "execute_result",
          "data": {
            "text/plain": [
              "[1, 1]"
            ]
          },
          "metadata": {
            "tags": []
          },
          "execution_count": 2
        }
      ]
    },
    {
      "cell_type": "markdown",
      "metadata": {
        "id": "QrfaOgkRDw9k",
        "colab_type": "text"
      },
      "source": [
        "##３体問題の解き方\n",
        "では、３体問題という量子ビットが複数掛け算されているものはどうでしょうか？\n",
        "結合係数は２量子ビット同士の係数しかないので、そのままでは設定できません。\n",
        "\n",
        "$$E = q_0 -q_0q_1q_2$$\n",
        "\n",
        "そこで、今回はこの３体問題を数学的に２体問題に分解します。"
      ]
    },
    {
      "cell_type": "markdown",
      "metadata": {
        "id": "kCrwoRiw3DnF",
        "colab_type": "text"
      },
      "source": [
        "##分解方法\n",
        "分解に際して新しい量子ビットを追加します。下記のように新しい量子ビットを加えて、表現します。\n",
        "\n",
        "$$q_1q_2 = q_3$$\n",
        "\n",
        "ただ、置き換えただけではなく、上記条件を満たすための新しい拘束条件を式の最後に付け加えます。\n",
        "\n",
        "$$E = q_0-q_0q_3+\\delta(3q_3+q_1q_2-2q_1q_3-2q_2q_3)$$\n",
        "\n",
        "係数の$\\delta$はその時々によって調整するハイパーパラメータです。ここでは$\\delta$を0.5にしてみると下記のようになり、\n",
        "\n",
        "$$E = q_0-q_0q_3+1.5q_3+0.5q_1q_2-q_1q_3-q_2q_3$$\n",
        "\n",
        "これを計算にかけると、"
      ]
    },
    {
      "cell_type": "code",
      "metadata": {
        "id": "S7f4vccTDaZZ",
        "colab_type": "code",
        "outputId": "7dcc9532-31af-4fe6-e5a7-6cd106c44f4d",
        "colab": {
          "base_uri": "https://localhost:8080/",
          "height": 34
        }
      },
      "source": [
        "b = wq.opt()\n",
        "b.qubo = [[1,0,0,-1],[0,0,0.5,-1],[0,0,0,-1],[0,0,0,1.5]]\n",
        "b.sa()"
      ],
      "execution_count": 6,
      "outputs": [
        {
          "output_type": "execute_result",
          "data": {
            "text/plain": [
              "[1, 1, 1, 1]"
            ]
          },
          "metadata": {
            "tags": []
          },
          "execution_count": 6
        }
      ]
    },
    {
      "cell_type": "markdown",
      "metadata": {
        "id": "SJ5BJf3E6ArS",
        "colab_type": "text"
      },
      "source": [
        "実際に、これは条件を満たしています。\n",
        "\n",
        "$$q_0*q_2=1*1=1=q_3$$\n",
        "\n",
        "全体のエネルギーの遷移は図で確認することができて下記のようになります。"
      ]
    },
    {
      "cell_type": "code",
      "metadata": {
        "id": "IIb4PqrFEzLs",
        "colab_type": "code",
        "outputId": "37e76e9d-0a4a-482e-c8e9-998cbf50f8f4",
        "colab": {
          "base_uri": "https://localhost:8080/",
          "height": 265
        }
      },
      "source": [
        "a.plot()"
      ],
      "execution_count": 7,
      "outputs": [
        {
          "output_type": "display_data",
          "data": {
            "image/png": "[encoded data removed]",
            "text/plain": [
              "<Figure size 432x288 with 1 Axes>"
            ]
          },
          "metadata": {
            "tags": []
          }
        }
      ]
    }
  ]
}