{
  "nbformat": 4,
  "nbformat_minor": 0,
  "metadata": {
    "colab": {
      "name": "028_BIL",
      "provenance": []
    },
    "kernelspec": {
      "name": "python3",
      "display_name": "Python 3"
    }
  },
  "cells": [
    {
      "cell_type": "markdown",
      "metadata": {
        "id": "37f1qQvLpWzM",
        "colab_type": "text"
      },
      "source": [
        "#整数計画問題 / Binary Integer Linear Programming\n",
        "バイナリ値からなるベクトルxについてSx=bという制約条件を満たす中で、c⋅xが最大となるxを求める。\n",
        "コスト関数は単純に上記の制約条件と最大にするコスト関数を繋げて、\n",
        "\n",
        "$$H = \\sum_{j=1}^m\\left[b_j-\\sum_{i=1}^N S_{ji}x_i\\right]^2 - B\\sum_{i=1}^Nc_ix_i$$\n",
        "\n"
      ]
    },
    {
      "cell_type": "markdown",
      "metadata": {
        "id": "hAKGp9-RpyJF",
        "colab_type": "text"
      },
      "source": [
        "##例題\n",
        "下記のような例題を用意します。\n",
        "\n",
        "$$\\begin{bmatrix}\n",
        "3&2&1\\\\5&2&3\n",
        "\\end{bmatrix}\n",
        "\\begin{bmatrix}\n",
        "x_1\\\\x_2\\\\x_3\n",
        "\\end{bmatrix}\n",
        "=\n",
        "\\begin{bmatrix}\n",
        "3\\\\5\n",
        "\\end{bmatrix}\n",
        "$$\n",
        "\n",
        "を満たす時、\n",
        "\n",
        "$$\n",
        "\\begin{bmatrix}\n",
        "1&2&1\n",
        "\\end{bmatrix}\n",
        "\\begin{bmatrix}\n",
        "x_1\\\\x_2\\\\x_3\n",
        "\\end{bmatrix}\n",
        "$$\n",
        "\n",
        "を最大にするようなベクトル$x$を求めます。\n"
      ]
    },
    {
      "cell_type": "markdown",
      "metadata": {
        "id": "Uy6U_6rIqLHH",
        "colab_type": "text"
      },
      "source": [
        "##第1項を計算する\n",
        "第1項目は$Sx=b$という条件を満たす組み合わせを指定します。\n",
        "まずはツールの準備から入り、指定の式を$b^2 - 2*b*A + A^2$の形にします。定数は無視して、$-2*b*A+A^2$をそれぞれ計算して足し合わせます。"
      ]
    },
    {
      "cell_type": "code",
      "metadata": {
        "id": "vvIRMcqho_Ld",
        "colab_type": "code",
        "colab": {
          "base_uri": "https://localhost:8080/",
          "height": 136
        },
        "outputId": "c87d76f8-7058-4026-f0d7-305592ac1500"
      },
      "source": [
        "!pip install -U blueqat"
      ],
      "execution_count": 1,
      "outputs": [
        {
          "output_type": "stream",
          "text": [
            "Collecting blueqat\n",
            "\u001b[?25l  Downloading https://files.pythonhosted.org/packages/bb/86/1b72a7cbe500b861d63e84cc6383fbf3730f08ae69fcd85146ae8e3b8873/blueqat-0.3.10-py3-none-any.whl (46kB)\n",
            "\r\u001b[K     |███████                         | 10kB 21.3MB/s eta 0:00:01\r\u001b[K     |██████████████                  | 20kB 6.5MB/s eta 0:00:01\r\u001b[K     |█████████████████████▏          | 30kB 9.1MB/s eta 0:00:01\r\u001b[K     |████████████████████████████▏   | 40kB 5.8MB/s eta 0:00:01\r\u001b[K     |████████████████████████████████| 51kB 3.8MB/s \n",
            "\u001b[?25hRequirement already satisfied, skipping upgrade: scipy>=1.1.0 in /usr/local/lib/python3.6/dist-packages (from blueqat) (1.3.3)\n",
            "Requirement already satisfied, skipping upgrade: numpy~=1.12 in /usr/local/lib/python3.6/dist-packages (from blueqat) (1.17.4)\n",
            "Installing collected packages: blueqat\n",
            "Successfully installed blueqat-0.3.10\n"
          ],
          "name": "stdout"
        }
      ]
    },
    {
      "cell_type": "code",
      "metadata": {
        "id": "EWvg3V3vqlBC",
        "colab_type": "code",
        "colab": {}
      },
      "source": [
        "import blueqat.opt as wq\n",
        "import numpy as np\n",
        "a = wq.opt()"
      ],
      "execution_count": 0,
      "outputs": []
    },
    {
      "cell_type": "code",
      "metadata": {
        "id": "ubiKxrvuqoCi",
        "colab_type": "code",
        "outputId": "b4ba8a64-549a-487f-c041-579ff96ad41c",
        "colab": {
          "base_uri": "https://localhost:8080/",
          "height": 68
        }
      },
      "source": [
        "A = [[3,2,1],[5,2,3]]\n",
        "b = [3,5]\n",
        "\n",
        "a.qubo = np.zeros((3,3))\n",
        "\n",
        "for i in range(len(b)):\n",
        "  a.qubo += -2*b[i]*np.diag(A[i]) + wq.sqr(A[i])\n",
        "\n",
        "print(a.qubo)\n"
      ],
      "execution_count": 3,
      "outputs": [
        {
          "output_type": "stream",
          "text": [
            "[[-34.  32.  36.]\n",
            " [  0. -24.  16.]\n",
            " [  0.   0. -26.]]\n"
          ],
          "name": "stdout"
        }
      ]
    },
    {
      "cell_type": "markdown",
      "metadata": {
        "id": "P01zzQ6MrtEO",
        "colab_type": "text"
      },
      "source": [
        "ここで一旦確認をしてみます。上記の条件を満たすのは、"
      ]
    },
    {
      "cell_type": "code",
      "metadata": {
        "id": "CiCLoHalrStB",
        "colab_type": "code",
        "outputId": "92de9d54-6384-4be3-b2df-a5eaba2206b2",
        "colab": {
          "base_uri": "https://localhost:8080/",
          "height": 34
        }
      },
      "source": [
        "a.sa()"
      ],
      "execution_count": 4,
      "outputs": [
        {
          "output_type": "execute_result",
          "data": {
            "text/plain": [
              "[1, 0, 0]"
            ]
          },
          "metadata": {
            "tags": []
          },
          "execution_count": 4
        }
      ]
    },
    {
      "cell_type": "code",
      "metadata": {
        "id": "PBn6sGCmrq6k",
        "colab_type": "code",
        "outputId": "93973ef5-29c6-4bc7-f738-1c8f2cbf867b",
        "colab": {
          "base_uri": "https://localhost:8080/",
          "height": 34
        }
      },
      "source": [
        "a.sa()"
      ],
      "execution_count": 6,
      "outputs": [
        {
          "output_type": "execute_result",
          "data": {
            "text/plain": [
              "[0, 1, 1]"
            ]
          },
          "metadata": {
            "tags": []
          },
          "execution_count": 6
        }
      ]
    },
    {
      "cell_type": "markdown",
      "metadata": {
        "id": "mNloFgUrrso7",
        "colab_type": "text"
      },
      "source": [
        "上記のように[0,1,1]や[1,0,0]がでてきました。"
      ]
    },
    {
      "cell_type": "markdown",
      "metadata": {
        "id": "hSCF36qsrRG7",
        "colab_type": "text"
      },
      "source": [
        "##次に第2項を計算する\n",
        "その次にもう１つのコスト関数を計算します。こちらは、"
      ]
    },
    {
      "cell_type": "code",
      "metadata": {
        "id": "1X4BrX2srO5S",
        "colab_type": "code",
        "outputId": "d8e25abb-0739-421c-c295-5b7b27cdd899",
        "colab": {
          "base_uri": "https://localhost:8080/",
          "height": 68
        }
      },
      "source": [
        "matrix2 = np.diag([1,2,1])\n",
        "print(matrix2)"
      ],
      "execution_count": 7,
      "outputs": [
        {
          "output_type": "stream",
          "text": [
            "[[1 0 0]\n",
            " [0 2 0]\n",
            " [0 0 1]]\n"
          ],
          "name": "stdout"
        }
      ]
    },
    {
      "cell_type": "markdown",
      "metadata": {
        "id": "Zkbs5pjFsPHL",
        "colab_type": "text"
      },
      "source": [
        "#QUBOをつなげて計算する\n",
        "これらをつなげて計算してみます。"
      ]
    },
    {
      "cell_type": "code",
      "metadata": {
        "id": "3tSYIYUIsT2i",
        "colab_type": "code",
        "outputId": "ecec2073-cf9e-4bb1-dd29-7b45d53026fc",
        "colab": {
          "base_uri": "https://localhost:8080/",
          "height": 34
        }
      },
      "source": [
        "B = 1\n",
        "a.qubo += - B * matrix2\n",
        "a.sa()"
      ],
      "execution_count": 8,
      "outputs": [
        {
          "output_type": "execute_result",
          "data": {
            "text/plain": [
              "[0, 1, 1]"
            ]
          },
          "metadata": {
            "tags": []
          },
          "execution_count": 8
        }
      ]
    },
    {
      "cell_type": "markdown",
      "metadata": {
        "id": "561L2mKAsynt",
        "colab_type": "text"
      },
      "source": [
        "答えは、[0,1,1]となりました。\n",
        "念のためコスト関数の推移も見てみます。"
      ]
    },
    {
      "cell_type": "code",
      "metadata": {
        "id": "BrqXVTEzsKBZ",
        "colab_type": "code",
        "outputId": "fc6aee21-eefb-430a-e479-c3dcadd9e262",
        "colab": {
          "base_uri": "https://localhost:8080/",
          "height": 265
        }
      },
      "source": [
        "a.plot()"
      ],
      "execution_count": 9,
      "outputs": [
        {
          "output_type": "display_data",
          "data": {
            "image/png": "[encoded data removed]",
            "text/plain": [
              "<Figure size 432x288 with 1 Axes>"
            ]
          },
          "metadata": {
            "tags": []
          }
        }
      ]
    }
  ]
}