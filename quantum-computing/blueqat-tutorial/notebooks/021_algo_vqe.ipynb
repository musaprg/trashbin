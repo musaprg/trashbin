{
  "nbformat": 4,
  "nbformat_minor": 0,
  "metadata": {
    "colab": {
      "name": "021_algo_vqe.ipynb",
      "version": "0.3.2",
      "provenance": [],
      "collapsed_sections": []
    },
    "kernelspec": {
      "display_name": "Python 3",
      "language": "python",
      "name": "python3"
    }
  },
  "cells": [
    {
      "metadata": {
        "colab_type": "text",
        "id": "NjHnSAbHrInP"
      },
      "cell_type": "markdown",
      "source": [
        "# VQE（量子変分）アルゴリズム\n",
        "現状の量子コンピュータはエラーが多いために、位相推定アルゴリズムをそのまま利用するには障壁があります。量子古典ハイブリッド計算で使えるVQEと呼ばれる手法が開発されました。"
      ]
    },
    {
      "metadata": {
        "id": "Ke7dyo7rFyUe",
        "colab_type": "text"
      },
      "cell_type": "markdown",
      "source": [
        "## VQEとは？\n",
        "位相推定アルゴリズムの代わりにあるハミルトニアンの固有値を求めるためのアルゴリズムです。\n",
        "固有値を求めるために量子コンピュータと古典コンピュータを交互に利用してパラメータを最適化します。\n"
      ]
    },
    {
      "metadata": {
        "id": "tQNIS0GPF1ja",
        "colab_type": "text"
      },
      "cell_type": "markdown",
      "source": [
        "## 最適化するパラメータとは？\n",
        "最適化するのは、波動関数に導入された回転角θです。θは連続的であればいいと思います。"
      ]
    },
    {
      "metadata": {
        "id": "5_HU7GuQF5QE",
        "colab_type": "text"
      },
      "cell_type": "markdown",
      "source": [
        "## どうやって最適化するのか\n",
        "最適化は非線形の古典の最適化アルゴリズムを使うのが一般的です。あるパラメータθで試した後に次のパラメータを試します。次のパラメータを試す際の選び方を古典の最適化アルゴリズム（ネルダーミードやベイズ最適化など）にお任せします。"
      ]
    },
    {
      "metadata": {
        "id": "PGBkYSP1F7yy",
        "colab_type": "text"
      },
      "cell_type": "markdown",
      "source": [
        "## 変分原理とは？\n",
        "E[ψ] = <ψ|H|ψ> >= E0\n",
        "\n",
        "適当な境界条件を持つ任意の状態|ψ>に対するハミルトニアンHの期待値Eは、基底状態のエネルギーE0よりも常に大きいか等しい。\n",
        "これを利用して、任意の状態でより基底状態に近いものを探索していきます。この任意の状態|ψ>の探索のためにパラメータθを導入して表現します。"
      ]
    },
    {
      "metadata": {
        "id": "pHiY5VMpF--h",
        "colab_type": "text"
      },
      "cell_type": "markdown",
      "source": [
        "## 実装方法\n",
        "適当なパラメータθを割り振った初期の波動関数・状態ベクトルを用意し、ハミルトニアンHを用意します。状態ベクトルにHを作用させて、最終的に出てきた<ψ|H|ψ>を測定します。今度はその結果を使って、次のパラメータθを決めて再度繰り返し、一定の値に収束するまで繰り返します。今回はRY回転を使って実装をしたいと思います。"
      ]
    },
    {
      "metadata": {
        "id": "COoXxmGVGEPQ",
        "colab_type": "text"
      },
      "cell_type": "markdown",
      "source": [
        "##ステップの確認\n",
        "ステップを確認します。\n",
        "１、状態ベクトルを初期化してRY(θ)回転を使って状態を操作する。\n",
        "２、求めたいハミルトニアンHを適用する\n",
        "３、測定してEを求める。\n",
        "４、以下いろんなθで繰り返し計算を行なってEの低いのを探す\n",
        "５、ある程度収束したら終了\n",
        "\n",
        "ステップは慣れればできそうです。今回はせっかくなのでθを0から2πまで離散的に変化させてみます。"
      ]
    },
    {
      "metadata": {
        "id": "r2hFBy0CGKE-",
        "colab_type": "text"
      },
      "cell_type": "markdown",
      "source": [
        "## ステップ１：RY(θ)回転\n",
        "まずは回転をしてみます。今回はnumpy使って離散値20個を用意します。\n",
        "回転角も離散値の参考で3番目の値を使ってみます。"
      ]
    },
    {
      "metadata": {
        "id": "S26G9sOIF1Eo",
        "colab_type": "code",
        "colab": {}
      },
      "cell_type": "code",
      "source": [
        "import numpy as np\n",
        "angle = np.linspace(0.0,2*np.pi,20)\n",
        "\n",
        "c = Circuit().ry(angle[3])[0]"
      ],
      "execution_count": 0,
      "outputs": []
    },
    {
      "metadata": {
        "id": "TKxqrMXPGQf-",
        "colab_type": "text"
      },
      "cell_type": "markdown",
      "source": [
        "## ステップ２：ハミルトニアンHを適用\n",
        "ハミルトニアンは自分の固有値を求めたい行列を入れますが、\n",
        "今回はハミルトニアンとしてZを用意してみたいと思います。"
      ]
    },
    {
      "metadata": {
        "id": "0vPE-g8WGM4g",
        "colab_type": "code",
        "colab": {}
      },
      "cell_type": "code",
      "source": [
        "c = Circuit().ry(angle[3])[0].z[0]"
      ],
      "execution_count": 0,
      "outputs": []
    },
    {
      "metadata": {
        "id": "T2E2OWK-GU-v",
        "colab_type": "text"
      },
      "cell_type": "markdown",
      "source": [
        "##ステップ３：測定してEを求める\n",
        "こちらの計算を実行してみます。"
      ]
    },
    {
      "metadata": {
        "id": "sXNoHDPdGTLD",
        "colab_type": "code",
        "colab": {
          "base_uri": "https://localhost:8080/",
          "height": 34
        },
        "outputId": "f3b324db-e8b9-4cf0-9618-bfc3ce884738"
      },
      "cell_type": "code",
      "source": [
        "c = Circuit().ry(angle[3])[0].z[0] \n",
        "c.run() "
      ],
      "execution_count": 23,
      "outputs": [
        {
          "output_type": "execute_result",
          "data": {
            "text/plain": [
              "array([ 0.87947375+0.j, -0.47594739+0.j])"
            ]
          },
          "metadata": {
            "tags": []
          },
          "execution_count": 23
        }
      ]
    },
    {
      "metadata": {
        "id": "JAT4zmuRGdkv",
        "colab_type": "text"
      },
      "cell_type": "markdown",
      "source": [
        "状態ベクトルが出ました。通常はサンプリングを通じてEを出しますが、今回は状態ベクトルから計算してしまいます。今回求めたいのは、\n",
        "\n",
        "<ψ|H|ψ>ですが、Zゲートをハミルトニアンとしたので、<ψ|[[1,0],[0,-1]]|ψ>を求めればよいことに。\n",
        "|0><0| = [[1,0],[0,0]] |1><1| = [[0,0],[0,1]] より、H = Z = |0><0| - |1><1|ということで、 測定結果0-測定結果1の分布を求めれば大丈夫そうです。 上記状態ベクトルでは、 0.87947375*0.87947375 - 0.47594739*0.47594739 = 0.5469481588912504 となります。 Blueqatコードでは、"
      ]
    },
    {
      "metadata": {
        "id": "R-VilAXkGa2C",
        "colab_type": "code",
        "colab": {
          "base_uri": "https://localhost:8080/",
          "height": 34
        },
        "outputId": "947951bb-b579-4e0d-8601-024529351bbe"
      },
      "cell_type": "code",
      "source": [
        "c = Circuit().ry(angle[3])[0].z[0] \n",
        "result = c.run()                                                                                                                    \n",
        "\n",
        "print(np.abs(result[0])*np.abs(result[0])-np.abs(result[1])*np.abs(result[1]))  "
      ],
      "execution_count": 24,
      "outputs": [
        {
          "output_type": "stream",
          "text": [
            "0.5469481581224267\n"
          ],
          "name": "stdout"
        }
      ]
    },
    {
      "metadata": {
        "id": "mWn9-lhNGi0k",
        "colab_type": "text"
      },
      "cell_type": "markdown",
      "source": [
        "## ステップ４、５：繰り返してみます。\n",
        "θを連続的に変化させてハミルトニアンを算出します。\n",
        "これをすべてのアングルθで行います。\n",
        "これまでのコードをまとめて掲載してみます。"
      ]
    },
    {
      "metadata": {
        "id": "uZCH9i0SGguG",
        "colab_type": "code",
        "colab": {
          "base_uri": "https://localhost:8080/",
          "height": 361
        },
        "outputId": "7331b630-34fd-407b-f516-fab1fffefc47"
      },
      "cell_type": "code",
      "source": [
        "from blueqat import Circuit\n",
        "import numpy as np\n",
        "import matplotlib.pyplot as plt \n",
        "\n",
        "angle = np.linspace(0.0,2*np.pi,20) \n",
        "data = [0 for i in range(20)] \n",
        "\n",
        "for i in range(20): \n",
        "  c = Circuit().ry(angle[i])[0].z[0] \n",
        "  result = c.run() \n",
        "  data[i] = np.abs(result[0])*np.abs(result[0])-np.abs(result[1])*np.abs(result[1]) \n",
        "\n",
        "plt.xlabel('Parameter value') \n",
        "plt.ylabel('Expectation value') \n",
        "plt.plot(angle, data) \n",
        "plt.show() "
      ],
      "execution_count": 25,
      "outputs": [
        {
          "output_type": "display_data",
          "data": {
            "image/png": "[encoded data removed]",
            "text/plain": [
              "<Figure size 576x396 with 1 Axes>"
            ]
          },
          "metadata": {
            "tags": []
          }
        }
      ]
    },
    {
      "metadata": {
        "id": "0tzqvE84Gn-K",
        "colab_type": "text"
      },
      "cell_type": "markdown",
      "source": [
        "求めたいminimum valueがπあたりに-1があるのが確認できます。"
      ]
    },
    {
      "metadata": {
        "id": "ID-6tiggGwGX",
        "colab_type": "text"
      },
      "cell_type": "markdown",
      "source": [
        "## さらに本格的に使うには\n",
        "Blueqatには上記のVQEをより本格的に実装しています。ハミルトニアンと呼ばれるときたいコスト関数を用意し、それをステップ数と一緒にvqeにかけます。\n"
      ]
    },
    {
      "metadata": {
        "id": "uLuzu8DxG5rI",
        "colab_type": "code",
        "colab": {
          "base_uri": "https://localhost:8080/",
          "height": 54
        },
        "outputId": "e5a7b268-0c86-4d24-934d-f8e55baebe93"
      },
      "cell_type": "code",
      "source": [
        "from blueqat import vqe\n",
        "from blueqat.pauli import qubo_bit as q\n",
        "\n",
        "hamiltonian = -3*q(0)-3*q(1)-3*q(2)-3*q(3)-3*q(4)+2*q(0)*q(1)+2*q(0)*q(2)+2*q(0)*q(3)+2*q(0)*q(4)+2*q(1)*q(2)+2*q(1)*q(3)+2*q(1)*q(4)+2*q(2)*q(3)+2*q(2)*q(4)+2*q(3)*q(4)\n",
        "step = 2\n",
        "\n",
        "result = vqe.Vqe(vqe.QaoaAnsatz(hamiltonian, step)).run()\n",
        "print(result.most_common(12))"
      ],
      "execution_count": 26,
      "outputs": [
        {
          "output_type": "stream",
          "text": [
            "(((1, 1, 0, 0, 0), 0.06688115611022268), ((1, 0, 0, 1, 0), 0.06688115611022268), ((1, 0, 1, 0, 0), 0.06688115611022265), ((0, 1, 1, 0, 0), 0.06688115611022265), ((0, 1, 0, 1, 0), 0.06688115611022265), ((0, 0, 1, 1, 0), 0.06688115611022265), ((1, 0, 0, 0, 1), 0.06688115611022265), ((0, 1, 0, 0, 1), 0.06688115611022265), ((0, 0, 1, 0, 1), 0.06688115611022265), ((0, 0, 0, 1, 1), 0.06688115611022265), ((0, 0, 0, 0, 1), 0.03201256823923941), ((1, 0, 0, 0, 0), 0.0320125682392394))\n"
          ],
          "name": "stdout"
        }
      ]
    }
  ]
}