{
  "nbformat": 4,
  "nbformat_minor": 0,
  "metadata": {
    "colab": {
      "name": "025_maxcut",
      "provenance": []
    },
    "kernelspec": {
      "name": "python3",
      "display_name": "Python 3"
    }
  },
  "cells": [
    {
      "cell_type": "markdown",
      "metadata": {
        "id": "W8ABqYBVVWte",
        "colab_type": "text"
      },
      "source": [
        "#maxcut\n",
        "頂点を２つのグループに分けるような辺の切り方のうち、一番最大数のものを探します。イジング問題で解くときには、隣り合う頂点同士がなるべく異なる符号に落ちるようにエネルギー関数の最小値を探していきます。今回、ノード間のエッジの重みは1として固定し、maxcutをときます。"
      ]
    },
    {
      "cell_type": "markdown",
      "metadata": {
        "id": "qDMqwQM30Xkb",
        "colab_type": "text"
      },
      "source": [
        "##maxcutの例題\n",
        "例題として5ノード、6エッジの下記のようなグラフを解いてみます。\n",
        "ノード間のエッジの重みはすべて+1とします。"
      ]
    },
    {
      "cell_type": "code",
      "metadata": {
        "id": "pu0aQ7u10ZJB",
        "colab_type": "code",
        "outputId": "a76816e8-172a-4808-ec78-f9e5030a7564",
        "colab": {
          "base_uri": "https://localhost:8080/",
          "height": 319
        }
      },
      "source": [
        "import networkx as nx\n",
        "import matplotlib.pyplot as plt\n",
        "\n",
        "options = {'node_color': '#efefef','node_size': 1200,'with_labels':'True'}\n",
        "\n",
        "G = nx.Graph()\n",
        "G.add_nodes_from([0,1,2,3,4])\n",
        "G.add_edges_from([(0,1),(0,3),(1,2),(2,3),(2,4),(3,4)])\n",
        "nx.draw(G, **options)"
      ],
      "execution_count": 2,
      "outputs": [
        {
          "output_type": "display_data",
          "data": {
            "image/png": "[encoded data removed]",
            "text/plain": [
              "<Figure size 432x288 with 1 Axes>"
            ]
          },
          "metadata": {
            "tags": []
          }
        }
      ]
    },
    {
      "cell_type": "markdown",
      "metadata": {
        "id": "Ops9t-5ZVaWW",
        "colab_type": "text"
      },
      "source": [
        "maxcutのコスト関数一般式は、頂点の量子ビットが{-1,1}をとりうるとして、\n",
        "\n",
        "$$E = -\\sum_{i,j}\\frac{1}{2}(1-q_iq_j)$$\n",
        "\n",
        "ノードが等しいとコストが高くなるようになっています。今回は５ノードあるので、コスト関数は下記のように代入できます。\n",
        "\n",
        "<img src=\"https://render.githubusercontent.com/render/math?math=E%20%3D%20-%5Cfrac%7B1%7D%7B2%7D%5Cbigl%5B(1-q_0q_1)%2B(1-q_0q_3)%2B(1-q_1q_2)%2B(1-q_2q_3)%2B(1-q_3q_4)%2B(1-q_2q_4)%20%20%5Cbigr%5D%5C%5C%0D%0A%3D%5Cfrac%7B1%7D%7B2%7D(q_0q_1%2Bq_0q_3%2Bq_1q_2%2Bq_2q_3%2Bq_3q_4%2Bq_2q_4)-3\">\n",
        "\n",
        "こちらをイジングに入れて計算します。普段はQUBOで{0,1}で計算を行いますが、今回は{-1,1}のまま計算して見ます。\n"
      ]
    },
    {
      "cell_type": "code",
      "metadata": {
        "id": "EBM3oJgSVSTA",
        "colab_type": "code",
        "colab": {
          "base_uri": "https://localhost:8080/",
          "height": 136
        },
        "outputId": "229eb151-236b-40d4-f6a0-f9a0491373bf"
      },
      "source": [
        "!pip install -U blueqat"
      ],
      "execution_count": 4,
      "outputs": [
        {
          "output_type": "stream",
          "text": [
            "Collecting blueqat\n",
            "\u001b[?25l  Downloading https://files.pythonhosted.org/packages/bb/86/1b72a7cbe500b861d63e84cc6383fbf3730f08ae69fcd85146ae8e3b8873/blueqat-0.3.10-py3-none-any.whl (46kB)\n",
            "\r\u001b[K     |███████                         | 10kB 25.8MB/s eta 0:00:01\r\u001b[K     |██████████████                  | 20kB 6.0MB/s eta 0:00:01\r\u001b[K     |█████████████████████▏          | 30kB 8.5MB/s eta 0:00:01\r\u001b[K     |████████████████████████████▏   | 40kB 5.7MB/s eta 0:00:01\r\u001b[K     |████████████████████████████████| 51kB 3.9MB/s \n",
            "\u001b[?25hRequirement already satisfied, skipping upgrade: numpy~=1.12 in /usr/local/lib/python3.6/dist-packages (from blueqat) (1.17.4)\n",
            "Requirement already satisfied, skipping upgrade: scipy>=1.1.0 in /usr/local/lib/python3.6/dist-packages (from blueqat) (1.3.3)\n",
            "Installing collected packages: blueqat\n",
            "Successfully installed blueqat-0.3.10\n"
          ],
          "name": "stdout"
        }
      ]
    },
    {
      "cell_type": "code",
      "metadata": {
        "id": "GbxWr2CKIFNE",
        "colab_type": "code",
        "outputId": "bfe6389a-559e-413c-b1b3-fc35b453fbe9",
        "colab": {
          "base_uri": "https://localhost:8080/",
          "height": 34
        }
      },
      "source": [
        "import blueqat.opt as wq\n",
        "import numpy as np\n",
        "a = wq.opt()\n",
        "a.J = [[0,0.5,0,0.5,0],[0,0,0.5,0,0],[0,0,0,0.5,0.5],[0,0,0,0,0.5],[0,0,0,0,0]]\n",
        "a.sa()"
      ],
      "execution_count": 8,
      "outputs": [
        {
          "output_type": "execute_result",
          "data": {
            "text/plain": [
              "[1, 0, 1, 0, 0]"
            ]
          },
          "metadata": {
            "tags": []
          },
          "execution_count": 8
        }
      ]
    },
    {
      "cell_type": "markdown",
      "metadata": {
        "id": "E5HHkYBTVZEk",
        "colab_type": "text"
      },
      "source": [
        "上記ノードは0番目と2番目が1、その他が0なので、これでとけました。\n",
        "\n",
        "<img src=\"https://github.com/Blueqat/Wildqat/blob/master/examples_ja/img/022_1.png?raw=1\">\n",
        "\n",
        "上記のように分割できます。\n",
        "以上でmaxcutがとけました。"
      ]
    }
  ]
}