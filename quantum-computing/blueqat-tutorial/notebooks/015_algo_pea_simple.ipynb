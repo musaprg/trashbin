{
  "nbformat": 4,
  "nbformat_minor": 0,
  "metadata": {
    "colab": {
      "name": "015_algo_pea_simple.ipynb",
      "version": "0.3.2",
      "provenance": [],
      "collapsed_sections": []
    },
    "kernelspec": {
      "display_name": "Python 3",
      "language": "python",
      "name": "python3"
    }
  },
  "cells": [
    {
      "metadata": {
        "colab_type": "text",
        "id": "NjHnSAbHrInP"
      },
      "cell_type": "markdown",
      "source": [
        "# 量子位相推定\n",
        "量子位相推定は、あるユニタリ変換に対する固有値の位相を求めるためのアルゴリズムです。\n",
        "U|ψ> = eiφ|ψ>\n",
        "\n",
        "今回はとある状態ベクトルを入力として位相を小数で求めるアルゴリズムをBlueqatで実装します。"
      ]
    },
    {
      "metadata": {
        "id": "CJhIv6UdASWQ",
        "colab_type": "text"
      },
      "cell_type": "markdown",
      "source": [
        "## 全体構成\n",
        "位相推定アルゴリズムは２パートからなります。\n",
        "前半のコントロールユニタリ変換のパートと、後半の逆量子フーリエ変換の部分です。\n",
        "2量子ビットからなる簡単な回路です。"
      ]
    },
    {
      "metadata": {
        "id": "D2WnjDMmEWOD",
        "colab_type": "code",
        "colab": {}
      },
      "cell_type": "code",
      "source": [
        "'''\n",
        "--H--*--H--\n",
        "--H--X-----\n",
        "'''"
      ],
      "execution_count": 0,
      "outputs": []
    },
    {
      "metadata": {
        "id": "oXg3hf3yAkMS",
        "colab_type": "text"
      },
      "cell_type": "markdown",
      "source": [
        "入力は2量子ビット目にあります。\n",
        "この場合にはHゲートをかけて、[1,1]の状態を用意します。\n",
        "ユニタリ変換としてCXを用意しました。こちらは、コントロールユニタリ変換として、\n",
        "X=[[0,1],[1,0]]のユニタリ変換を使います。\n",
        "\n",
        "求めたいものは、X=[[0,1],[1,0]]のユニタリ変換と[1,1]の固有ベクトルから固有値の位相を求めたいです。\n",
        "解析的に解くと、固有値は1となりますので、位相は0となるはずです。\n",
        "\n",
        "重ね合わせを作ってCXを適用し、逆フーリエ変換をかけますが、1量子ビットの場合はアダマールゲートと同じです。\n",
        "\n",
        "出てくる位相は、\n",
        "\n",
        "0.φ * 2π\n",
        "\n",
        "と小数点表記で得られますが、φは0のはずなので最終的に0が出てくるはずです。\n",
        "\n",
        "こちらを実行すると、"
      ]
    },
    {
      "metadata": {
        "id": "mV6JWcmHCMY2",
        "colab_type": "code",
        "colab": {
          "base_uri": "https://localhost:8080/",
          "height": 34
        },
        "outputId": "e5424a4c-fe74-4f51-aae9-3e74fe26f2e7"
      },
      "cell_type": "code",
      "source": [
        "from blueqat import Circuit\n",
        "Circuit(2).h[:].cx[0,1].h[0].m[:].run(shots=1)"
      ],
      "execution_count": 13,
      "outputs": [
        {
          "output_type": "execute_result",
          "data": {
            "text/plain": [
              "Counter({'01': 1})"
            ]
          },
          "metadata": {
            "tags": []
          },
          "execution_count": 13
        }
      ]
    },
    {
      "metadata": {
        "id": "U1uxGVsCCi85",
        "colab_type": "text"
      },
      "cell_type": "markdown",
      "source": [
        "よって、測定は0をとりますので、位相が正しく取れました。0.0なので0になります。\n",
        "\n",
        "続いて下記のような回路を見てみます。\n",
        "下記の回路は、HZによって準備される状態は、\n",
        "[1,-1]となります。\n",
        "\n",
        "求めたいものは、X=[[0,1],[1,0]]のユニタリ変換と[1,-1]の固有ベクトルから固有値の位相を求めたいです。\n",
        "解析的に解くと、固有値は-1となりますので、位相はπとなるはずです。\n",
        "出てくる位相は、\n",
        "\n",
        "0.φ * 2π\n",
        "\n",
        "と小数点表記で得られますが、φは5のはずなので最終的に1が出てくるはずです。"
      ]
    },
    {
      "metadata": {
        "id": "uEO1xB4OCkcK",
        "colab_type": "code",
        "colab": {}
      },
      "cell_type": "code",
      "source": [
        "'''\n",
        "--H-----*--H--\n",
        "--H--Z--X-----\n",
        "'''\n"
      ],
      "execution_count": 0,
      "outputs": []
    },
    {
      "metadata": {
        "id": "yd5MaoRKCuWS",
        "colab_type": "text"
      },
      "cell_type": "markdown",
      "source": [
        "こちらを実行して、"
      ]
    },
    {
      "metadata": {
        "id": "3eRpgppa_1FI",
        "colab_type": "code",
        "outputId": "090c5abe-c2d6-4e03-be38-906e11fc6fe4",
        "colab": {
          "base_uri": "https://localhost:8080/",
          "height": 34
        }
      },
      "cell_type": "code",
      "source": [
        "Circuit(2).h[:].z[1].cx[0,1].h[0].m[:].run(shots=1)"
      ],
      "execution_count": 19,
      "outputs": [
        {
          "output_type": "execute_result",
          "data": {
            "text/plain": [
              "Counter({'10': 1})"
            ]
          },
          "metadata": {
            "tags": []
          },
          "execution_count": 19
        }
      ]
    },
    {
      "metadata": {
        "id": "lP9JKP_xDgai",
        "colab_type": "text"
      },
      "cell_type": "markdown",
      "source": [
        "よって、測定は1をとりますので、位相が正しく取れました。0.5なので-1になります。\n",
        "\n",
        "このように用意された、もしくは作り出した量子状態とユニタリ変換から量子回路で位相を取り出すことができました。\n",
        "以上です。"
      ]
    }
  ]
}