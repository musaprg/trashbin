{
  "nbformat": 4,
  "nbformat_minor": 0,
  "metadata": {
    "colab": {
      "name": "045_weak_strong_cluster",
      "provenance": []
    },
    "kernelspec": {
      "name": "python3",
      "display_name": "Python 3"
    }
  },
  "cells": [
    {
      "cell_type": "markdown",
      "metadata": {
        "id": "B4jp_gQ2vwIc",
        "colab_type": "text"
      },
      "source": [
        "#Weak-Strong Cluster問題\n",
        "\n",
        "2015年にGoogleとNASAが共同でD-Waveマシンは既存マシンの１億倍高速という発表を行いました。その際に利用されたのが量子ビットのクラスタを作ってフリップさせるWeak-Strong Cluster問題です。今回は簡単なweak clusterとstrong clusterを作って見て計算を行います。\n",
        "\n",
        "論文は下記を参照します。\n",
        "\n",
        "What is the Computational Value of Finite Range Tunneling?\n",
        "\n",
        "https://arxiv.org/abs/1512.02206"
      ]
    },
    {
      "cell_type": "markdown",
      "metadata": {
        "id": "rWDMv2FuHktj",
        "colab_type": "text"
      },
      "source": [
        "##背景\n",
        "量子アニーリングは量子トンネル効果を利用した最適化マシンとして提案されていますが、ここでは、このトンネル効果がどのような計算上のメリットをもたらすかを検証しています。D-Wave2Xの量子アニーリングマシンは局所解同士を隔てるエネルギー障壁が高く、細い形状をしているような問題に対して有利で、Simulated Annealing(SA)にくらべても優位性があるといわれています。945量子ビットの場合で、SAにくらべて、およそ10^8倍高速（成功率99%）で、古典計算機でトンネル効果をシミュレートする量子モンテカルロ法（QMC）と比較しても同様に高速です。"
      ]
    },
    {
      "cell_type": "markdown",
      "metadata": {
        "id": "EoNt5UclIAnN",
        "colab_type": "text"
      },
      "source": [
        "##ハミルトニアンとSA、QA\n",
        "今回検証を行う際にシミュレーテッドアニーリング（以下SA）と量子アニーリング（今回は量子モンテカルロ法をつかっているので、以下QMC）が使用されています。\n",
        "\n",
        "ときたい問題は一緒で、ハミルトニアンと呼ばれるコスト関数を最小にするようにアルゴリズムが働き、その最小基底状態に至る過程がSAとQMCでは原理が異なります。\n",
        "\n",
        "SAでは熱をシミュレートして、熱で基底状態の探索を行います。一方QMCでは熱の代わりに磁力を使って、量子トンネル効果を活用しながら探索を行います。\n",
        "\n",
        "SAではあるコスト関数がある場合、グラフの起伏をきちんとなぞるようにエネルギー障壁（以下エナジーバリア）を超えて探索を行うためエネルギー関数のコストをあげて探索を行わないといけませんが、QMCの場合にはトンネル効果によりエナジーバリアを越えるために熱のコストを上げる必要がなく、確率的にトンネル効果で起伏の向こう側に到達できると考えられます。\n",
        "\n",
        "これらのエナジーバリアをトンネル効果で越える条件もありますので、できるだけエナジーバリアの高さが高くて、障壁の厚みが薄い方が確率的に超えやすいので、SAで行う場合には、かなり条件が厳しく、QMCや量子アニーリングに有利な条件となります。この条件を人為的に問題を作ることで、SAに対して速度優位性を持たせようという検証です。\n",
        "\n",
        "つまり、求めたいコスト関数に高くて薄いエナジーバリアがたくさんあるほどD-WaveマシンやQMCアルゴリズムが有利になると推測されます。"
      ]
    },
    {
      "cell_type": "markdown",
      "metadata": {
        "id": "yyRxj2Z_ww8R",
        "colab_type": "text"
      },
      "source": [
        "##Weak-Strong Cluster問題とは\n",
        "Weak-Strong Clusterという２つの量子ビットのクラスターを繋げる問題です。D-Waveはキメラグラフという接続を使用しており、8量子ビットで１ユニットセルという単位です。このユニットセルを２つ用意した、16量子ビットの２つのクラスターを構成する問題を用意しています。\n",
        "\n",
        "<img src='https://github.com/Blueqat/Wildqat/blob/master/examples_ja/img/023_1.png?raw=1'>\n",
        "\n",
        "\n",
        "全ての量子ビットはキメラグラフで接続されており、ferromagneticカップリングで結合されています。値が同じになるような結合です。一方局所磁場と呼ばれる量子ビットが-1か+1になりやすいように設定されたパラメータが工夫されています。右側のクラスターはすべてh2=−1という値が設定されている一方で、左側のクラスターの量子ビットにはh1=0.44というように設定されています。これにより、計算過程において、左側の量子ビットがまとめて8個同時にフリップして右側のクラスターと揃うという過程がおきます。局所磁場の値が、左がweak-clusterで右がstrong-clusterでweak-strong cluster問題です。\n",
        "\n",
        "これをさらに巨大につなげることで大きなクラスタを作ることができています。クラスター16量子ビットの組みを複数用意し、strong-cluster同士を4量子ビットの結合でferro/anti-ferroをランダムで+1or-1でつなぐことで巨大なweak-strong clusterを作ったとのこと。\n",
        "\n",
        "<img src='https://github.com/Blueqat/Wildqat/blob/master/examples_ja/img/023_2.png?raw=1'>\n",
        "引用：https://arxiv.org/abs/1512.02206\n",
        "\n",
        "D-Waveにはところどころ不良量子ビットもあるので、それを避けるようにクラスターを配置し、上記の巨大クラスター構築では、黒丸が-1のstrong cluster。グレーが0.44のweak cluster。青い接続がferroで赤い接続がanti-ferroとなっています。"
      ]
    },
    {
      "cell_type": "markdown",
      "metadata": {
        "id": "0NYjZb9tIa7v",
        "colab_type": "text"
      },
      "source": [
        "##実験の結果\n",
        "結果1億倍程度の速度差が生まれたとなっています。参考は下図。\n",
        "\n",
        "<img src='https://github.com/Blueqat/Wildqat/blob/master/examples_ja/img/023_4.png?raw=1'>\n",
        "引用：https://arxiv.org/abs/1512.02206\n"
      ]
    },
    {
      "cell_type": "markdown",
      "metadata": {
        "id": "tpAas2fsInDZ",
        "colab_type": "text"
      },
      "source": [
        "##部分的回路の実装\n",
        "少し実際のアルゴリズムでやって見ます。実用的に2クラスタを解いて見ます。とりあえず16量子ビットのクラスタを今回は検証して見たいと思います。\n",
        "\n",
        "まず面白いのは、量子ビット同士の結合がすべてferromagneticということです。設定する値は論文と符号が逆ですが、すべて-1を入れます。\n",
        "\n",
        "\n",
        "上記量子ビットで今回の実験の肝は量子ビットの局所磁場を設定するところで、上記オレンジの右側のクラスターの量子ビットの局所磁場の設定をすべて+1に。上記水色の左側のクラスターの量子ビットの局所磁場の設定を全て-0.44にします。また、便宜的に１６量子ビットに通し番号をふりました。局所磁場はh0からh15まで、量子ビット間の相互作用強度はJijの表記をJ0,4のように量子ビットの番号で表現します。\n",
        "\n",
        "<img src='https://github.com/Blueqat/Wildqat/blob/master/examples_ja/img/023_1.png?raw=1'>\n",
        "\n",
        "まずは何も考えずにSAをかけて見たいと思います。"
      ]
    },
    {
      "cell_type": "markdown",
      "metadata": {
        "id": "Mwa47MA3I7DM",
        "colab_type": "text"
      },
      "source": [
        "##キメラグラフの実装\n",
        "キメラグラフでの結合係数の決定をします。今回はせいぜい16量子ビットなので、そのまま16*16のmatrixを作って実現して見ます。wildqatに下記のQUBOmatrixをいれることで計算を行うことができます。\n",
        "\n",
        "<img src='https://github.com/Blueqat/Wildqat/blob/master/examples_ja/img/023_5.png?raw=1'>\n",
        "\n",
        "オレンジの-1がユニットセル内の16の結合。クラスタが２つあるので、合計32のユニットセル内部の結合があります。次に赤の-0.44はクラスタ1の局所磁場。青の+1はクラスタ2の局所磁場。紫はクラスタ間の-1の結合を表しています。論文とwildqatはプラスマイナスの符号が逆になっています。"
      ]
    },
    {
      "cell_type": "markdown",
      "metadata": {
        "id": "2MhUPsJNJbE6",
        "colab_type": "text"
      },
      "source": [
        "##実行して見る\n",
        "こちらをwildqatに入力して実行してみます。"
      ]
    },
    {
      "cell_type": "code",
      "metadata": {
        "id": "z3srch2Mvt9h",
        "colab_type": "code",
        "colab": {
          "base_uri": "https://localhost:8080/",
          "height": 136
        },
        "outputId": "074a7119-f32e-4930-9bad-a2d420995868"
      },
      "source": [
        "!pip install blueqat"
      ],
      "execution_count": 1,
      "outputs": [
        {
          "output_type": "stream",
          "text": [
            "Collecting blueqat\n",
            "\u001b[?25l  Downloading https://files.pythonhosted.org/packages/bb/86/1b72a7cbe500b861d63e84cc6383fbf3730f08ae69fcd85146ae8e3b8873/blueqat-0.3.10-py3-none-any.whl (46kB)\n",
            "\r\u001b[K     |███████                         | 10kB 19.5MB/s eta 0:00:01\r\u001b[K     |██████████████                  | 20kB 1.8MB/s eta 0:00:01\r\u001b[K     |█████████████████████▏          | 30kB 2.6MB/s eta 0:00:01\r\u001b[K     |████████████████████████████▏   | 40kB 1.7MB/s eta 0:00:01\r\u001b[K     |████████████████████████████████| 51kB 1.7MB/s \n",
            "\u001b[?25hRequirement already satisfied: scipy>=1.1.0 in /usr/local/lib/python3.6/dist-packages (from blueqat) (1.3.3)\n",
            "Requirement already satisfied: numpy~=1.12 in /usr/local/lib/python3.6/dist-packages (from blueqat) (1.17.4)\n",
            "Installing collected packages: blueqat\n",
            "Successfully installed blueqat-0.3.10\n"
          ],
          "name": "stdout"
        }
      ]
    },
    {
      "cell_type": "code",
      "metadata": {
        "id": "f7kzyTQ5Jq7u",
        "colab_type": "code",
        "outputId": "5674e7b9-44b5-4b90-8e57-5252bb9a7b0e",
        "colab": {
          "base_uri": "https://localhost:8080/",
          "height": 34
        }
      },
      "source": [
        "import blueqat.opt as wq\n",
        "import numpy as np\n",
        "a = wq.opt()\n",
        "a.J = np.zeros((16,16))\n",
        "\n",
        "for i in range(8):\n",
        "  a.J[i][i] = -0.44\n",
        "\n",
        "for i in range(8,16):\n",
        "  a.J[i][i] = 1\n",
        "\n",
        "for i in range(4,8):\n",
        "  for j in range(0,4):\n",
        "    a.J[j][i] = -1\n",
        "    \n",
        "for i in range(12,16):\n",
        "  for j in range(8,12):\n",
        "    a.J[j][i] = -1\n",
        "\n",
        "a.J[4][12] = -1\n",
        "a.J[5][13] = -1\n",
        "a.J[6][14] = -1\n",
        "a.J[7][15] = -1\n",
        "\n",
        "a.sa()\n"
      ],
      "execution_count": 5,
      "outputs": [
        {
          "output_type": "execute_result",
          "data": {
            "text/plain": [
              "[0, 0, 0, 0, 0, 0, 0, 0, 0, 0, 0, 0, 0, 0, 0, 0]"
            ]
          },
          "metadata": {
            "tags": []
          },
          "execution_count": 5
        }
      ]
    },
    {
      "cell_type": "markdown",
      "metadata": {
        "id": "6wNCtk5MNGxH",
        "colab_type": "text"
      },
      "source": [
        "すべて0になりました。時々実行すると左側だけすべて1となり、右側が0となる局所解にも落ちました。"
      ]
    },
    {
      "cell_type": "code",
      "metadata": {
        "id": "693RJ_6YMony",
        "colab_type": "code",
        "outputId": "c5abd1d1-ed35-4886-f61e-64b514778197",
        "colab": {
          "base_uri": "https://localhost:8080/",
          "height": 34
        }
      },
      "source": [
        "a.sa()"
      ],
      "execution_count": 6,
      "outputs": [
        {
          "output_type": "execute_result",
          "data": {
            "text/plain": [
              "[1, 1, 1, 1, 1, 1, 1, 1, 0, 0, 0, 0, 0, 0, 0, 0]"
            ]
          },
          "metadata": {
            "tags": []
          },
          "execution_count": 6
        }
      ]
    },
    {
      "cell_type": "markdown",
      "metadata": {
        "id": "eSAE9Dphvuij",
        "colab_type": "text"
      },
      "source": [
        "##参考にD-Wave実機での実行結果\n",
        "また、D-Wave本体でもやってみました。パラメータは論文と一緒です。\n",
        "\n",
        "<img src='https://github.com/Blueqat/Wildqat/blob/master/examples_ja/img/023_6.png?raw=1'>\n",
        "\n",
        "成功率98.6%で基底状態です。論文とほぼ同じ。shotは1000回にして見ました。\n",
        "\n",
        "この問題はぜひ興味ある人は実装が難しくないので小さな問題からチャレンジして、大きな問題にチャレンジして欲しいです。実用というよりも研究の要素がとても大きかったと思います。正直SAでは局所解から最適解への相転移は容易ではないと思います。その辺りがD-WaveやQMCなどの量子アルゴリズムの利点なのかなと思いました。すべては左側のクラスターの量子ビットの局所磁場h0=−0.44という数字がポイントになるので、この値を調整して見ても勉強になるかと思います。"
      ]
    }
  ]
}