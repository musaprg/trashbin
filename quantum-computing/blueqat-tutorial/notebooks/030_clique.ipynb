{
  "nbformat": 4,
  "nbformat_minor": 0,
  "metadata": {
    "colab": {
      "name": "030_clique",
      "provenance": []
    },
    "kernelspec": {
      "name": "python3",
      "display_name": "Python 3"
    }
  },
  "cells": [
    {
      "cell_type": "markdown",
      "metadata": {
        "id": "8Rx4KF4iAmDm",
        "colab_type": "text"
      },
      "source": [
        "#クリーク問題\n",
        "クリーク問題は、グラフ理論において、グラフ中のクリーク（任意の二頂点間に枝があるような頂点集合）を見つける問題。下記はグラフ中にKのクリークが存在するかどうかをみつけるコスト関数です。1項目は頂点数をKに制約する条件。2項目のBで囲まれた部分は選んだ頂点が完全グラフを構成している場合にコストがもっとも小さくなるようなエッジの数の条件です。クリーク数がKのものが存在する場合、コスト関数E=0となります。\n",
        "\n",
        "$$E = \\left( K - \\sum_vx_v\\right)^2 + B \\left[ \\frac{K(K-1)}{2} - \\sum_{(u,v)\\in E}x_ux_v\\right]$$"
      ]
    },
    {
      "cell_type": "markdown",
      "metadata": {
        "id": "lnhtYjoyApv5",
        "colab_type": "text"
      },
      "source": [
        "##例題\n",
        "下記のように6つのノードのネットワーク構造からクリーク数3を探します。"
      ]
    },
    {
      "cell_type": "code",
      "metadata": {
        "id": "itVMcA2vwRLe",
        "colab_type": "code",
        "outputId": "9359a82d-e770-426b-f97f-2e65b0ac3bd4",
        "colab": {
          "base_uri": "https://localhost:8080/",
          "height": 319
        }
      },
      "source": [
        "import networkx as nx\n",
        "import matplotlib.pyplot as plt\n",
        "\n",
        "options = {'node_color': '#efefef','node_size': 1200,'with_labels':'True'}\n",
        "\n",
        "G = nx.Graph()\n",
        "G.add_nodes_from(nx.path_graph(6))\n",
        "G.add_edges_from([(0,1),(0,4),(1,2),(1,4),(2,3),(3,4),(3,5)])\n",
        "nx.draw(G, **options)"
      ],
      "execution_count": 1,
      "outputs": [
        {
          "output_type": "display_data",
          "data": {
            "image/png": "[encoded data removed]",
            "text/plain": [
              "<Figure size 432x288 with 1 Axes>"
            ]
          },
          "metadata": {
            "tags": []
          }
        }
      ]
    },
    {
      "cell_type": "markdown",
      "metadata": {
        "id": "SUSDkl76wFLj",
        "colab_type": "text"
      },
      "source": [
        "今回はノード数が6なので、6量子ビット用意します。次に今回はクリーク数3ということで、上記の式のK=3とします。今回も少し工夫してみます。上記の式は、\n",
        "\n",
        "$$E = \\left( 3 - \\sum_v x_v \\right)^2 + B\\left[ \\frac{3(3-1)}{2} - \\sum_{(u,v)\\in E} x_u x_v\\right]\\\\\n",
        "= \\left( 3 - \\sum_{v=0}x_v \\right)^2 + B (3-x_0x_4-x_0x_1-x_1x_4-x_1x_2-x_2x_3-x_3x_4-x_3x_5)$$\n",
        "\n",
        "1項目と2項目を別々に構築して足し合わせてみます。1項目の方は$9-6A+A^2$という形に変形できますので、機能をうまく使って行列計算で処理できます。定数項は無視します。また、2項目は手作業で作ってしまいます。まずツールをインストールして準備します。また、numpyを使いますので、それも準備しておきます。"
      ]
    },
    {
      "cell_type": "code",
      "metadata": {
        "id": "2j9-mcukAk6E",
        "colab_type": "code",
        "colab": {
          "base_uri": "https://localhost:8080/",
          "height": 136
        },
        "outputId": "c27506ec-607a-40ec-b37c-b58a2b07dba6"
      },
      "source": [
        "!pip install -U blueqat"
      ],
      "execution_count": 2,
      "outputs": [
        {
          "output_type": "stream",
          "text": [
            "Collecting blueqat\n",
            "\u001b[?25l  Downloading https://files.pythonhosted.org/packages/bb/86/1b72a7cbe500b861d63e84cc6383fbf3730f08ae69fcd85146ae8e3b8873/blueqat-0.3.10-py3-none-any.whl (46kB)\n",
            "\r\u001b[K     |███████                         | 10kB 21.7MB/s eta 0:00:01\r\u001b[K     |██████████████                  | 20kB 6.6MB/s eta 0:00:01\r\u001b[K     |█████████████████████▏          | 30kB 9.3MB/s eta 0:00:01\r\u001b[K     |████████████████████████████▏   | 40kB 5.9MB/s eta 0:00:01\r\u001b[K     |████████████████████████████████| 51kB 3.9MB/s \n",
            "\u001b[?25hRequirement already satisfied, skipping upgrade: numpy~=1.12 in /usr/local/lib/python3.6/dist-packages (from blueqat) (1.17.4)\n",
            "Requirement already satisfied, skipping upgrade: scipy>=1.1.0 in /usr/local/lib/python3.6/dist-packages (from blueqat) (1.3.3)\n",
            "Installing collected packages: blueqat\n",
            "Successfully installed blueqat-0.3.10\n"
          ],
          "name": "stdout"
        }
      ]
    },
    {
      "cell_type": "code",
      "metadata": {
        "id": "xGqQ5yWHDD7m",
        "colab_type": "code",
        "colab": {}
      },
      "source": [
        "import blueqat.opt as wq\n",
        "import numpy as np\n",
        "a = wq.opt()"
      ],
      "execution_count": 0,
      "outputs": []
    },
    {
      "cell_type": "markdown",
      "metadata": {
        "id": "StZl09fFDum4",
        "colab_type": "text"
      },
      "source": [
        "次に$x_0+x_1+x_2+x_3+x_4+x_5$の係数を見ると全て1なので、これを対角行列で用意します。"
      ]
    },
    {
      "cell_type": "code",
      "metadata": {
        "id": "7Rg6AmpeDLn4",
        "colab_type": "code",
        "outputId": "7b8ab082-e85c-47d0-f6d1-443b724f4bf3",
        "colab": {
          "base_uri": "https://localhost:8080/",
          "height": 119
        }
      },
      "source": [
        "A = [1,1,1,1,1,1]\n",
        "print(np.diag(A))"
      ],
      "execution_count": 4,
      "outputs": [
        {
          "output_type": "stream",
          "text": [
            "[[1 0 0 0 0 0]\n",
            " [0 1 0 0 0 0]\n",
            " [0 0 1 0 0 0]\n",
            " [0 0 0 1 0 0]\n",
            " [0 0 0 0 1 0]\n",
            " [0 0 0 0 0 1]]\n"
          ],
          "name": "stdout"
        }
      ]
    },
    {
      "cell_type": "markdown",
      "metadata": {
        "id": "ywjdYLqdD0RH",
        "colab_type": "text"
      },
      "source": [
        "そしてこのAを使って、1項目の$-6A+A^2$を簡単に計算してみます。"
      ]
    },
    {
      "cell_type": "code",
      "metadata": {
        "id": "H7lwI5qyDr_i",
        "colab_type": "code",
        "outputId": "9996c943-501c-4b81-c147-db09e8b44eb6",
        "colab": {
          "base_uri": "https://localhost:8080/",
          "height": 119
        }
      },
      "source": [
        "print(wq.sqr(A))"
      ],
      "execution_count": 5,
      "outputs": [
        {
          "output_type": "stream",
          "text": [
            "[[1 2 2 2 2 2]\n",
            " [0 1 2 2 2 2]\n",
            " [0 0 1 2 2 2]\n",
            " [0 0 0 1 2 2]\n",
            " [0 0 0 0 1 2]\n",
            " [0 0 0 0 0 1]]\n"
          ],
          "name": "stdout"
        }
      ]
    },
    {
      "cell_type": "markdown",
      "metadata": {
        "id": "L2hD-D_iE8dc",
        "colab_type": "text"
      },
      "source": [
        "これらを足し合わせると最初の項になります。"
      ]
    },
    {
      "cell_type": "code",
      "metadata": {
        "id": "MySUFwyDEC4p",
        "colab_type": "code",
        "outputId": "f4ceaff5-fa70-49f5-ecf0-60e2c4040ac4",
        "colab": {
          "base_uri": "https://localhost:8080/",
          "height": 119
        }
      },
      "source": [
        "matrix1 = -6*np.diag(A)+wq.sqr(A)\n",
        "print(matrix1)"
      ],
      "execution_count": 6,
      "outputs": [
        {
          "output_type": "stream",
          "text": [
            "[[-5  2  2  2  2  2]\n",
            " [ 0 -5  2  2  2  2]\n",
            " [ 0  0 -5  2  2  2]\n",
            " [ 0  0  0 -5  2  2]\n",
            " [ 0  0  0  0 -5  2]\n",
            " [ 0  0  0  0  0 -5]]\n"
          ],
          "name": "stdout"
        }
      ]
    },
    {
      "cell_type": "markdown",
      "metadata": {
        "id": "bRxP_o-3FQ_V",
        "colab_type": "text"
      },
      "source": [
        "次に2項目を手入力します。Bは0.8でやってみます。"
      ]
    },
    {
      "cell_type": "code",
      "metadata": {
        "id": "1csq8TUlFJmd",
        "colab_type": "code",
        "outputId": "300bcadd-ed8f-454a-d7b0-9f6221917a6a",
        "colab": {
          "base_uri": "https://localhost:8080/",
          "height": 119
        }
      },
      "source": [
        "B = 0.8\n",
        "matrix2 = B*np.asarray([[0,-1,0,0,-1,0],[0,0,-1,0,-1,0],[0,0,0,-1,0,0],[0,0,0,0,-1,-1],[0,0,0,0,0,0],[0,0,0,0,0,0]])\n",
        "print(matrix2)"
      ],
      "execution_count": 7,
      "outputs": [
        {
          "output_type": "stream",
          "text": [
            "[[ 0.  -0.8  0.   0.  -0.8  0. ]\n",
            " [ 0.   0.  -0.8  0.  -0.8  0. ]\n",
            " [ 0.   0.   0.  -0.8  0.   0. ]\n",
            " [ 0.   0.   0.   0.  -0.8 -0.8]\n",
            " [ 0.   0.   0.   0.   0.   0. ]\n",
            " [ 0.   0.   0.   0.   0.   0. ]]\n"
          ],
          "name": "stdout"
        }
      ]
    },
    {
      "cell_type": "markdown",
      "metadata": {
        "id": "yDtXrpk7F8iJ",
        "colab_type": "text"
      },
      "source": [
        "最後にこれらを足し合わせて計算をします。"
      ]
    },
    {
      "cell_type": "code",
      "metadata": {
        "id": "ndyceaMVF1G0",
        "colab_type": "code",
        "outputId": "5c67e5b7-c536-4b66-dead-17b7977eb856",
        "colab": {
          "base_uri": "https://localhost:8080/",
          "height": 136
        }
      },
      "source": [
        "a.qubo = matrix1 + matrix2\n",
        "print(a.qubo)\n",
        "a.sa()"
      ],
      "execution_count": 8,
      "outputs": [
        {
          "output_type": "stream",
          "text": [
            "[[-5.   1.2  2.   2.   1.2  2. ]\n",
            " [ 0.  -5.   1.2  2.   1.2  2. ]\n",
            " [ 0.   0.  -5.   1.2  2.   2. ]\n",
            " [ 0.   0.   0.  -5.   1.2  1.2]\n",
            " [ 0.   0.   0.   0.  -5.   2. ]\n",
            " [ 0.   0.   0.   0.   0.  -5. ]]\n"
          ],
          "name": "stdout"
        },
        {
          "output_type": "execute_result",
          "data": {
            "text/plain": [
              "[1, 1, 0, 0, 1, 0]"
            ]
          },
          "metadata": {
            "tags": []
          },
          "execution_count": 8
        }
      ]
    },
    {
      "cell_type": "markdown",
      "metadata": {
        "id": "EDoWV5O-GK8A",
        "colab_type": "text"
      },
      "source": [
        "上記で実際に生成されたQUBO、実行時間、最終的な解が得られました。\n",
        "上記からの1番目、2番目、5番目の量子ビットが1ですので、\n",
        "クリーク数3は上記量子ビット間にあるということがQUBOで導きだせました。\n",
        "念のため最終的に生成されたイジングマトリックスを確認するには、\n"
      ]
    },
    {
      "cell_type": "code",
      "metadata": {
        "id": "TEEFGW5FGCM6",
        "colab_type": "code",
        "outputId": "4c284811-ff5e-4442-ecb3-62b4d5b3c9ff",
        "colab": {
          "base_uri": "https://localhost:8080/",
          "height": 119
        }
      },
      "source": [
        "print(a.J)"
      ],
      "execution_count": 9,
      "outputs": [
        {
          "output_type": "stream",
          "text": [
            "[[-0.4  0.3  0.5  0.5  0.3  0.5]\n",
            " [ 0.  -0.6  0.3  0.5  0.3  0.5]\n",
            " [ 0.   0.  -0.4  0.3  0.5  0.5]\n",
            " [ 0.   0.   0.  -0.6  0.3  0.3]\n",
            " [ 0.   0.   0.   0.  -0.6  0.5]\n",
            " [ 0.   0.   0.   0.   0.  -0.2]]\n"
          ],
          "name": "stdout"
        }
      ]
    },
    {
      "cell_type": "markdown",
      "metadata": {
        "id": "4e4zwt5aGgLT",
        "colab_type": "text"
      },
      "source": [
        "コスト関数の変遷も見てみます。"
      ]
    },
    {
      "cell_type": "code",
      "metadata": {
        "id": "mMQ53qfFGG4H",
        "colab_type": "code",
        "outputId": "ee1c246b-9585-4d03-d368-00be1a1120e5",
        "colab": {
          "base_uri": "https://localhost:8080/",
          "height": 265
        }
      },
      "source": [
        "a.plot()"
      ],
      "execution_count": 10,
      "outputs": [
        {
          "output_type": "display_data",
          "data": {
            "image/png": "[encoded data removed]",
            "text/plain": [
              "<Figure size 432x288 with 1 Axes>"
            ]
          },
          "metadata": {
            "tags": []
          }
        }
      ]
    },
    {
      "cell_type": "markdown",
      "metadata": {
        "id": "4Kcs5AYQGpgE",
        "colab_type": "text"
      },
      "source": [
        "以上です。"
      ]
    }
  ]
}