{
  "nbformat": 4,
  "nbformat_minor": 0,
  "metadata": {
    "colab": {
      "name": "047_QUBO_to_Pauli",
      "provenance": []
    },
    "kernelspec": {
      "name": "python3",
      "display_name": "Python 3"
    }
  },
  "cells": [
    {
      "cell_type": "markdown",
      "metadata": {
        "id": "XH6JnQKHOpNJ",
        "colab_type": "text"
      },
      "source": [
        "#QUBOを量子ゲートモデルシミュレータに自動変換\n",
        "これまではQUBOをベースとしたイジング問題を解いてきました。これらを解く際にはQUBOmatrixを作成し、内部シミュレーションもしくは外部のシミュレーションを活用できますが、今回は量子ゲートモデルでも同様の計算ができるため、自動変換機能を使って計算して見ます。"
      ]
    },
    {
      "cell_type": "markdown",
      "metadata": {
        "id": "IDK-PyXWO8N6",
        "colab_type": "text"
      },
      "source": [
        "#Blueqatの準備\n",
        "今回は量子ゲートシミュレータのBlueqatを使用します。"
      ]
    },
    {
      "cell_type": "code",
      "metadata": {
        "id": "yvv5gMdJOoIZ",
        "colab_type": "code",
        "colab": {
          "base_uri": "https://localhost:8080/",
          "height": 136
        },
        "outputId": "22660915-ede5-42c2-93a1-6fefd4eb42ce"
      },
      "source": [
        "!pip install blueqat"
      ],
      "execution_count": 2,
      "outputs": [
        {
          "output_type": "stream",
          "text": [
            "Collecting blueqat\n",
            "\u001b[?25l  Downloading https://files.pythonhosted.org/packages/bb/86/1b72a7cbe500b861d63e84cc6383fbf3730f08ae69fcd85146ae8e3b8873/blueqat-0.3.10-py3-none-any.whl (46kB)\n",
            "\r\u001b[K     |███████                         | 10kB 19.1MB/s eta 0:00:01\r\u001b[K     |██████████████                  | 20kB 1.8MB/s eta 0:00:01\r\u001b[K     |█████████████████████▏          | 30kB 2.6MB/s eta 0:00:01\r\u001b[K     |████████████████████████████▏   | 40kB 1.7MB/s eta 0:00:01\r\u001b[K     |████████████████████████████████| 51kB 1.7MB/s \n",
            "\u001b[?25hRequirement already satisfied: scipy>=1.1.0 in /usr/local/lib/python3.6/dist-packages (from blueqat) (1.3.3)\n",
            "Requirement already satisfied: numpy~=1.12 in /usr/local/lib/python3.6/dist-packages (from blueqat) (1.17.4)\n",
            "Installing collected packages: blueqat\n",
            "Successfully installed blueqat-0.3.10\n"
          ],
          "name": "stdout"
        }
      ]
    },
    {
      "cell_type": "markdown",
      "metadata": {
        "id": "NR4dHQC8O7x8",
        "colab_type": "text"
      },
      "source": [
        "#例題\n",
        "早速やってみます。Wildqatの機能で、N量子ビットからK量子ビットを選ぶという関数を使って自動的にQUBOを作った上に、それをBlueqatに計算できるように変換して計算して見ます。まずは4量子ビットから1量子ビットを選ぶというシミュレーションをしてみます。"
      ]
    },
    {
      "cell_type": "code",
      "metadata": {
        "id": "HmUcF-HxPghV",
        "colab_type": "code",
        "outputId": "844fa81b-7ea8-488c-b42e-bf7c5b6c41ea",
        "colab": {
          "base_uri": "https://localhost:8080/",
          "height": 54
        }
      },
      "source": [
        "import blueqat.opt as wq\n",
        "from blueqat import vqe\n",
        "\n",
        "qubo = wq.pauli(wq.sel(4,1))\n",
        "step = 4\n",
        "result = vqe.Vqe(vqe.QaoaAnsatz(qubo,step)).run()\n",
        "print(result.most_common(5))"
      ],
      "execution_count": 3,
      "outputs": [
        {
          "output_type": "stream",
          "text": [
            "(((0, 1, 0, 0), 0.2438189316415691), ((0, 0, 1, 0), 0.2438189316415691), ((0, 0, 0, 1), 0.2438189316415691), ((1, 0, 0, 0), 0.24381893164156898), ((0, 0, 0, 0), 0.01311708163978107))\n"
          ],
          "name": "stdout"
        }
      ]
    },
    {
      "cell_type": "markdown",
      "metadata": {
        "id": "7xa7ebf2PszK",
        "colab_type": "text"
      },
      "source": [
        "上記ですぐに終わりました。\n",
        "wq.sel()で4量子ビットから1量子ビットを選びます。\n",
        "今回計算の精度は4stepにしてみました。\n",
        "\n",
        "そして、BlueqatのQAOA+VQEのシミュレータに入れて上位５位の出現確率を状態ベクトルから選びます。\n",
        "結果はきちんと計算ができ、見事4量子ビットから1量子ビットが選ばれました。"
      ]
    },
    {
      "cell_type": "code",
      "metadata": {
        "id": "zDzwpXWfPqX3",
        "colab_type": "code",
        "outputId": "6f3915de-060b-4a8a-d728-ef1622fef042",
        "colab": {
          "base_uri": "https://localhost:8080/",
          "height": 54
        }
      },
      "source": [
        "qubo = wq.pauli(wq.sel(10,3))\n",
        "step = 4\n",
        "result = vqe.Vqe(vqe.QaoaAnsatz(qubo,step)).run()\n",
        "print(result.most_common(5))"
      ],
      "execution_count": 4,
      "outputs": [
        {
          "output_type": "stream",
          "text": [
            "(((1, 0, 0, 0, 0, 0, 0, 0, 1, 1), 0.004083916631536933), ((0, 0, 0, 1, 0, 0, 0, 0, 1, 1), 0.004083916631536931), ((1, 0, 0, 0, 1, 0, 0, 0, 0, 1), 0.00408391663153693), ((1, 0, 0, 0, 0, 0, 0, 1, 0, 1), 0.00408391663153693), ((1, 0, 0, 0, 1, 0, 1, 0, 0, 0), 0.0040839166315369295))\n"
          ],
          "name": "stdout"
        }
      ]
    },
    {
      "cell_type": "markdown",
      "metadata": {
        "id": "2x5gX2MwQ-JQ",
        "colab_type": "text"
      },
      "source": [
        "きちんと計算できました。大規模計算には問題がありますが、とりあえずシミュレーションはうまくいきました。量子ゲートはだいたい組合せ最適化問題は量子ビット数の制限があります。"
      ]
    }
  ]
}