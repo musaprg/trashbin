{
  "nbformat": 4,
  "nbformat_minor": 0,
  "metadata": {
    "colab": {
      "name": "007_02_fullgate.ipynb",
      "provenance": [],
      "collapsed_sections": []
    },
    "kernelspec": {
      "display_name": "Python 3",
      "language": "python",
      "name": "python3"
    }
  },
  "cells": [
    {
      "cell_type": "markdown",
      "metadata": {
        "colab_type": "text",
        "id": "NjHnSAbHrInP"
      },
      "source": [
        "#全量子ゲート早見表\n",
        "量子コンピュータの演算を行うためには、ゲートを使います。量子ゲートと呼ばれる演算が基本になりますが、この一覧を見て見ます。まずはインストールです。バージョンは、0.3.10です。"
      ]
    },
    {
      "cell_type": "code",
      "metadata": {
        "id": "Z2z6oBnToiqa",
        "colab_type": "code",
        "outputId": "413f3f56-1b22-40f7-fcff-4621af4596d4",
        "colab": {
          "base_uri": "https://localhost:8080/",
          "height": 136
        }
      },
      "source": [
        "!pip install blueqat"
      ],
      "execution_count": 1,
      "outputs": [
        {
          "output_type": "stream",
          "text": [
            "Collecting blueqat\n",
            "\u001b[?25l  Downloading https://files.pythonhosted.org/packages/bb/86/1b72a7cbe500b861d63e84cc6383fbf3730f08ae69fcd85146ae8e3b8873/blueqat-0.3.10-py3-none-any.whl (46kB)\n",
            "\r\u001b[K     |███████                         | 10kB 22.6MB/s eta 0:00:01\r\u001b[K     |██████████████                  | 20kB 6.1MB/s eta 0:00:01\r\u001b[K     |█████████████████████▏          | 30kB 8.7MB/s eta 0:00:01\r\u001b[K     |████████████████████████████▏   | 40kB 5.6MB/s eta 0:00:01\r\u001b[K     |████████████████████████████████| 51kB 4.1MB/s \n",
            "\u001b[?25hRequirement already satisfied: numpy~=1.12 in /usr/local/lib/python3.6/dist-packages (from blueqat) (1.17.4)\n",
            "Requirement already satisfied: scipy>=1.1.0 in /usr/local/lib/python3.6/dist-packages (from blueqat) (1.3.2)\n",
            "Installing collected packages: blueqat\n",
            "Successfully installed blueqat-0.3.10\n"
          ],
          "name": "stdout"
        }
      ]
    },
    {
      "cell_type": "markdown",
      "metadata": {
        "colab_type": "text",
        "id": "PKhFYi-drld1"
      },
      "source": [
        "##ゲートセット\n",
        "一覧表はコードの中から見つけられますが、大変だと思うのでこちらでまとめて紹介します。\n",
        "\n",
        "```\n",
        "    \"i\": gate.IGate,\n",
        "    \"x\": gate.XGate,\n",
        "    \"y\": gate.YGate,\n",
        "    \"z\": gate.ZGate,\n",
        "    \"h\": gate.HGate,\n",
        "    \"t\": gate.TGate,\n",
        "    \"s\": gate.SGate,\n",
        "    \"cz\": gate.CZGate,\n",
        "    \"cx\": gate.CXGate,\n",
        "    \"cnot\": gate.CXGate,\n",
        "    \"rx\": gate.RXGate,\n",
        "    \"ry\": gate.RYGate,\n",
        "    \"rz\": gate.RZGate,\n",
        "    \"phase\": gate.RZGate,\n",
        "    \"crx\": gate.CRXGate,\n",
        "    \"cry\": gate.CRYGate,\n",
        "    \"crz\": gate.CRZGate,\n",
        "    \"cphase\": gate.CU1Gate,\n",
        "    \"u1\": gate.U1Gate,\n",
        "    \"u2\": gate.U2Gate,\n",
        "    \"u3\": gate.U3Gate,\n",
        "    \"cu1\": gate.CU1Gate,\n",
        "    \"cu2\": gate.CU2Gate,\n",
        "    \"cu3\": gate.CU3Gate,\n",
        "    \"swap\": gate.SwapGate,\n",
        "    \"ccx\": gate.ToffoliGate,\n",
        "    \"toffoli\": gate.ToffoliGate,\n",
        "    \"t\": gate.TGate,\n",
        "    \"tdg\": gate.TDagGate,\n",
        "    \"s\": gate.SGate,\n",
        "    \"sdg\": gate.SDagGate,\n",
        "    \"measure\": gate.Measurement,\n",
        "    \"m\": gate.Measurement,\n",
        "```\n",
        "\n",
        "\n",
        "これをみる感じでは、使いやすそうです。使い方を見て見ます。\n"
      ]
    },
    {
      "cell_type": "markdown",
      "metadata": {
        "id": "aqhn_mCcRrne",
        "colab_type": "text"
      },
      "source": [
        "#Iゲート\n",
        "単位行列なので何も起きません。何もしないので0から始まった量子ビットは0のままです。"
      ]
    },
    {
      "cell_type": "code",
      "metadata": {
        "colab_type": "code",
        "id": "O674HiVxjc7P",
        "outputId": "fb52aec3-c0b9-4ff8-93db-54583e3d0011",
        "colab": {
          "base_uri": "https://localhost:8080/",
          "height": 34
        }
      },
      "source": [
        "from blueqat import Circuit\n",
        "import math\n",
        "Circuit().i[0].run()"
      ],
      "execution_count": 2,
      "outputs": [
        {
          "output_type": "execute_result",
          "data": {
            "text/plain": [
              "array([1.+0.j, 0.+0.j])"
            ]
          },
          "metadata": {
            "tags": []
          },
          "execution_count": 2
        }
      ]
    },
    {
      "cell_type": "markdown",
      "metadata": {
        "id": "Pj4TW4zHDG7d",
        "colab_type": "text"
      },
      "source": [
        "##X,Y,Zゲート\n",
        "こちらは基本のゲートです。パウリゲートと総称されます。ブロッホ球での軸の回転に相当します。サンプリング実行すると分かりづらいので、状態ベクトルを見て見ます。"
      ]
    },
    {
      "cell_type": "code",
      "metadata": {
        "id": "QSRNs5yHvCQs",
        "colab_type": "code",
        "outputId": "3c9ff3c5-df6f-41f6-e0e6-5332b3e9294a",
        "colab": {
          "base_uri": "https://localhost:8080/",
          "height": 34
        }
      },
      "source": [
        "Circuit().x[0].run()"
      ],
      "execution_count": 3,
      "outputs": [
        {
          "output_type": "execute_result",
          "data": {
            "text/plain": [
              "array([0.+0.j, 1.+0.j])"
            ]
          },
          "metadata": {
            "tags": []
          },
          "execution_count": 3
        }
      ]
    },
    {
      "cell_type": "code",
      "metadata": {
        "id": "-2BLTeM5SI_7",
        "colab_type": "code",
        "outputId": "c25ea965-4dfa-4f75-f55e-7a7871af1d11",
        "colab": {
          "base_uri": "https://localhost:8080/",
          "height": 34
        }
      },
      "source": [
        "Circuit().y[0].run()"
      ],
      "execution_count": 4,
      "outputs": [
        {
          "output_type": "execute_result",
          "data": {
            "text/plain": [
              "array([0.-0.j, 1.+0.j])"
            ]
          },
          "metadata": {
            "tags": []
          },
          "execution_count": 4
        }
      ]
    },
    {
      "cell_type": "code",
      "metadata": {
        "id": "QLjlTDIrSLYx",
        "colab_type": "code",
        "outputId": "43814eaf-da51-4614-ba58-349d94a8e98f",
        "colab": {
          "base_uri": "https://localhost:8080/",
          "height": 34
        }
      },
      "source": [
        "Circuit().z[0].run()"
      ],
      "execution_count": 5,
      "outputs": [
        {
          "output_type": "execute_result",
          "data": {
            "text/plain": [
              "array([ 1.+0.j, -0.+0.j])"
            ]
          },
          "metadata": {
            "tags": []
          },
          "execution_count": 5
        }
      ]
    },
    {
      "cell_type": "markdown",
      "metadata": {
        "id": "0arOnsSfvU0s",
        "colab_type": "text"
      },
      "source": [
        "#Hゲート\n",
        "量子重ね合わせを実現する大事なゲートです。アダマールゲートと呼びます。\n",
        "\n"
      ]
    },
    {
      "cell_type": "code",
      "metadata": {
        "id": "lXg0SZ82STUf",
        "colab_type": "code",
        "outputId": "2cf3bc55-f11a-4463-9635-666af8caf54e",
        "colab": {
          "base_uri": "https://localhost:8080/",
          "height": 34
        }
      },
      "source": [
        "Circuit().h[0].run()  "
      ],
      "execution_count": 6,
      "outputs": [
        {
          "output_type": "execute_result",
          "data": {
            "text/plain": [
              "array([0.70710678+0.j, 0.70710678+0.j])"
            ]
          },
          "metadata": {
            "tags": []
          },
          "execution_count": 6
        }
      ]
    },
    {
      "cell_type": "markdown",
      "metadata": {
        "id": "dPkM71bZwqri",
        "colab_type": "text"
      },
      "source": [
        "#Tゲート、Sゲートと、その逆回転\n",
        "TゲートとSゲートはRZゲートのうちで、回転角が45度と90度に固定されたものです。回転ゲートはアダマールゲートを適用してから見た方がわかりやすいので、見て見ます。\n",
        "\n",
        "Tゲートは、"
      ]
    },
    {
      "cell_type": "code",
      "metadata": {
        "id": "Wq68b6gExT0z",
        "colab_type": "code",
        "outputId": "28fa9baa-5326-4259-9044-8a5a90d8cc78",
        "colab": {
          "base_uri": "https://localhost:8080/",
          "height": 34
        }
      },
      "source": [
        "Circuit().h[0].t[0].run()"
      ],
      "execution_count": 7,
      "outputs": [
        {
          "output_type": "execute_result",
          "data": {
            "text/plain": [
              "array([0.70710678+0.j , 0.5       +0.5j])"
            ]
          },
          "metadata": {
            "tags": []
          },
          "execution_count": 7
        }
      ]
    },
    {
      "cell_type": "markdown",
      "metadata": {
        "id": "R2qO3lmA0QB5",
        "colab_type": "text"
      },
      "source": [
        "これと同じです。\n"
      ]
    },
    {
      "cell_type": "code",
      "metadata": {
        "id": "YYeojJyjx9h_",
        "colab_type": "code",
        "outputId": "33d5a836-7349-4cf4-9f6f-1ba2126cfc94",
        "colab": {
          "base_uri": "https://localhost:8080/",
          "height": 34
        }
      },
      "source": [
        "Circuit().h[0].rz(math.pi/4)[0].run()  "
      ],
      "execution_count": 8,
      "outputs": [
        {
          "output_type": "execute_result",
          "data": {
            "text/plain": [
              "array([0.70710678+0.j , 0.5       +0.5j])"
            ]
          },
          "metadata": {
            "tags": []
          },
          "execution_count": 8
        }
      ]
    },
    {
      "cell_type": "markdown",
      "metadata": {
        "id": "MeZ9-edF0VbY",
        "colab_type": "text"
      },
      "source": [
        "Tゲートの逆回転がTダガーゲートです。"
      ]
    },
    {
      "cell_type": "code",
      "metadata": {
        "id": "YepB2glfsjfL",
        "colab_type": "code",
        "outputId": "f649ca01-b9cc-46cd-eca3-a421deef32f0",
        "colab": {
          "base_uri": "https://localhost:8080/",
          "height": 34
        }
      },
      "source": [
        "Circuit().h[0].tdg[0].run()   "
      ],
      "execution_count": 10,
      "outputs": [
        {
          "output_type": "execute_result",
          "data": {
            "text/plain": [
              "array([0.70710678+0.j , 0.5       -0.5j])"
            ]
          },
          "metadata": {
            "tags": []
          },
          "execution_count": 10
        }
      ]
    },
    {
      "cell_type": "markdown",
      "metadata": {
        "id": "FZ3kta2ztKhB",
        "colab_type": "text"
      },
      "source": [
        "やはりこれと同じです。"
      ]
    },
    {
      "cell_type": "code",
      "metadata": {
        "id": "EGI8gSPNT08D",
        "colab_type": "code",
        "colab": {
          "base_uri": "https://localhost:8080/",
          "height": 34
        },
        "outputId": "afd3ff8b-b4ec-4deb-bdea-4eecbe131d81"
      },
      "source": [
        "Circuit().h[0].rz(-math.pi/4)[0].run() "
      ],
      "execution_count": 11,
      "outputs": [
        {
          "output_type": "execute_result",
          "data": {
            "text/plain": [
              "array([0.70710678+0.j , 0.5       -0.5j])"
            ]
          },
          "metadata": {
            "tags": []
          },
          "execution_count": 11
        }
      ]
    },
    {
      "cell_type": "markdown",
      "metadata": {
        "id": "_JvwaIgXUB1E",
        "colab_type": "text"
      },
      "source": [
        "Sゲートは回転角が異なります。"
      ]
    },
    {
      "cell_type": "code",
      "metadata": {
        "id": "Jh7XiqhdT1uw",
        "colab_type": "code",
        "colab": {
          "base_uri": "https://localhost:8080/",
          "height": 34
        },
        "outputId": "8eb858e0-530e-4ced-fa01-25adb9632b06"
      },
      "source": [
        "Circuit().h[0].s[0].run() "
      ],
      "execution_count": 12,
      "outputs": [
        {
          "output_type": "execute_result",
          "data": {
            "text/plain": [
              "array([0.70710678+0.j        , 0.        +0.70710678j])"
            ]
          },
          "metadata": {
            "tags": []
          },
          "execution_count": 12
        }
      ]
    },
    {
      "cell_type": "markdown",
      "metadata": {
        "id": "5dSI0AnDUFoN",
        "colab_type": "text"
      },
      "source": [
        "こちらはこれと同じです"
      ]
    },
    {
      "cell_type": "code",
      "metadata": {
        "id": "aVYA0sQCUDsz",
        "colab_type": "code",
        "colab": {
          "base_uri": "https://localhost:8080/",
          "height": 34
        },
        "outputId": "a5c288ba-c89f-4a3f-8850-1866cd9ce0c6"
      },
      "source": [
        "Circuit().h[0].rz(math.pi/2)[0].run() "
      ],
      "execution_count": 13,
      "outputs": [
        {
          "output_type": "execute_result",
          "data": {
            "text/plain": [
              "array([7.07106781e-01+0.j        , 4.32978028e-17+0.70710678j])"
            ]
          },
          "metadata": {
            "tags": []
          },
          "execution_count": 13
        }
      ]
    },
    {
      "cell_type": "markdown",
      "metadata": {
        "id": "l9Nea4TTUKEK",
        "colab_type": "text"
      },
      "source": [
        "Sゲートの逆回転がSダガーゲートです。"
      ]
    },
    {
      "cell_type": "code",
      "metadata": {
        "id": "lfEn1FBPUHCH",
        "colab_type": "code",
        "colab": {
          "base_uri": "https://localhost:8080/",
          "height": 34
        },
        "outputId": "fdb3275a-d8cb-4c15-d37c-56d67000c1d1"
      },
      "source": [
        "Circuit().h[0].sdg[0].run()  "
      ],
      "execution_count": 14,
      "outputs": [
        {
          "output_type": "execute_result",
          "data": {
            "text/plain": [
              "array([7.07106781e-01+0.j        , 4.32978028e-17-0.70710678j])"
            ]
          },
          "metadata": {
            "tags": []
          },
          "execution_count": 14
        }
      ]
    },
    {
      "cell_type": "markdown",
      "metadata": {
        "id": "2bwgs_SEUNsJ",
        "colab_type": "text"
      },
      "source": [
        "やっぱりこれと同じ"
      ]
    },
    {
      "cell_type": "code",
      "metadata": {
        "id": "7TWy5GKbUOrO",
        "colab_type": "code",
        "colab": {
          "base_uri": "https://localhost:8080/",
          "height": 34
        },
        "outputId": "9db60a53-859f-4b06-8908-b8db2619e5c6"
      },
      "source": [
        "Circuit().h[0].rz(-math.pi/2)[0].run() "
      ],
      "execution_count": 15,
      "outputs": [
        {
          "output_type": "execute_result",
          "data": {
            "text/plain": [
              "array([7.07106781e-01+0.j        , 4.32978028e-17-0.70710678j])"
            ]
          },
          "metadata": {
            "tags": []
          },
          "execution_count": 15
        }
      ]
    },
    {
      "cell_type": "markdown",
      "metadata": {
        "id": "Sn1RZtXrURDy",
        "colab_type": "text"
      },
      "source": [
        "#CX、CNOTゲート\n",
        "こちらは、条件付きのゲートと呼ばれ、コントロールビットとターゲットビットがあります。コントロールビット側が1の時にXゲートを適用します。ビットの指定は２箇所あり、最初がコントロールビット、次がターゲットビットです。"
      ]
    },
    {
      "cell_type": "code",
      "metadata": {
        "id": "uqa_Od7uUMRZ",
        "colab_type": "code",
        "colab": {
          "base_uri": "https://localhost:8080/",
          "height": 34
        },
        "outputId": "f1cb38d0-45f1-4620-9bb0-0fcb7ee8f3ae"
      },
      "source": [
        "Circuit().cx[0,1].run()"
      ],
      "execution_count": 16,
      "outputs": [
        {
          "output_type": "execute_result",
          "data": {
            "text/plain": [
              "array([1.+0.j, 0.+0.j, 0.+0.j, 0.+0.j])"
            ]
          },
          "metadata": {
            "tags": []
          },
          "execution_count": 16
        }
      ]
    },
    {
      "cell_type": "markdown",
      "metadata": {
        "id": "PkR9O_VvUUXU",
        "colab_type": "text"
      },
      "source": [
        "何も起きないので、コントロールビット側を1にして見ます。"
      ]
    },
    {
      "cell_type": "code",
      "metadata": {
        "id": "yPq0FsbdUTpM",
        "colab_type": "code",
        "colab": {
          "base_uri": "https://localhost:8080/",
          "height": 34
        },
        "outputId": "e7740286-5535-41c9-ebaf-d55a1d52740e"
      },
      "source": [
        "Circuit().x[0].cx[0,1].run()"
      ],
      "execution_count": 17,
      "outputs": [
        {
          "output_type": "execute_result",
          "data": {
            "text/plain": [
              "array([0.+0.j, 0.+0.j, 0.+0.j, 1.+0.j])"
            ]
          },
          "metadata": {
            "tags": []
          },
          "execution_count": 17
        }
      ]
    },
    {
      "cell_type": "code",
      "metadata": {
        "id": "2C1KmoUSUXvC",
        "colab_type": "code",
        "colab": {
          "base_uri": "https://localhost:8080/",
          "height": 34
        },
        "outputId": "4a8ab2d8-1683-4e99-a59b-7713798d134e"
      },
      "source": [
        "#cnotでも全く同じです。\n",
        "Circuit().x[0].cnot[0,1].run()"
      ],
      "execution_count": 18,
      "outputs": [
        {
          "output_type": "execute_result",
          "data": {
            "text/plain": [
              "array([0.+0.j, 0.+0.j, 0.+0.j, 1.+0.j])"
            ]
          },
          "metadata": {
            "tags": []
          },
          "execution_count": 18
        }
      ]
    },
    {
      "cell_type": "markdown",
      "metadata": {
        "id": "WIeLRNchUb-o",
        "colab_type": "text"
      },
      "source": [
        "#CZゲート\n",
        "CZゲートはコントロールビットが1の時にターゲットビットにZゲートを適用します。"
      ]
    },
    {
      "cell_type": "code",
      "metadata": {
        "id": "YNv7dqS9UZwU",
        "colab_type": "code",
        "colab": {
          "base_uri": "https://localhost:8080/",
          "height": 34
        },
        "outputId": "7f179de3-f1a9-42f6-86df-e0069c96ef23"
      },
      "source": [
        "Circuit().cz[0,1].run()"
      ],
      "execution_count": 19,
      "outputs": [
        {
          "output_type": "execute_result",
          "data": {
            "text/plain": [
              "array([ 1.+0.j,  0.+0.j,  0.+0.j, -0.+0.j])"
            ]
          },
          "metadata": {
            "tags": []
          },
          "execution_count": 19
        }
      ]
    },
    {
      "cell_type": "markdown",
      "metadata": {
        "id": "UWQNUZwXUjXi",
        "colab_type": "text"
      },
      "source": [
        "何も起きないので、コントロールビット側を1にして見ます。"
      ]
    },
    {
      "cell_type": "code",
      "metadata": {
        "id": "ah5MryeSUhOX",
        "colab_type": "code",
        "colab": {
          "base_uri": "https://localhost:8080/",
          "height": 34
        },
        "outputId": "e7d9277d-aeec-46cd-bdac-cdb011140b0a"
      },
      "source": [
        "Circuit().x[0].cz[0,1].run()"
      ],
      "execution_count": 20,
      "outputs": [
        {
          "output_type": "execute_result",
          "data": {
            "text/plain": [
              "array([ 0.+0.j,  1.+0.j,  0.+0.j, -0.+0.j])"
            ]
          },
          "metadata": {
            "tags": []
          },
          "execution_count": 20
        }
      ]
    },
    {
      "cell_type": "markdown",
      "metadata": {
        "id": "gbog6w3WUnu5",
        "colab_type": "text"
      },
      "source": [
        "#RX,RY,RZ,Phaseゲート\n",
        "こちらはそれぞれの軸周りでの任意回転です。量子ビットの指定の前に角度の指定が必要になります。RZとPhaseは同じです。"
      ]
    },
    {
      "cell_type": "code",
      "metadata": {
        "id": "xZGTNlzgUl0K",
        "colab_type": "code",
        "colab": {
          "base_uri": "https://localhost:8080/",
          "height": 34
        },
        "outputId": "bba453d5-79ec-4e64-bc5e-0a0b29a9ac70"
      },
      "source": [
        "Circuit().rx(math.pi/4)[0].run()"
      ],
      "execution_count": 21,
      "outputs": [
        {
          "output_type": "execute_result",
          "data": {
            "text/plain": [
              "array([0.92387953+0.j        , 0.        -0.38268343j])"
            ]
          },
          "metadata": {
            "tags": []
          },
          "execution_count": 21
        }
      ]
    },
    {
      "cell_type": "code",
      "metadata": {
        "id": "1DC5xXneUp5j",
        "colab_type": "code",
        "colab": {
          "base_uri": "https://localhost:8080/",
          "height": 34
        },
        "outputId": "8f8e0b33-3f72-4f78-d9cf-59927a80b164"
      },
      "source": [
        "Circuit().ry(math.pi/4)[0].run()"
      ],
      "execution_count": 22,
      "outputs": [
        {
          "output_type": "execute_result",
          "data": {
            "text/plain": [
              "array([0.92387953+0.j, 0.38268343+0.j])"
            ]
          },
          "metadata": {
            "tags": []
          },
          "execution_count": 22
        }
      ]
    },
    {
      "cell_type": "markdown",
      "metadata": {
        "id": "TCyvEkMpUswf",
        "colab_type": "text"
      },
      "source": [
        "分かりづらいのでHかけてからやります"
      ]
    },
    {
      "cell_type": "code",
      "metadata": {
        "id": "0__j2KjBUrLo",
        "colab_type": "code",
        "colab": {
          "base_uri": "https://localhost:8080/",
          "height": 34
        },
        "outputId": "022d9ba9-625f-4fb0-a941-2759b0b4363c"
      },
      "source": [
        "Circuit().h[0].rz(math.pi/4)[0].run()   "
      ],
      "execution_count": 23,
      "outputs": [
        {
          "output_type": "execute_result",
          "data": {
            "text/plain": [
              "array([0.70710678+0.j , 0.5       +0.5j])"
            ]
          },
          "metadata": {
            "tags": []
          },
          "execution_count": 23
        }
      ]
    },
    {
      "cell_type": "code",
      "metadata": {
        "id": "Ttx_nZXSUvqb",
        "colab_type": "code",
        "colab": {
          "base_uri": "https://localhost:8080/",
          "height": 34
        },
        "outputId": "0bd4e2dc-4a8c-4b55-c794-79be095aa07d"
      },
      "source": [
        "#RZと同じ\n",
        "Circuit().h[0].phase(math.pi/4)[0].run() "
      ],
      "execution_count": 24,
      "outputs": [
        {
          "output_type": "execute_result",
          "data": {
            "text/plain": [
              "array([0.70710678+0.j , 0.5       +0.5j])"
            ]
          },
          "metadata": {
            "tags": []
          },
          "execution_count": 24
        }
      ]
    },
    {
      "cell_type": "markdown",
      "metadata": {
        "id": "r_JIt6OtUywb",
        "colab_type": "text"
      },
      "source": [
        "#CRX,CRY,CRZゲート\n",
        "こちらは軸周りの任意回転ゲートを制御ゲート化したものです。コントロールビットとターゲットビットの指定が必要になります。"
      ]
    },
    {
      "cell_type": "code",
      "metadata": {
        "id": "Y2a9tx-8UxBt",
        "colab_type": "code",
        "colab": {
          "base_uri": "https://localhost:8080/",
          "height": 34
        },
        "outputId": "fc6d6822-54c8-49cd-cffc-d8a4ef70966d"
      },
      "source": [
        "#コントロールビットが0だと何も起きません。\n",
        "Circuit().crx(math.pi/4)[0,1].run()  "
      ],
      "execution_count": 25,
      "outputs": [
        {
          "output_type": "execute_result",
          "data": {
            "text/plain": [
              "array([1.+0.j, 0.+0.j, 0.+0.j, 0.+0.j])"
            ]
          },
          "metadata": {
            "tags": []
          },
          "execution_count": 25
        }
      ]
    },
    {
      "cell_type": "code",
      "metadata": {
        "id": "bfmv8mnuU3cQ",
        "colab_type": "code",
        "colab": {
          "base_uri": "https://localhost:8080/",
          "height": 51
        },
        "outputId": "c49f02b6-17ae-4319-dec2-2c82f97d2c0c"
      },
      "source": [
        "Circuit().x[0].crx(math.pi/4)[0,1].run()"
      ],
      "execution_count": 26,
      "outputs": [
        {
          "output_type": "execute_result",
          "data": {
            "text/plain": [
              "array([0.        +0.j        , 0.92387953+0.j        ,\n",
              "       0.        +0.j        , 0.        -0.38268343j])"
            ]
          },
          "metadata": {
            "tags": []
          },
          "execution_count": 26
        }
      ]
    },
    {
      "cell_type": "code",
      "metadata": {
        "id": "K7G574EuU4zD",
        "colab_type": "code",
        "colab": {
          "base_uri": "https://localhost:8080/",
          "height": 34
        },
        "outputId": "ba75b929-7e95-4bc8-a0fc-2132df45a6c1"
      },
      "source": [
        "Circuit().x[0].cry(math.pi/4)[0,1].run()"
      ],
      "execution_count": 27,
      "outputs": [
        {
          "output_type": "execute_result",
          "data": {
            "text/plain": [
              "array([0.        +0.j, 0.92387953+0.j, 0.        +0.j, 0.38268343+0.j])"
            ]
          },
          "metadata": {
            "tags": []
          },
          "execution_count": 27
        }
      ]
    },
    {
      "cell_type": "code",
      "metadata": {
        "id": "MdumracbU6YF",
        "colab_type": "code",
        "colab": {
          "base_uri": "https://localhost:8080/",
          "height": 34
        },
        "outputId": "86ec6db5-8646-4408-cbab-33bad2ed3e5c"
      },
      "source": [
        "Circuit().x[0].h[1].crz(math.pi/4)[0,1].run()"
      ],
      "execution_count": 28,
      "outputs": [
        {
          "output_type": "execute_result",
          "data": {
            "text/plain": [
              "array([0.        +0.j , 0.70710678+0.j , 0.        +0.j , 0.5       +0.5j])"
            ]
          },
          "metadata": {
            "tags": []
          },
          "execution_count": 28
        }
      ]
    },
    {
      "cell_type": "code",
      "metadata": {
        "id": "xa3Nfx1eU7lY",
        "colab_type": "code",
        "colab": {
          "base_uri": "https://localhost:8080/",
          "height": 34
        },
        "outputId": "e445747d-a763-44d0-9313-7640e6161784"
      },
      "source": [
        "#CRZと同じ\n",
        "Circuit().x[0].h[1].cphase(math.pi/4)[0,1].run()"
      ],
      "execution_count": 29,
      "outputs": [
        {
          "output_type": "execute_result",
          "data": {
            "text/plain": [
              "array([0.        +0.j , 0.70710678+0.j , 0.        +0.j , 0.5       +0.5j])"
            ]
          },
          "metadata": {
            "tags": []
          },
          "execution_count": 29
        }
      ]
    },
    {
      "cell_type": "markdown",
      "metadata": {
        "id": "-ZjgUCu_VEPJ",
        "colab_type": "text"
      },
      "source": [
        "#U1,U2,U3ゲート\n",
        "角度を指定して実行できるゲートです。指定できる角度の数によってゲートセットが異なります。\n",
        "U1(lambda)\n",
        "U2(phi,lambda)\n",
        "U3(theta,phi,lambda)"
      ]
    },
    {
      "cell_type": "code",
      "metadata": {
        "id": "QmsvcyPxU9id",
        "colab_type": "code",
        "colab": {
          "base_uri": "https://localhost:8080/",
          "height": 34
        },
        "outputId": "9b4ccf0e-b5b6-4b29-9842-c6f0af7ac35a"
      },
      "source": [
        "Circuit().h[0].u1(0.1)[0].run() "
      ],
      "execution_count": 30,
      "outputs": [
        {
          "output_type": "execute_result",
          "data": {
            "text/plain": [
              "array([0.70710678+0.j        , 0.70357419+0.07059289j])"
            ]
          },
          "metadata": {
            "tags": []
          },
          "execution_count": 30
        }
      ]
    },
    {
      "cell_type": "code",
      "metadata": {
        "id": "9G-Qf7ToVGhG",
        "colab_type": "code",
        "colab": {
          "base_uri": "https://localhost:8080/",
          "height": 34
        },
        "outputId": "66c3af4d-05aa-4be2-9101-4ae792d29eac"
      },
      "source": [
        "Circuit().h[0].u2(0.1,0.2)[0].run() "
      ],
      "execution_count": 31,
      "outputs": [
        {
          "output_type": "execute_result",
          "data": {
            "text/plain": [
              "array([ 0.09983342+0.j        , -0.09933467+0.99003329j])"
            ]
          },
          "metadata": {
            "tags": []
          },
          "execution_count": 31
        }
      ]
    },
    {
      "cell_type": "code",
      "metadata": {
        "id": "gBet5tnkVHxO",
        "colab_type": "code",
        "colab": {
          "base_uri": "https://localhost:8080/",
          "height": 34
        },
        "outputId": "09d6a006-dc70-4ed0-bd09-a103e17ea258"
      },
      "source": [
        "Circuit().h[0].u3(0.1,0.2,0.3)[0].run()"
      ],
      "execution_count": 32,
      "outputs": [
        {
          "output_type": "execute_result",
          "data": {
            "text/plain": [
              "array([0.672542  +0.j        , 0.64895946+0.35572302j])"
            ]
          },
          "metadata": {
            "tags": []
          },
          "execution_count": 32
        }
      ]
    },
    {
      "cell_type": "markdown",
      "metadata": {
        "id": "BdJ_blRJVK6n",
        "colab_type": "text"
      },
      "source": [
        "#CU1,CU2,CU3ゲート\n",
        "これらは上記のU1,U2,U3ゲートを制御ゲート化したものです。使い方は他のゲートと同じです。"
      ]
    },
    {
      "cell_type": "code",
      "metadata": {
        "id": "vJViIPPLVJP-",
        "colab_type": "code",
        "colab": {
          "base_uri": "https://localhost:8080/",
          "height": 34
        },
        "outputId": "048c78df-35d0-46c7-8147-f612f6d75893"
      },
      "source": [
        "Circuit().h[1].cu1(0.1)[0,1].run()  "
      ],
      "execution_count": 33,
      "outputs": [
        {
          "output_type": "execute_result",
          "data": {
            "text/plain": [
              "array([0.70710678+0.j, 0.        +0.j, 0.70710678+0.j, 0.        +0.j])"
            ]
          },
          "metadata": {
            "tags": []
          },
          "execution_count": 33
        }
      ]
    },
    {
      "cell_type": "code",
      "metadata": {
        "id": "m0bxb7lqVl48",
        "colab_type": "code",
        "colab": {
          "base_uri": "https://localhost:8080/",
          "height": 51
        },
        "outputId": "f5d82f9f-e449-4e10-911b-54033fa358c4"
      },
      "source": [
        "#0番目を1にしてから、\n",
        "Circuit().x[0].h[1].cu1(0.1)[0,1].run()"
      ],
      "execution_count": 34,
      "outputs": [
        {
          "output_type": "execute_result",
          "data": {
            "text/plain": [
              "array([0.        +0.j        , 0.70710678+0.j        ,\n",
              "       0.        +0.j        , 0.70357419+0.07059289j])"
            ]
          },
          "metadata": {
            "tags": []
          },
          "execution_count": 34
        }
      ]
    },
    {
      "cell_type": "code",
      "metadata": {
        "id": "IXO6d2cvVn2N",
        "colab_type": "code",
        "colab": {
          "base_uri": "https://localhost:8080/",
          "height": 51
        },
        "outputId": "66c8a9a1-d43e-4354-929a-c1ca54e30309"
      },
      "source": [
        "Circuit().x[0].h[1].cu2(0.1,0.2)[0,1].run()  "
      ],
      "execution_count": 35,
      "outputs": [
        {
          "output_type": "execute_result",
          "data": {
            "text/plain": [
              "array([-0.        +0.j        ,  0.09983342+0.j        ,\n",
              "       -0.        +0.j        , -0.09933467+0.99003329j])"
            ]
          },
          "metadata": {
            "tags": []
          },
          "execution_count": 35
        }
      ]
    },
    {
      "cell_type": "code",
      "metadata": {
        "id": "yb8_EKxoVprr",
        "colab_type": "code",
        "colab": {
          "base_uri": "https://localhost:8080/",
          "height": 51
        },
        "outputId": "05c009d4-67a1-4bd4-d1c5-bf5bb0448d95"
      },
      "source": [
        "Circuit().x[0].h[1].cu3(0.1,0.2,0.3)[0,1].run()"
      ],
      "execution_count": 36,
      "outputs": [
        {
          "output_type": "execute_result",
          "data": {
            "text/plain": [
              "array([0.        +0.00000000e+00j, 0.672542  +2.77555756e-17j,\n",
              "       0.        +0.00000000e+00j, 0.64895946+3.55723023e-01j])"
            ]
          },
          "metadata": {
            "tags": []
          },
          "execution_count": 36
        }
      ]
    },
    {
      "cell_type": "markdown",
      "metadata": {
        "id": "kqgSsgO5Vwhp",
        "colab_type": "text"
      },
      "source": [
        "#Swapゲート\n",
        "こちらは２つの量子ビットの値を入れ替えます。簡単です。量子ビットの指定は２つあります。"
      ]
    },
    {
      "cell_type": "code",
      "metadata": {
        "id": "lDsDShoaVrBH",
        "colab_type": "code",
        "colab": {
          "base_uri": "https://localhost:8080/",
          "height": 34
        },
        "outputId": "e4ce7191-a600-4a2e-aa23-4c04b4e86e8e"
      },
      "source": [
        "Circuit().x[0].swap[0,1].m[:].run(shots=1)"
      ],
      "execution_count": 38,
      "outputs": [
        {
          "output_type": "execute_result",
          "data": {
            "text/plain": [
              "Counter({'01': 1})"
            ]
          },
          "metadata": {
            "tags": []
          },
          "execution_count": 38
        }
      ]
    },
    {
      "cell_type": "markdown",
      "metadata": {
        "id": "vSmlT9MeV2HP",
        "colab_type": "text"
      },
      "source": [
        "#CCX,Toffoliゲート\n",
        "CCXとToffoliは同じゲートですが、コントロールビットが２つあります。両方が1の時だけ、ターゲットビットにXゲートを適用します。指定はコントロールビットを２つ指定し、ターゲットビットを指定します。"
      ]
    },
    {
      "cell_type": "code",
      "metadata": {
        "id": "omJP44NrVzA0",
        "colab_type": "code",
        "colab": {
          "base_uri": "https://localhost:8080/",
          "height": 34
        },
        "outputId": "4e6b897c-1eff-4202-abc8-bacdd2485c73"
      },
      "source": [
        "Circuit().x[:2].ccx[0,1,2].run()"
      ],
      "execution_count": 39,
      "outputs": [
        {
          "output_type": "execute_result",
          "data": {
            "text/plain": [
              "array([0.+0.j, 0.+0.j, 0.+0.j, 0.+0.j, 0.+0.j, 0.+0.j, 0.+0.j, 1.+0.j])"
            ]
          },
          "metadata": {
            "tags": []
          },
          "execution_count": 39
        }
      ]
    },
    {
      "cell_type": "code",
      "metadata": {
        "id": "jzlfXn8YV40U",
        "colab_type": "code",
        "colab": {
          "base_uri": "https://localhost:8080/",
          "height": 34
        },
        "outputId": "dc168c84-1f38-4683-d13d-4ff866e95880"
      },
      "source": [
        "#全く同じです\n",
        "Circuit().x[:2].toffoli[0,1,2].run()  "
      ],
      "execution_count": 40,
      "outputs": [
        {
          "output_type": "execute_result",
          "data": {
            "text/plain": [
              "array([0.+0.j, 0.+0.j, 0.+0.j, 0.+0.j, 0.+0.j, 0.+0.j, 0.+0.j, 1.+0.j])"
            ]
          },
          "metadata": {
            "tags": []
          },
          "execution_count": 40
        }
      ]
    },
    {
      "cell_type": "markdown",
      "metadata": {
        "id": "cdQ0foqgV8Eb",
        "colab_type": "text"
      },
      "source": [
        "#測定ゲート\n",
        "測定ゲートは測定をします。測定をすると0か1かに計算結果が決まります。"
      ]
    },
    {
      "cell_type": "code",
      "metadata": {
        "id": "4_QfOFD_V592",
        "colab_type": "code",
        "colab": {
          "base_uri": "https://localhost:8080/",
          "height": 34
        },
        "outputId": "85ee320a-0d84-4c9d-b798-0f0b857952da"
      },
      "source": [
        "Circuit().h[0].m[:].run(shots=100)"
      ],
      "execution_count": 41,
      "outputs": [
        {
          "output_type": "execute_result",
          "data": {
            "text/plain": [
              "Counter({'0': 61, '1': 39})"
            ]
          },
          "metadata": {
            "tags": []
          },
          "execution_count": 41
        }
      ]
    },
    {
      "cell_type": "code",
      "metadata": {
        "id": "4ma-kKW-V-bo",
        "colab_type": "code",
        "colab": {
          "base_uri": "https://localhost:8080/",
          "height": 34
        },
        "outputId": "5078acb9-ba26-4238-db8d-75a641a3f5c1"
      },
      "source": [
        "Circuit().h[0].measure[:].run(shots=100)"
      ],
      "execution_count": 44,
      "outputs": [
        {
          "output_type": "execute_result",
          "data": {
            "text/plain": [
              "Counter({'0': 47, '1': 53})"
            ]
          },
          "metadata": {
            "tags": []
          },
          "execution_count": 44
        }
      ]
    },
    {
      "cell_type": "markdown",
      "metadata": {
        "id": "19-XmssTWEuW",
        "colab_type": "text"
      },
      "source": [
        "#最後に\n",
        "ゲートセットは基本的なものは網羅されてこの一覧を使えばいくらでも作れます。以上です。"
      ]
    }
  ]
}