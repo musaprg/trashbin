{
  "nbformat": 4,
  "nbformat_minor": 0,
  "metadata": {
    "kernelspec": {
      "display_name": "Python 3",
      "language": "python",
      "name": "python3"
    },
    "language_info": {
      "codemirror_mode": {
        "name": "ipython",
        "version": 3
      },
      "file_extension": ".py",
      "mimetype": "text/x-python",
      "name": "python",
      "nbconvert_exporter": "python",
      "pygments_lexer": "ipython3",
      "version": "3.6.5"
    },
    "colab": {
      "name": "039_vertex_cover",
      "provenance": []
    }
  },
  "cells": [
    {
      "cell_type": "markdown",
      "metadata": {
        "id": "FryBD4hHqhkx",
        "colab_type": "text"
      },
      "source": [
        "# 頂点被覆（Vertex Cover）\n",
        "まず、Vertex Cover問題について説明します。次の図をみてください。"
      ]
    },
    {
      "cell_type": "code",
      "metadata": {
        "id": "RW4E_43JuPZE",
        "colab_type": "code",
        "colab": {
          "base_uri": "https://localhost:8080/",
          "height": 319
        },
        "outputId": "60f6ce8c-ef97-4949-cab9-a8c2f3494987"
      },
      "source": [
        "import networkx as nx\n",
        "import matplotlib.pyplot as plt\n",
        "\n",
        "options = {'node_color': '#efefef','node_size': 1200,'with_labels':'True'}\n",
        "\n",
        "G = nx.Graph()\n",
        "G.add_nodes_from([0,1,2,3,4,5,6,7,8])\n",
        "G.add_edges_from([(0,1),(0,5),(1,2),(1,5),(2,5),(2,3),(3,4),(4,5),(4,6),(4,7),(4,8),(5,6),(5,7),(6,7),])\n",
        "nx.draw(G, **options)"
      ],
      "execution_count": 16,
      "outputs": [
        {
          "output_type": "display_data",
          "data": {
            "image/png": "[encoded data removed]",
            "text/plain": [
              "<Figure size 432x288 with 1 Axes>"
            ]
          },
          "metadata": {
            "tags": []
          }
        }
      ]
    },
    {
      "cell_type": "markdown",
      "metadata": {
        "id": "bTQqcvKJuzTX",
        "colab_type": "text"
      },
      "source": [
        "これは頂点Vとその頂点を結ぶ辺Eからなる無向グラフ$G = \\{V, E\\}$です。この頂点のいくつかに色を塗ることを想定します。そのあとで、任意の辺を選んだときに、その辺の両端にある頂点の片方または両方に色がついているようにするのが条件です。その条件を満たすようにし、かつ色を塗る頂点数を最小限にする、というのがVertex Cover問題です。"
      ]
    },
    {
      "cell_type": "markdown",
      "metadata": {
        "id": "C0kgvxC1qhk0",
        "colab_type": "text"
      },
      "source": [
        "## 準備\n",
        "これをblueqatを使用して解いてみます。\n",
        "blueqatがインストールされていない場合は、環境に併せて以下のようにインストールしてください。"
      ]
    },
    {
      "cell_type": "code",
      "metadata": {
        "id": "WbDhIIbgtzSl",
        "colab_type": "code",
        "colab": {
          "base_uri": "https://localhost:8080/",
          "height": 136
        },
        "outputId": "bc61ea1f-8230-41dd-c3c5-6d793509104c"
      },
      "source": [
        "!pip install blueqat"
      ],
      "execution_count": 1,
      "outputs": [
        {
          "output_type": "stream",
          "text": [
            "Collecting blueqat\n",
            "\u001b[?25l  Downloading https://files.pythonhosted.org/packages/bb/86/1b72a7cbe500b861d63e84cc6383fbf3730f08ae69fcd85146ae8e3b8873/blueqat-0.3.10-py3-none-any.whl (46kB)\n",
            "\r\u001b[K     |███████                         | 10kB 11.9MB/s eta 0:00:01\r\u001b[K     |██████████████                  | 20kB 1.8MB/s eta 0:00:01\r\u001b[K     |█████████████████████▏          | 30kB 2.5MB/s eta 0:00:01\r\u001b[K     |████████████████████████████▏   | 40kB 1.7MB/s eta 0:00:01\r\u001b[K     |████████████████████████████████| 51kB 1.4MB/s \n",
            "\u001b[?25hRequirement already satisfied: scipy>=1.1.0 in /usr/local/lib/python3.6/dist-packages (from blueqat) (1.3.3)\n",
            "Requirement already satisfied: numpy~=1.12 in /usr/local/lib/python3.6/dist-packages (from blueqat) (1.17.4)\n",
            "Installing collected packages: blueqat\n",
            "Successfully installed blueqat-0.3.10\n"
          ],
          "name": "stdout"
        }
      ]
    },
    {
      "cell_type": "markdown",
      "metadata": {
        "id": "b2Tbx96Ut2YY",
        "colab_type": "text"
      },
      "source": [
        "必要なライブラリをimportし、blueqatオブジェクトをインスタンス化します。"
      ]
    },
    {
      "cell_type": "code",
      "metadata": {
        "id": "zpo8qKy7qhk1",
        "colab_type": "code",
        "colab": {}
      },
      "source": [
        "%matplotlib inline\n",
        "\n",
        "import numpy as np\n",
        "import matplotlib.pyplot as plt\n",
        "import blueqat.opt as wq"
      ],
      "execution_count": 0,
      "outputs": []
    },
    {
      "cell_type": "markdown",
      "metadata": {
        "id": "AvmosPYWqhk5",
        "colab_type": "text"
      },
      "source": [
        "## QUBOの作成\n",
        "解きたい問題のコスト関数は、\n",
        "\n",
        "$ H = H_{A} + H_{B} $\n",
        "\n",
        "で、$H_{A}, H_{B}$はそれぞれ、\n",
        "\n",
        "$ \\displaystyle H _ { A } = A \\sum _ { u v \\in E } \\left( 1 - x _ { u } \\right) \\left( 1 - x _ { v } \\right)$\n",
        "\n",
        "$ \\displaystyle H _ { B } = B \\sum _ { v } x _ { v }$\n",
        "\n",
        "です。$x_{u}, x_{v}$はその頂点に色が付いているときに1、付いていないときに0になるものとします。"
      ]
    },
    {
      "cell_type": "markdown",
      "metadata": {
        "id": "DHdq5qvbqhk6",
        "colab_type": "text"
      },
      "source": [
        "まず、$H_{A}$ですが、これは辺で結ばれた2つの頂点u, vを選んだとき、片方または両方に色がついていれば0、どちらも色がついていなければコストがA上がる、というものになります。これを展開すると、\n",
        "\n",
        "$ \\displaystyle H _ { A } = A \\sum _ { u v \\in E } \\left( 1 - x _ { u } - x _ { v } + x_{u}x_{v}\\right)$\n",
        "\n",
        "となり、第一項が定数項であるためコストの計算では無視できること、また$x \\in \\{0, 1\\}$であることを利用すると、さらに次のように置き換えることができます。\n",
        "\n",
        "$ \\displaystyle H_{A} = A \\sum _ { u v \\in E } \\left( - x_{u}x_{u} - x_{v}x_{v} + x_{u}x_{v}\\right) $"
      ]
    },
    {
      "cell_type": "markdown",
      "metadata": {
        "id": "iFdo-Lrtqhk7",
        "colab_type": "text"
      },
      "source": [
        "つぎに、$H_{B}$についてですが、これは色が付いている頂点の1つについてコストがB上がることを意味します。これも同様に$x \\in \\{0, 1\\}$であることを利用して、次のようにすることができます。\n",
        "\n",
        "$ \\displaystyle H_{B} = B \\sum _ { u,v: u = v } x_{u}x_{v}$"
      ]
    },
    {
      "cell_type": "markdown",
      "metadata": {
        "id": "7caLokM6qhk8",
        "colab_type": "text"
      },
      "source": [
        "以上でQUBOの形式にすることができました。\n",
        "\n",
        "また、係数$A, B$については、頂点を1つ少なく選ぶ（コストがB下がる）より、両方とも色が付いていない状態をなしにする（両方とも色がついていないとコストがA上がる）ことを優先したいので、$A > B$である必要があります。\n",
        "\n",
        "これをコードにすると次の通りです。"
      ]
    },
    {
      "cell_type": "markdown",
      "metadata": {
        "id": "DQho0jGTqhk9",
        "colab_type": "text"
      },
      "source": [
        "## コーディングと実行\n",
        "まずは冒頭に掲げた無向グラフですが、次の配列で定義します。"
      ]
    },
    {
      "cell_type": "code",
      "metadata": {
        "id": "O7dZPcs5qhk-",
        "colab_type": "code",
        "colab": {}
      },
      "source": [
        "edge_def = [\n",
        "    [1,5],      # (0)と繋がっているものは(1)と(5)であるという意味\n",
        "    [2,5],      # (1)と繋がっているものは(2)と(5)であるという意味\n",
        "    [3,5],      #  :\n",
        "    [4],        #  :\n",
        "    [5,6,7,8],\n",
        "    [6,7],\n",
        "    [7],\n",
        "    [],\n",
        "    []\n",
        "]"
      ],
      "execution_count": 0,
      "outputs": []
    },
    {
      "cell_type": "code",
      "metadata": {
        "id": "GW4FO9t6qhlE",
        "colab_type": "code",
        "colab": {}
      },
      "source": [
        "A = 1.0\n",
        "B = 0.9\n",
        "def get_qubo(edges):\n",
        "    Q = np.zeros( (len(edges), len(edges)) )\n",
        "\n",
        "    for u in range(len(edges)):\n",
        "        for v in range(u, len(edges)):\n",
        "            if u == v:\n",
        "                Q[u][v] += B\n",
        "            if v in edges[u]:    #xuとxvが繋がっているかどうか\n",
        "                Q[u][v] +=  +A\n",
        "                Q[u][u] +=  -A\n",
        "                Q[v][v] +=  -A\n",
        "\n",
        "    return Q"
      ],
      "execution_count": 0,
      "outputs": []
    },
    {
      "cell_type": "markdown",
      "metadata": {
        "id": "BtRgoeuFqhlG",
        "colab_type": "text"
      },
      "source": [
        "また、結果を表示する関数も定義しておきましょう。"
      ]
    },
    {
      "cell_type": "code",
      "metadata": {
        "id": "C5OIwX6TqhlH",
        "colab_type": "code",
        "colab": {}
      },
      "source": [
        "def show_answer(list_x, energies = None, show_graph = False):\n",
        "    print(\"Result x: \" + str(list_x))\n",
        "    print(\"Picked {} vertices: {}\".format(sum(list_x), [x*i for i, x in enumerate(list_x) if x > 0] ))\n",
        "    if energies is not None:\n",
        "        print(\"Energy:\" + str(a.E[-1]))\n",
        "    if show_graph:\n",
        "        plt.plot(a.E)\n",
        "        plt.show()"
      ],
      "execution_count": 0,
      "outputs": []
    },
    {
      "cell_type": "markdown",
      "metadata": {
        "id": "nKKs91Z4qhlK",
        "colab_type": "text"
      },
      "source": [
        "次の通り5回実行してみます"
      ]
    },
    {
      "cell_type": "code",
      "metadata": {
        "scrolled": true,
        "id": "7y0m3ntyqhlK",
        "colab_type": "code",
        "outputId": "ee646986-13d8-43af-e8ba-c367939d27d9",
        "colab": {
          "base_uri": "https://localhost:8080/",
          "height": 357
        }
      },
      "source": [
        "for i in range(5):\n",
        "    print(\"---{}回目\".format(i+1))\n",
        "    a = wq.opt()\n",
        "    a.qubo = get_qubo(edge_def)\n",
        "    answer = a.sa()\n",
        "    show_answer(answer, a.E)"
      ],
      "execution_count": 13,
      "outputs": [
        {
          "output_type": "stream",
          "text": [
            "---1回目\n",
            "Result x: [0, 1, 0, 1, 1, 1, 0, 1, 0]\n",
            "Picked 5 vertices: [1, 3, 4, 5, 7]\n",
            "Energy:-9.5\n",
            "---2回目\n",
            "Result x: [1, 0, 1, 0, 1, 1, 1, 0, 0]\n",
            "Picked 5 vertices: [0, 2, 4, 5, 6]\n",
            "Energy:-9.5\n",
            "---3回目\n",
            "Result x: [0, 1, 0, 1, 1, 1, 1, 0, 0]\n",
            "Picked 5 vertices: [1, 3, 4, 5, 6]\n",
            "Energy:-9.5\n",
            "---4回目\n",
            "Result x: [1, 0, 1, 0, 1, 1, 1, 0, 0]\n",
            "Picked 5 vertices: [0, 2, 4, 5, 6]\n",
            "Energy:-9.5\n",
            "---5回目\n",
            "Result x: [0, 1, 0, 1, 1, 1, 1, 0, 0]\n",
            "Picked 5 vertices: [1, 3, 4, 5, 6]\n",
            "Energy:-9.5\n"
          ],
          "name": "stdout"
        }
      ]
    },
    {
      "cell_type": "markdown",
      "metadata": {
        "id": "YRj-LtzjqhlQ",
        "colab_type": "text"
      },
      "source": [
        "同じEnergy値で解は何種類か出てきましたので、基底状態はいくつかありそうですが、頂点数は概ね5でした。"
      ]
    }
  ]
}