{
  "nbformat": 4,
  "nbformat_minor": 0,
  "metadata": {
    "colab": {
      "name": "033_graph_partitioning",
      "provenance": []
    },
    "kernelspec": {
      "name": "python3",
      "display_name": "Python 3"
    }
  },
  "cells": [
    {
      "cell_type": "markdown",
      "metadata": {
        "id": "i4mxcuR8ApWB",
        "colab_type": "text"
      },
      "source": [
        "#グラフ分割問題\n",
        "グラフ問題において、頂点Vの数が偶数ある時に頂点をちょうどV/2ずつ２グループに分割した時に、お互いのグループをつなぐエッジの数が最小になる問題を求めます。\n",
        "\n",
        "$$H = \\left( \\sum_{i=1}^N s_i \\right)^2 + B \\sum_{(u,v)\\in E}\\frac{1-s_u s_v}{2}$$\n",
        "\n",
        "１つ目のコスト関数は$s_i=−1$と$s_i=1$に分けた時にそれぞれのグループに含まれる頂点の数が同じになるような条件、２つ目は２つの頂点を選んだ時に違うグループに属する場合にはコストが上がるように設計された項です。これにより、違うグループ同士で接続数が多いとコストが増加するように設計されています。今回はQUBOの{0,1}ではなくイジングの{-1,1}で考えます。"
      ]
    },
    {
      "cell_type": "markdown",
      "metadata": {
        "id": "eCz7L2nFAsMZ",
        "colab_type": "text"
      },
      "source": [
        "##例題\n",
        "1Dリングのグラフを想定しました。8ノードあります。\n"
      ]
    },
    {
      "cell_type": "code",
      "metadata": {
        "id": "It958OGRAwSD",
        "colab_type": "code",
        "outputId": "0462a8b3-fa6a-4c79-d21a-9143b4fe00f0",
        "colab": {
          "base_uri": "https://localhost:8080/",
          "height": 319
        }
      },
      "source": [
        "import networkx as nx\n",
        "import matplotlib.pyplot as plt\n",
        "\n",
        "options = {'node_color': '#efefef','node_size': 1200,'with_labels':'True'}\n",
        "\n",
        "G = nx.Graph()\n",
        "G.add_nodes_from([0,1,2,3,4,5,6,7])\n",
        "G.add_edges_from([(0,1),(1,2),(2,3),(3,4),(4,5),(5,6),(6,7),(7,0)])\n",
        "nx.draw(G, **options)"
      ],
      "execution_count": 3,
      "outputs": [
        {
          "output_type": "display_data",
          "data": {
            "image/png": "[encoded data removed]",
            "text/plain": [
              "<Figure size 432x288 with 1 Axes>"
            ]
          },
          "metadata": {
            "tags": []
          }
        }
      ]
    },
    {
      "cell_type": "markdown",
      "metadata": {
        "id": "XTyA6Sg0AwEV",
        "colab_type": "text"
      },
      "source": [
        "早速プログラムをしていきます。準備をして読み込みます。"
      ]
    },
    {
      "cell_type": "code",
      "metadata": {
        "id": "fwBDb0OvA3AB",
        "colab_type": "code",
        "colab": {
          "base_uri": "https://localhost:8080/",
          "height": 136
        },
        "outputId": "de64a83a-b2b5-4a1b-81f0-0a5e27642c0f"
      },
      "source": [
        "!pip install -U blueqat"
      ],
      "execution_count": 2,
      "outputs": [
        {
          "output_type": "stream",
          "text": [
            "Collecting blueqat\n",
            "\u001b[?25l  Downloading https://files.pythonhosted.org/packages/bb/86/1b72a7cbe500b861d63e84cc6383fbf3730f08ae69fcd85146ae8e3b8873/blueqat-0.3.10-py3-none-any.whl (46kB)\n",
            "\u001b[K     |████████████████████████████████| 51kB 1.7MB/s \n",
            "\u001b[?25hRequirement already satisfied, skipping upgrade: scipy>=1.1.0 in /usr/local/lib/python3.6/dist-packages (from blueqat) (1.3.3)\n",
            "Requirement already satisfied, skipping upgrade: numpy~=1.12 in /usr/local/lib/python3.6/dist-packages (from blueqat) (1.17.4)\n",
            "Installing collected packages: blueqat\n",
            "Successfully installed blueqat-0.3.10\n"
          ],
          "name": "stdout"
        }
      ]
    },
    {
      "cell_type": "code",
      "metadata": {
        "id": "raEI2nFN8Q_Z",
        "colab_type": "code",
        "colab": {}
      },
      "source": [
        "import blueqat.opt as wq\n",
        "a = wq.opt()"
      ],
      "execution_count": 0,
      "outputs": []
    },
    {
      "cell_type": "markdown",
      "metadata": {
        "id": "2doAOyjjA8bg",
        "colab_type": "text"
      },
      "source": [
        "上記コスト関数の1項目は全ての量子ビットを足し合わせて二乗しています。\n",
        "これはすべての量子ビットの局所磁場を1にして係数をとります。"
      ]
    },
    {
      "cell_type": "code",
      "metadata": {
        "id": "eqtiaD9E9psF",
        "colab_type": "code",
        "outputId": "360ff8dc-48c9-49d3-aa32-7f82fe808773",
        "colab": {
          "base_uri": "https://localhost:8080/",
          "height": 153
        }
      },
      "source": [
        "matrix1 = wq.sqr([1,1,1,1,1,1,1,1])\n",
        "print(matrix1)"
      ],
      "execution_count": 5,
      "outputs": [
        {
          "output_type": "stream",
          "text": [
            "[[1 2 2 2 2 2 2 2]\n",
            " [0 1 2 2 2 2 2 2]\n",
            " [0 0 1 2 2 2 2 2]\n",
            " [0 0 0 1 2 2 2 2]\n",
            " [0 0 0 0 1 2 2 2]\n",
            " [0 0 0 0 0 1 2 2]\n",
            " [0 0 0 0 0 0 1 2]\n",
            " [0 0 0 0 0 0 0 1]]\n"
          ],
          "name": "stdout"
        }
      ]
    },
    {
      "cell_type": "markdown",
      "metadata": {
        "id": "GN3Y7BJTBCrC",
        "colab_type": "text"
      },
      "source": [
        "次に2項目は定数項は無視して、-B/2をすべてのJijに対してかけて足し合わせます。\n",
        "B=0.5としてみます。\n",
        "また、上記1Dリングの繋がっているのは隣り合う量子ビット同士が繋がっており、最後の量子ビットは最後の量子ビットと繋がっています。\n",
        "\n",
        "機能でネットワーク構造からmatrixを作る機能を使ってみます。"
      ]
    },
    {
      "cell_type": "code",
      "metadata": {
        "id": "1fkoN567BA0I",
        "colab_type": "code",
        "outputId": "479df4e0-b9b5-44ad-8c5c-442bcfe7b7ab",
        "colab": {
          "base_uri": "https://localhost:8080/",
          "height": 153
        }
      },
      "source": [
        "matrix2 = wq.net([[0,1],[1,2],[2,3],[3,4],[4,5],[5,6],[6,7],[7,0]],8)\n",
        "print(matrix2)"
      ],
      "execution_count": 6,
      "outputs": [
        {
          "output_type": "stream",
          "text": [
            "[[0. 1. 0. 0. 0. 0. 0. 1.]\n",
            " [0. 0. 1. 0. 0. 0. 0. 0.]\n",
            " [0. 0. 0. 1. 0. 0. 0. 0.]\n",
            " [0. 0. 0. 0. 1. 0. 0. 0.]\n",
            " [0. 0. 0. 0. 0. 1. 0. 0.]\n",
            " [0. 0. 0. 0. 0. 0. 1. 0.]\n",
            " [0. 0. 0. 0. 0. 0. 0. 1.]\n",
            " [0. 0. 0. 0. 0. 0. 0. 0.]]\n"
          ],
          "name": "stdout"
        }
      ]
    },
    {
      "cell_type": "code",
      "metadata": {
        "id": "s-0raW0tBXfl",
        "colab_type": "code",
        "outputId": "01c53608-5082-48b9-ad0f-081840429178",
        "colab": {
          "base_uri": "https://localhost:8080/",
          "height": 34
        }
      },
      "source": [
        "B = 0.5\n",
        "a.J = matrix1 - B * matrix2\n",
        "a.sa()"
      ],
      "execution_count": 8,
      "outputs": [
        {
          "output_type": "execute_result",
          "data": {
            "text/plain": [
              "[1, 1, 0, 0, 0, 0, 1, 1]"
            ]
          },
          "metadata": {
            "tags": []
          },
          "execution_count": 8
        }
      ]
    },
    {
      "cell_type": "code",
      "metadata": {
        "id": "w5nqSlDZBhux",
        "colab_type": "code",
        "outputId": "f98e754c-a30b-4e0f-b83d-0fa571c23e2b",
        "colab": {
          "base_uri": "https://localhost:8080/",
          "height": 34
        }
      },
      "source": [
        "a.sa()"
      ],
      "execution_count": 9,
      "outputs": [
        {
          "output_type": "execute_result",
          "data": {
            "text/plain": [
              "[0, 0, 1, 1, 1, 1, 0, 0]"
            ]
          },
          "metadata": {
            "tags": []
          },
          "execution_count": 9
        }
      ]
    },
    {
      "cell_type": "code",
      "metadata": {
        "id": "aDO1KyZTB7Cw",
        "colab_type": "code",
        "outputId": "50d72e44-22a6-43bf-ca74-586be81081a7",
        "colab": {
          "base_uri": "https://localhost:8080/",
          "height": 153
        }
      },
      "source": [
        "print(a.J)"
      ],
      "execution_count": 10,
      "outputs": [
        {
          "output_type": "stream",
          "text": [
            "[[1.  1.5 2.  2.  2.  2.  2.  1.5]\n",
            " [0.  1.  1.5 2.  2.  2.  2.  2. ]\n",
            " [0.  0.  1.  1.5 2.  2.  2.  2. ]\n",
            " [0.  0.  0.  1.  1.5 2.  2.  2. ]\n",
            " [0.  0.  0.  0.  1.  1.5 2.  2. ]\n",
            " [0.  0.  0.  0.  0.  1.  1.5 2. ]\n",
            " [0.  0.  0.  0.  0.  0.  1.  1.5]\n",
            " [0.  0.  0.  0.  0.  0.  0.  1. ]]\n"
          ],
          "name": "stdout"
        }
      ]
    },
    {
      "cell_type": "markdown",
      "metadata": {
        "id": "yH7qba_jBvS7",
        "colab_type": "text"
      },
      "source": [
        "何度か試してみましたが、きちんと半分に分類されました。\n",
        "以上です。"
      ]
    }
  ]
}