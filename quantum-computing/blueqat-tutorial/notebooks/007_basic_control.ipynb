{
  "nbformat": 4,
  "nbformat_minor": 0,
  "metadata": {
    "colab": {
      "name": "007_basic_control.ipynb",
      "version": "0.3.2",
      "provenance": [],
      "collapsed_sections": []
    },
    "kernelspec": {
      "display_name": "Python 3",
      "language": "python",
      "name": "python3"
    }
  },
  "cells": [
    {
      "cell_type": "markdown",
      "metadata": {
        "colab_type": "text",
        "id": "NjHnSAbHrInP"
      },
      "source": [
        "# 制御ゲート\n",
        "制御ゲートはCXゲートのように「コントロールゲート」と「ターゲットゲート」で構成されます。CXゲートは名前の通りXが使われていますが、その他ZやYやRzのように回転を導入したものもあります。\n",
        "\n",
        "制御ゲートが最初からツールで用意されていれば良いのですが、そうでない場合には自分で作る必要があります。確認していきましょう。\n",
        "\n",
        "まずはインストールです。"
      ]
    },
    {
      "cell_type": "code",
      "metadata": {
        "id": "Z2z6oBnToiqa",
        "colab_type": "code",
        "colab": {}
      },
      "source": [
        "!pip install blueqat"
      ],
      "execution_count": 0,
      "outputs": []
    },
    {
      "cell_type": "markdown",
      "metadata": {
        "colab_type": "text",
        "id": "PKhFYi-drld1"
      },
      "source": [
        "## CX,CY,CZゲート\n",
        "CXゲートをベースに軸の回転を使って実現してみます。まずはいつも通りCX\n",
        "\n"
      ]
    },
    {
      "cell_type": "code",
      "metadata": {
        "colab_type": "code",
        "id": "O674HiVxjc7P",
        "outputId": "4bfb1f44-93b4-4e49-9131-863e98897c59",
        "colab": {
          "base_uri": "https://localhost:8080/",
          "height": 34
        }
      },
      "source": [
        "from blueqat import Circuit\n",
        "\n",
        "Circuit().x[0].cx[0,1].m[:].run(shots=1)"
      ],
      "execution_count": 3,
      "outputs": [
        {
          "output_type": "execute_result",
          "data": {
            "text/plain": [
              "Counter({'11': 1})"
            ]
          },
          "metadata": {
            "tags": []
          },
          "execution_count": 3
        }
      ]
    },
    {
      "cell_type": "markdown",
      "metadata": {
        "id": "Pj4TW4zHDG7d",
        "colab_type": "text"
      },
      "source": [
        "CXが適用されて11になりました。次にCZです。1番目の量子ビットにZゲートを適用するためにはあらかじめ量子ビットを+状態に持っていく必要があります。そのため.h[1]を適用しておきます。"
      ]
    },
    {
      "cell_type": "code",
      "metadata": {
        "id": "QSRNs5yHvCQs",
        "colab_type": "code",
        "colab": {}
      },
      "source": [
        "Circuit().x[0].h[1].cz[0,1].h[1].m[:].run(shots=1)"
      ],
      "execution_count": 0,
      "outputs": []
    },
    {
      "cell_type": "markdown",
      "metadata": {
        "id": "0arOnsSfvU0s",
        "colab_type": "text"
      },
      "source": [
        "上記は無事CZが適用され、11となっています。CZが聞いていなかったら10のままのはずです。"
      ]
    },
    {
      "cell_type": "markdown",
      "metadata": {
        "id": "dPkM71bZwqri",
        "colab_type": "text"
      },
      "source": [
        "## （応用）制御Rzゲート\n",
        "応用で任意回転ゲートを実装してみます。任意回転ゲートはRzゲートがあります。こちらを２つとCXゲートを２つ用意することで実現できます。\n",
        "\n",
        "最初の任意回転は回転させたい角度をΘとおいて、Θ/2。２つめは-Θ/2とします。"
      ]
    },
    {
      "cell_type": "code",
      "metadata": {
        "id": "Wq68b6gExT0z",
        "colab_type": "code",
        "outputId": "17088a38-0ac8-4bc2-e36e-a1db20de6ed1",
        "colab": {
          "base_uri": "https://localhost:8080/",
          "height": 34
        }
      },
      "source": [
        "import math\n",
        "\n",
        "Circuit().x[1].h[0].rz(math.pi/2)[0].cx[1,0].rz(-math.pi/2)[0].cx[1,0].h[0].m[:].run(shots=100)"
      ],
      "execution_count": 6,
      "outputs": [
        {
          "output_type": "execute_result",
          "data": {
            "text/plain": [
              "Counter({'11': 100})"
            ]
          },
          "metadata": {
            "tags": []
          },
          "execution_count": 6
        }
      ]
    },
    {
      "cell_type": "markdown",
      "metadata": {
        "id": "R2qO3lmA0QB5",
        "colab_type": "text"
      },
      "source": [
        "もし1番目の量子ビットが0なら、"
      ]
    },
    {
      "cell_type": "code",
      "metadata": {
        "id": "YYeojJyjx9h_",
        "colab_type": "code",
        "outputId": "3de13b6c-d3b2-43d4-9ef7-2c40e0c5264b",
        "colab": {
          "base_uri": "https://localhost:8080/",
          "height": 34
        }
      },
      "source": [
        "Circuit().h[0].rz(math.pi/2)[0].cx[1,0].rz(-math.pi/2)[0].cx[1,0].h[0].m[:].run(shots=100)"
      ],
      "execution_count": 7,
      "outputs": [
        {
          "output_type": "execute_result",
          "data": {
            "text/plain": [
              "Counter({'00': 100})"
            ]
          },
          "metadata": {
            "tags": []
          },
          "execution_count": 7
        }
      ]
    },
    {
      "cell_type": "markdown",
      "metadata": {
        "id": "MeZ9-edF0VbY",
        "colab_type": "text"
      },
      "source": [
        "制御Rzはききません。もっと簡単な書き方ができました。crxでかけます。"
      ]
    },
    {
      "cell_type": "code",
      "metadata": {
        "id": "YepB2glfsjfL",
        "colab_type": "code",
        "colab": {
          "base_uri": "https://localhost:8080/",
          "height": 34
        },
        "outputId": "170f8dc0-bd37-4ab8-d472-33231a1f308d"
      },
      "source": [
        "Circuit().x[0].crx(math.pi)[0,1].m[:].run(shots=100)"
      ],
      "execution_count": 13,
      "outputs": [
        {
          "output_type": "execute_result",
          "data": {
            "text/plain": [
              "Counter({'11': 100})"
            ]
          },
          "metadata": {
            "tags": []
          },
          "execution_count": 13
        }
      ]
    },
    {
      "cell_type": "markdown",
      "metadata": {
        "id": "FZ3kta2ztKhB",
        "colab_type": "text"
      },
      "source": [
        "結果として同様な感じになりました。"
      ]
    }
  ]
}