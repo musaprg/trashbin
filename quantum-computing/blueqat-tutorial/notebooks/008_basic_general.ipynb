{
  "nbformat": 4,
  "nbformat_minor": 0,
  "metadata": {
    "colab": {
      "name": "008_basic_general.ipynb",
      "version": "0.3.2",
      "provenance": [],
      "collapsed_sections": []
    },
    "kernelspec": {
      "display_name": "Python 3",
      "language": "python",
      "name": "python3"
    }
  },
  "cells": [
    {
      "cell_type": "markdown",
      "metadata": {
        "colab_type": "text",
        "id": "NjHnSAbHrInP"
      },
      "source": [
        "# 加算回路\n",
        "量子コンピュータには従来のコンピュータと同じ計算もできるという特徴があります。加算回路を活用してそれを確認してみましょう。まずは0+0,0+1,1+0,1+1をしてみます。\n",
        "\n",
        "まずはインストールをしましょう。"
      ]
    },
    {
      "cell_type": "code",
      "metadata": {
        "id": "OF-AmKpXtgSJ",
        "colab_type": "code",
        "colab": {}
      },
      "source": [
        "!pip install blueqat"
      ],
      "execution_count": 0,
      "outputs": []
    },
    {
      "cell_type": "markdown",
      "metadata": {
        "colab_type": "text",
        "id": "PKhFYi-drld1"
      },
      "source": [
        "## 2進数の加算回路\n",
        "足し算は桁上がりを担当するccxゲートと、位の足し合わせを実現するcxゲートで実現できます。今回はa+b=cdという回路を考えます。\n",
        "\n",
        "0+0 = 00 => 0000  \n",
        "0+1 = 10 => 0110  \n",
        "1+0 = 10 => 1010  \n",
        "1+1 = 01 =>1101  \n",
        "\n",
        "となります。この４つがでれば正解です。加算回路は四回使うので先に作っておきます。\n",
        "1のようなデータの入力はXゲートを使って実装します。\n",
        "\n",
        "\n"
      ]
    },
    {
      "cell_type": "code",
      "metadata": {
        "colab_type": "code",
        "id": "O674HiVxjc7P",
        "outputId": "63d75a71-0b78-4b7b-b759-56b2d018e284",
        "colab": {
          "base_uri": "https://localhost:8080/",
          "height": 34
        }
      },
      "source": [
        "from blueqat import Circuit\n",
        "\n",
        "adder = Circuit().ccx[0,1,3].cx[1,2].cx[0,2]\n",
        "\n",
        "#0+0\n",
        "(Circuit() + adder).m[:].run(shots=1)"
      ],
      "execution_count": 3,
      "outputs": [
        {
          "output_type": "execute_result",
          "data": {
            "text/plain": [
              "Counter({'0000': 1})"
            ]
          },
          "metadata": {
            "tags": []
          },
          "execution_count": 3
        }
      ]
    },
    {
      "cell_type": "code",
      "metadata": {
        "id": "xlTAVvSt3iZv",
        "colab_type": "code",
        "outputId": "c6e6810e-4569-4849-da61-ab41e72f83c0",
        "colab": {
          "base_uri": "https://localhost:8080/",
          "height": 34
        }
      },
      "source": [
        "#0+1\n",
        "(Circuit().x[1] + adder).m[:].run(shots=1)"
      ],
      "execution_count": 4,
      "outputs": [
        {
          "output_type": "execute_result",
          "data": {
            "text/plain": [
              "Counter({'0110': 1})"
            ]
          },
          "metadata": {
            "tags": []
          },
          "execution_count": 4
        }
      ]
    },
    {
      "cell_type": "code",
      "metadata": {
        "id": "BtkqFj8n3kBS",
        "colab_type": "code",
        "outputId": "5db803d7-a2dc-417b-95c2-eacf35e160c2",
        "colab": {
          "base_uri": "https://localhost:8080/",
          "height": 34
        }
      },
      "source": [
        "#1+0\n",
        "(Circuit().x[0] + adder).m[:].run(shots=1)"
      ],
      "execution_count": 5,
      "outputs": [
        {
          "output_type": "execute_result",
          "data": {
            "text/plain": [
              "Counter({'1010': 1})"
            ]
          },
          "metadata": {
            "tags": []
          },
          "execution_count": 5
        }
      ]
    },
    {
      "cell_type": "code",
      "metadata": {
        "id": "JnmWCnOf3xGw",
        "colab_type": "code",
        "outputId": "b89c5e8a-899b-47da-faed-dc5a3a5035e5",
        "colab": {
          "base_uri": "https://localhost:8080/",
          "height": 34
        }
      },
      "source": [
        "#1+1\n",
        "(Circuit().x[0].x[1] + adder).m[:].run(shots=1)"
      ],
      "execution_count": 6,
      "outputs": [
        {
          "output_type": "execute_result",
          "data": {
            "text/plain": [
              "Counter({'1101': 1})"
            ]
          },
          "metadata": {
            "tags": []
          },
          "execution_count": 6
        }
      ]
    },
    {
      "cell_type": "markdown",
      "metadata": {
        "id": "OPe8FDu04AtN",
        "colab_type": "text"
      },
      "source": [
        "このようにすべて充しました。これで汎用の加算回路が実現できました。"
      ]
    }
  ]
}