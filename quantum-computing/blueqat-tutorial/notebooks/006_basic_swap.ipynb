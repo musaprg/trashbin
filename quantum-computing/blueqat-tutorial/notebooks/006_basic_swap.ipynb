{
  "nbformat": 4,
  "nbformat_minor": 0,
  "metadata": {
    "colab": {
      "name": "006_basic_swap.ipynb",
      "version": "0.3.2",
      "provenance": [],
      "collapsed_sections": []
    },
    "kernelspec": {
      "display_name": "Python 3",
      "language": "python",
      "name": "python3"
    }
  },
  "cells": [
    {
      "cell_type": "markdown",
      "metadata": {
        "colab_type": "text",
        "id": "NjHnSAbHrInP"
      },
      "source": [
        "# swapゲート\n",
        "swapゲートは２つの量子ビットの値を入れ替えるゲートです。CXゲートを使って簡単に実装できるのでやってみましょう。まずはインストールです。"
      ]
    },
    {
      "cell_type": "code",
      "metadata": {
        "id": "qQgzV_yUnZP5",
        "colab_type": "code",
        "colab": {}
      },
      "source": [
        "!pip install blueqat"
      ],
      "execution_count": 0,
      "outputs": []
    },
    {
      "cell_type": "markdown",
      "metadata": {
        "colab_type": "text",
        "id": "PKhFYi-drld1"
      },
      "source": [
        "## 回路の作成\n",
        "２つの回路を入れ替えるには、CXゲートを３つ使うことで実装できます。下記はまず0番目の量子ビットを1にしてみてから、２つの回路を入れ替えます。\n",
        "\n",
        "まずは入れ替える前を見てみましょう。"
      ]
    },
    {
      "cell_type": "code",
      "metadata": {
        "colab_type": "code",
        "id": "O674HiVxjc7P",
        "outputId": "b69d00ae-0b42-4841-dc15-8dd7dbff5af1",
        "colab": {
          "base_uri": "https://localhost:8080/",
          "height": 34
        }
      },
      "source": [
        "from blueqat import Circuit\n",
        "\n",
        "Circuit().x[0].m[:].run(shots=1)"
      ],
      "execution_count": 4,
      "outputs": [
        {
          "output_type": "execute_result",
          "data": {
            "text/plain": [
              "Counter({'1': 1})"
            ]
          },
          "metadata": {
            "tags": []
          },
          "execution_count": 4
        }
      ]
    },
    {
      "cell_type": "markdown",
      "metadata": {
        "id": "KpoGH9wMoGN3",
        "colab_type": "text"
      },
      "source": [
        "この場合には0番目の量子ビットが1となりました。早速入れ替えてみます。"
      ]
    },
    {
      "cell_type": "code",
      "metadata": {
        "id": "0Rjl5jjxoMHl",
        "colab_type": "code",
        "colab": {
          "base_uri": "https://localhost:8080/",
          "height": 34
        },
        "outputId": "97dc90fe-e071-482a-ba8e-202966d1364e"
      },
      "source": [
        "Circuit().x[0].cx[0,1].cx[1,0].cx[0,1].m[:].run(shots=1)"
      ],
      "execution_count": 6,
      "outputs": [
        {
          "output_type": "execute_result",
          "data": {
            "text/plain": [
              "Counter({'01': 1})"
            ]
          },
          "metadata": {
            "tags": []
          },
          "execution_count": 6
        }
      ]
    },
    {
      "cell_type": "markdown",
      "metadata": {
        "id": "Pj4TW4zHDG7d",
        "colab_type": "text"
      },
      "source": [
        "swapゲートはCXゲートを交互に三回使うことで実現できます。CXゲートは真ん中だけ上下逆にします。上記の回路では0番目の量子ビットに1を設定した後にswapゲートを適用して交換して01と入れ替えに成功しています。swapゲートは度々出てくるテクニックなので覚えておいた方がいいでしょう。以上です。\n"
      ]
    }
  ]
}