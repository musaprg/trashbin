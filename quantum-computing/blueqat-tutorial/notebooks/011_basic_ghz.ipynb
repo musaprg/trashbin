{
  "nbformat": 4,
  "nbformat_minor": 0,
  "metadata": {
    "colab": {
      "name": "011_basic_ghz.ipynb",
      "version": "0.3.2",
      "provenance": [],
      "collapsed_sections": []
    },
    "kernelspec": {
      "display_name": "Python 3",
      "language": "python",
      "name": "python3"
    }
  },
  "cells": [
    {
      "metadata": {
        "colab_type": "text",
        "id": "NjHnSAbHrInP"
      },
      "cell_type": "markdown",
      "source": [
        "# ３量子ビットの量子もつれGHZ状態\n",
        "グリーンバーガー＝ホーン＝ツァイリンガー状態、GHZ状態は３量子ビットのもつれが出る状態です。早速実装をみてみましょう。"
      ]
    },
    {
      "metadata": {
        "id": "3eRpgppa_1FI",
        "colab_type": "code",
        "colab": {
          "base_uri": "https://localhost:8080/",
          "height": 34
        },
        "outputId": "480dd283-8200-44e1-b84e-feba185bb05e"
      },
      "cell_type": "code",
      "source": [
        "from blueqat import Circuit                                                            \n",
        "\n",
        "Circuit().h[:2].x[2].cx[1,2].cx[0,2].h[:].m[:].run(shots=100)"
      ],
      "execution_count": 90,
      "outputs": [
        {
          "output_type": "execute_result",
          "data": {
            "text/plain": [
              "Counter({'000': 47, '111': 53})"
            ]
          },
          "metadata": {
            "tags": []
          },
          "execution_count": 90
        }
      ]
    },
    {
      "metadata": {
        "id": "JM9lexiT_034",
        "colab_type": "text"
      },
      "cell_type": "markdown",
      "source": [
        "実際に000と111が半々ででてきました。以上です。"
      ]
    }
  ]
}