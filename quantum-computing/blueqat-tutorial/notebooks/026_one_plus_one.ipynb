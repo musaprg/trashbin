{
  "nbformat": 4,
  "nbformat_minor": 0,
  "metadata": {
    "colab": {
      "name": "026_one_plus_one.ipynb",
      "provenance": []
    },
    "kernelspec": {
      "name": "python3",
      "display_name": "Python 3"
    }
  },
  "cells": [
    {
      "cell_type": "markdown",
      "metadata": {
        "id": "jal7xDYFe3Nq",
        "colab_type": "text"
      },
      "source": [
        "# QUBOで足し算を行う"
      ]
    },
    {
      "cell_type": "code",
      "metadata": {
        "id": "EBVCUaVi43fM",
        "colab_type": "code",
        "outputId": "2623886a-41c7-4034-b861-93facde7501b",
        "colab": {
          "base_uri": "https://localhost:8080/",
          "height": 136
        }
      },
      "source": [
        "!pip install blueqat"
      ],
      "execution_count": 1,
      "outputs": [
        {
          "output_type": "stream",
          "text": [
            "Collecting blueqat\n",
            "\u001b[?25l  Downloading https://files.pythonhosted.org/packages/bb/86/1b72a7cbe500b861d63e84cc6383fbf3730f08ae69fcd85146ae8e3b8873/blueqat-0.3.10-py3-none-any.whl (46kB)\n",
            "\r\u001b[K     |███████                         | 10kB 17.8MB/s eta 0:00:01\r\u001b[K     |██████████████                  | 20kB 3.2MB/s eta 0:00:01\r\u001b[K     |█████████████████████▏          | 30kB 4.6MB/s eta 0:00:01\r\u001b[K     |████████████████████████████▏   | 40kB 3.0MB/s eta 0:00:01\r\u001b[K     |████████████████████████████████| 51kB 2.5MB/s \n",
            "\u001b[?25hRequirement already satisfied: scipy>=1.1.0 in /usr/local/lib/python3.6/dist-packages (from blueqat) (1.3.3)\n",
            "Requirement already satisfied: numpy~=1.12 in /usr/local/lib/python3.6/dist-packages (from blueqat) (1.17.4)\n",
            "Installing collected packages: blueqat\n",
            "Successfully installed blueqat-0.3.10\n"
          ],
          "name": "stdout"
        }
      ]
    },
    {
      "cell_type": "markdown",
      "metadata": {
        "id": "r7j1DqYse7cB",
        "colab_type": "text"
      },
      "source": [
        "まずは準備として最適化問題のSDKであるWildqatを呼び出し、インスタンスを作成します。"
      ]
    },
    {
      "cell_type": "code",
      "metadata": {
        "id": "fMKF-eQyerzg",
        "colab_type": "code",
        "colab": {}
      },
      "source": [
        "import blueqat.opt as wq\n",
        "a = wq.opt()"
      ],
      "execution_count": 0,
      "outputs": []
    },
    {
      "cell_type": "markdown",
      "metadata": {
        "id": "-x7dmTzre7AN",
        "colab_type": "text"
      },
      "source": [
        "早速問題を解いていきます。今回解きたい問題は、  \n",
        "\n",
        "$$1+ 1 = x$$\n",
        "\n",
        "となるようなxを求めます。QUBOにおいて足し算は上記右辺から左辺を引いてその最小値を求めることに相当しますので、\n",
        "\n",
        "$$E = (x-2)^2$$\n",
        "\n",
        "というコスト関数ができます。こちらを展開すると、\n",
        "\n",
        "$$E = x^2 -4x + 4$$\n",
        "\n",
        "という式が得られます。これを計算します。一方、xは量子ビットを使って、\n",
        "\n",
        "$$x = q_0 + 2q_1$$\n",
        "\n",
        "という二進数表記ができますので、さらにこれを上記のコスト関数に代入すると、\n",
        "\n",
        "$$H = q_0^2 + 4*q_0*q_1 - 4*q_0 + 4*q_1^2 - 8*q_1 + 4$$\n",
        "\n",
        "と展開されます。ここで、QUBOはバイナリ値{0,1}を取りますので、二乗の項はすべて指数がとれます。\n",
        "\n",
        "$$q_0^2 = q_0  \n",
        "q_1^2 = q_1$$\n",
        "\n",
        "より、\n",
        "\n",
        "$$H = -3q_0 + 4q_0q_1 - 4q_1 +4$$\n",
        "\n",
        "となります。これを行列表記すると、下記のようになります。"
      ]
    },
    {
      "cell_type": "code",
      "metadata": {
        "id": "wImQpd7_eum_",
        "colab_type": "code",
        "colab": {}
      },
      "source": [
        "a.qubo = [[-3,4],[0,-4]]"
      ],
      "execution_count": 0,
      "outputs": []
    },
    {
      "cell_type": "markdown",
      "metadata": {
        "id": "BRLbSqcZfCzz",
        "colab_type": "text"
      },
      "source": [
        "そして、早速これを計算実行すると、"
      ]
    },
    {
      "cell_type": "code",
      "metadata": {
        "id": "tYYg8-xeeylP",
        "colab_type": "code",
        "outputId": "8e6c872c-7809-4d67-c7ed-635e3c220e8c",
        "colab": {
          "base_uri": "https://localhost:8080/",
          "height": 34
        }
      },
      "source": [
        "a.sa()"
      ],
      "execution_count": 0,
      "outputs": [
        {
          "output_type": "execute_result",
          "data": {
            "text/plain": [
              "[0, 1]"
            ]
          },
          "metadata": {
            "tags": []
          },
          "execution_count": 5
        }
      ]
    },
    {
      "cell_type": "markdown",
      "metadata": {
        "id": "HFw1v_jMfGeR",
        "colab_type": "text"
      },
      "source": [
        "これはQUBOで$q_0=1,q_1=1$となりましたので、$1+1$の答えは、\n",
        "\n",
        "$$1 + 1 = 0 + 2*1 = 2$$\n",
        "\n",
        "となります。"
      ]
    }
  ]
}