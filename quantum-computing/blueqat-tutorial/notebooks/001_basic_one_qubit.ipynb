{
 "cells": [
  {
   "cell_type": "markdown",
   "metadata": {
    "colab_type": "text",
    "id": "NjHnSAbHrInP"
   },
   "source": [
    "# １量子ビットの基本の操作を覚える\n",
    "ここでは一番最初の量子コンピュータの計算の基本を確認したいと思います。blueqatがまだインストールされていない場合には、下記でインストールをしてください。"
   ]
  },
  {
   "cell_type": "code",
   "execution_count": 0,
   "metadata": {
    "colab": {},
    "colab_type": "code",
    "id": "BPkl9UYW_JX9"
   },
   "outputs": [],
   "source": [
    "!pip install blueqat"
   ]
  },
  {
   "cell_type": "markdown",
   "metadata": {
    "colab_type": "text",
    "id": "PKhFYi-drld1"
   },
   "source": [
    "## 回路の作成\n",
    "基本回路は簡単に作れます。準備をしてゲートと呼ばれる回路を追加します。\n",
    "最後に実行をすることで計算ができます。"
   ]
  },
  {
   "cell_type": "code",
   "execution_count": 1,
   "metadata": {
    "colab": {},
    "colab_type": "code",
    "id": "O674HiVxjc7P"
   },
   "outputs": [
    {
     "data": {
      "text/plain": [
       "Circuit(0)."
      ]
     },
     "execution_count": 1,
     "metadata": {},
     "output_type": "execute_result"
    }
   ],
   "source": [
    "from blueqat import Circuit\n",
    "\n",
    "#回路を準備はこれで終わりです。\n",
    "Circuit()"
   ]
  },
  {
   "cell_type": "markdown",
   "metadata": {
    "colab_type": "text",
    "id": "xP6vOtYi-uHz"
   },
   "source": [
    "##回路はゲートと呼ばれるものをつなげます。\n",
    "ゲートは種類が決まっています。今回はxゲートを準備し0番目の量子ビットにかけてみましょう。  \n",
    ".x[\"ここに量子ビットの番号\"]\n",
    "こんな感じでどんどん繋げていきます。"
   ]
  },
  {
   "cell_type": "code",
   "execution_count": 2,
   "metadata": {
    "colab": {},
    "colab_type": "code",
    "id": "hTNFRCaQtyRp"
   },
   "outputs": [
    {
     "data": {
      "text/plain": [
       "Circuit(1).x[0]"
      ]
     },
     "execution_count": 2,
     "metadata": {},
     "output_type": "execute_result"
    }
   ],
   "source": [
    "Circuit().x[0]"
   ]
  },
  {
   "cell_type": "markdown",
   "metadata": {
    "colab_type": "text",
    "id": "wHrRyYvfuCMC"
   },
   "source": [
    "## 測定と実行\n",
    "量子コンピュータでは答えを確定させるために測定が必要です。測定は.m[:]で行いましょう。\n",
    "また、作ったCircuitはrun()で実行することができます。  \n",
    "run()の中のshots=1は1回だけ計算をするということです。"
   ]
  },
  {
   "cell_type": "code",
   "execution_count": 3,
   "metadata": {
    "colab": {
     "base_uri": "https://localhost:8080/",
     "height": 34
    },
    "colab_type": "code",
    "id": "s4nPf83otvoG",
    "outputId": "606fb557-85c4-41e9-a98d-bfccf3c1d3a8"
   },
   "outputs": [
    {
     "data": {
      "text/plain": [
       "Counter({'1': 1})"
      ]
     },
     "execution_count": 3,
     "metadata": {},
     "output_type": "execute_result"
    }
   ],
   "source": [
    "Circuit().x[0].m[:].run(shots=1)"
   ]
  },
  {
   "cell_type": "markdown",
   "metadata": {
    "colab_type": "text",
    "id": "bnQKAJQuBKNS"
   },
   "source": [
    "こちらは1という答えが1回出ました。このように計算します。"
   ]
  },
  {
   "cell_type": "markdown",
   "metadata": {
    "colab_type": "text",
    "id": "j7qObHmWBWoX"
   },
   "source": [
    "## （応用）状態ベクトル\n",
    "中級者以上は状態ベクトルという答えの分布を求めたいことがあります。  \n",
    "状態ベクトルは回路の測定をせずに.run()メソッドを実行します。"
   ]
  },
  {
   "cell_type": "code",
   "execution_count": 4,
   "metadata": {
    "colab": {
     "base_uri": "https://localhost:8080/",
     "height": 34
    },
    "colab_type": "code",
    "id": "uzaQ3WSwBYgf",
    "outputId": "609e3c4f-4f8c-4216-8231-327b5ce589ae"
   },
   "outputs": [
    {
     "data": {
      "text/plain": [
       "array([0.70710678+0.j, 0.70710678+0.j])"
      ]
     },
     "execution_count": 4,
     "metadata": {},
     "output_type": "execute_result"
    }
   ],
   "source": [
    "Circuit().h[0].run()"
   ]
  },
  {
   "cell_type": "markdown",
   "metadata": {
    "colab_type": "text",
    "id": "7SL_2kj7BnuQ"
   },
   "source": [
    "このように状態ベクトルと呼ばれる確率分布が求まりました。以上です。"
   ]
  }
 ],
 "metadata": {
  "colab": {
   "name": "tutorial001_basic_circuit.ipynb",
   "provenance": [],
   "version": "0.3.2"
  },
  "kernelspec": {
   "display_name": "Python 3",
   "language": "python",
   "name": "python3"
  },
  "language_info": {
   "codemirror_mode": {
    "name": "ipython",
    "version": 3
   },
   "file_extension": ".py",
   "mimetype": "text/x-python",
   "name": "python",
   "nbconvert_exporter": "python",
   "pygments_lexer": "ipython3",
   "version": "3.7.6"
  }
 },
 "nbformat": 4,
 "nbformat_minor": 1
}
