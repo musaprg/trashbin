{
  "nbformat": 4,
  "nbformat_minor": 0,
  "metadata": {
    "colab": {
      "name": "014_algo_grover.ipynb",
      "version": "0.3.2",
      "provenance": [],
      "collapsed_sections": []
    },
    "kernelspec": {
      "display_name": "Python 3",
      "language": "python",
      "name": "python3"
    }
  },
  "cells": [
    {
      "metadata": {
        "colab_type": "text",
        "id": "NjHnSAbHrInP"
      },
      "cell_type": "markdown",
      "source": [
        "# グローバーのアルゴリズム\n",
        "グローバーのアルゴリズムは未整序のデータの検索が高速にできるというアルゴリズムです。マーキングの部分にあたるオラクルと呼ばれる関数部分に検索のアルゴリズムを入れましょう。\n",
        "\n",
        "全体の流れは下記の通りです。\n",
        "\n",
        "１、重ね合わせ\n",
        "２、探したいデータのマーキング\n",
        "３、マーキングを可視化する振幅増幅反転\n",
        "\n",
        "マーキングと振幅増幅反転を適切な回数繰り返すと精度が上がります。こちらをBlueqatで実装してみたいと思います。"
      ]
    },
    {
      "metadata": {
        "id": "CJhIv6UdASWQ",
        "colab_type": "text"
      },
      "cell_type": "markdown",
      "source": [
        "## マーキング\n",
        "まず2量子ビットのGroverからです。2量子ビットの組み合わせの場合の数は、00,01,10,11の4通りです。その中から特定の組み合わせを抜き出してみたいと思います。それを実現するにはゲート操作をつかって、「解に対応する状態ベクトルだけに-1がかかる対角行列を数学的に作り」ます。\n",
        " "
      ]
    },
    {
      "metadata": {
        "id": "eCbLursHB1My",
        "colab_type": "code",
        "colab": {}
      },
      "cell_type": "code",
      "source": [
        "'''\n",
        "#00\n",
        "[[-1  0  0  0]\n",
        " [ 0  1  0  0]\n",
        " [ 0  0  1  0]\n",
        " [ 0  0  0  1]]\n",
        "\n",
        "#01\n",
        "[[ 1  0  0  0]\n",
        " [ 0 -1  0  0]\n",
        " [ 0  0  1  0]\n",
        " [ 0  0  0  1]]\n",
        "\n",
        "#10\n",
        "[[ 1  0  0  0]\n",
        " [ 0  1  0  0]\n",
        " [ 0  0 -1  0]\n",
        " [ 0  0  0  1]]\n",
        "\n",
        "#11\n",
        "[[ 1  0  0  0]\n",
        " [ 0  1  0  0]\n",
        " [ 0  0  1  0]\n",
        " [ 0  0  0 -1]]\n",
        " '''"
      ],
      "execution_count": 0,
      "outputs": []
    },
    {
      "metadata": {
        "id": "zizMxwsLCAg4",
        "colab_type": "text"
      },
      "cell_type": "markdown",
      "source": [
        "このように、マーキングしたい状態ベクトルに対応する部分に-1を設定した行列を作ってかけます。"
      ]
    },
    {
      "metadata": {
        "id": "oXg3hf3yAkMS",
        "colab_type": "text"
      },
      "cell_type": "markdown",
      "source": [
        "## マーキング\n",
        "マーキング回路は下記のように重ね合わせの後に上記のゲートをかけます。下記のようにHのあとに各々のオラクルをつけます。*はコントロールゲート、Zはターゲットゲートです。対応するblueqatコードも併記します。"
      ]
    },
    {
      "metadata": {
        "id": "mV6JWcmHCMY2",
        "colab_type": "code",
        "colab": {}
      },
      "cell_type": "code",
      "source": [
        "'''\n",
        "#00\n",
        "--H--S--*--S--\n",
        "--H--S--Z--S--\n",
        "'''\n",
        "\n",
        "Circuit(2).h[:].s[:].cz[0,1].s[:]\n",
        "\n",
        "'''\n",
        "#01\n",
        "--H-----*-----\n",
        "--H--S--Z--S--\n",
        "'''\n",
        "\n",
        "Circuit(2).h[:].s[1].cz[0,1].s[1]\n",
        "\n",
        "'''\n",
        "#10\n",
        "--H--S--*--S--\n",
        "--H-----Z-----\n",
        "'''\n",
        "\n",
        "Circuit(2).h[:].s[0].cz[0,1].s[0]\n",
        "\n",
        "'''\n",
        "#11\n",
        "--H-----*-----\n",
        "--H-----Z-----\n",
        "'''\n",
        "\n",
        "Circuit(2).h[:].cz[0,1]"
      ],
      "execution_count": 0,
      "outputs": []
    },
    {
      "metadata": {
        "id": "U1uxGVsCCi85",
        "colab_type": "text"
      },
      "cell_type": "markdown",
      "source": [
        "## 振幅増幅反転\n",
        "振幅増幅反転は、対角項が-1、非対角項が+1の行列を用意することでマーキングした回路にかけることで、マーキングしたものの振幅が増幅されます。振幅増幅反転のユニタリ変換は各パターン共通となっています。こちらをBlueqatに直してみます。"
      ]
    },
    {
      "metadata": {
        "id": "uEO1xB4OCkcK",
        "colab_type": "code",
        "colab": {}
      },
      "cell_type": "code",
      "source": [
        "Circuit(2).h[:].x[:].cz[0,1].x[:].h[:].m[:]\n",
        "\n",
        "'''\n",
        "--H-X-*-X-H--\n",
        "--H-X-Z-X-H--\n",
        "'''\n"
      ],
      "execution_count": 0,
      "outputs": []
    },
    {
      "metadata": {
        "id": "yd5MaoRKCuWS",
        "colab_type": "text"
      },
      "cell_type": "markdown",
      "source": [
        "## 回路の実装\n",
        "では、実際の回路の実装です。"
      ]
    },
    {
      "metadata": {
        "id": "3eRpgppa_1FI",
        "colab_type": "code",
        "outputId": "c806ddfa-b713-4297-d97e-cb5a9f063c3b",
        "colab": {
          "base_uri": "https://localhost:8080/",
          "height": 34
        }
      },
      "cell_type": "code",
      "source": [
        "from blueqat import Circuit\n",
        "\n",
        "#振幅増幅反転\n",
        "a = Circuit(2).h[:].x[:].cz[0,1].x[:].h[:].m[:]\n",
        "\n",
        "'''\n",
        "#00回路\n",
        "--H--S--*--S----H-X-*-X-H--\n",
        "--H--S--Z--S----H-X-Z-X-H--\n",
        "'''\n",
        "\n",
        "(Circuit(2).h[:].s[:].cz[0,1].s[:] + a).run(shots=100)"
      ],
      "execution_count": 8,
      "outputs": [
        {
          "output_type": "execute_result",
          "data": {
            "text/plain": [
              "Counter({'00': 100})"
            ]
          },
          "metadata": {
            "tags": []
          },
          "execution_count": 8
        }
      ]
    },
    {
      "metadata": {
        "id": "WcvE1NcLC4H7",
        "colab_type": "code",
        "colab": {
          "base_uri": "https://localhost:8080/",
          "height": 34
        },
        "outputId": "9a109850-28fe-4991-ecd4-260ff59f11b4"
      },
      "cell_type": "code",
      "source": [
        "'''\n",
        "#01回路\n",
        "--H-----*-------H-X-*-X-H--\n",
        "--H--S--Z--S---H-X-Z-X-H--\n",
        "'''\n",
        "\n",
        "(Circuit(2).h[:].s[1].cz[0,1].s[1] + a).run(shots=100)"
      ],
      "execution_count": 9,
      "outputs": [
        {
          "output_type": "execute_result",
          "data": {
            "text/plain": [
              "Counter({'01': 100})"
            ]
          },
          "metadata": {
            "tags": []
          },
          "execution_count": 9
        }
      ]
    },
    {
      "metadata": {
        "id": "N4BvigvuDHfu",
        "colab_type": "code",
        "colab": {
          "base_uri": "https://localhost:8080/",
          "height": 34
        },
        "outputId": "8f692ae1-7dae-486b-9037-eb0592e2dfe8"
      },
      "cell_type": "code",
      "source": [
        "'''\n",
        "#10回路\n",
        "--H--S--*--S----H-X-*-X-H--\n",
        "--H-----Z--------H-X-Z-X-H--\n",
        "'''\n",
        "(Circuit(2).h[:].s[0].cz[0,1].s[0] + a).run(shots=100)"
      ],
      "execution_count": 10,
      "outputs": [
        {
          "output_type": "execute_result",
          "data": {
            "text/plain": [
              "Counter({'10': 100})"
            ]
          },
          "metadata": {
            "tags": []
          },
          "execution_count": 10
        }
      ]
    },
    {
      "metadata": {
        "id": "wQ94cpSODMyP",
        "colab_type": "code",
        "colab": {
          "base_uri": "https://localhost:8080/",
          "height": 34
        },
        "outputId": "3b57c351-6ab9-4563-9c33-2cc2bdcd16ba"
      },
      "cell_type": "code",
      "source": [
        "'''\n",
        "#11回路\n",
        "--H-----*-------H-X-*-X-H--\n",
        "--H-----Z-------H-X-Z-X-H--\n",
        "'''\n",
        "(Circuit(2).h[:].cz[0,1] + a).run(shots=100)"
      ],
      "execution_count": 11,
      "outputs": [
        {
          "output_type": "execute_result",
          "data": {
            "text/plain": [
              "Counter({'11': 100})"
            ]
          },
          "metadata": {
            "tags": []
          },
          "execution_count": 11
        }
      ]
    },
    {
      "metadata": {
        "id": "lP9JKP_xDgai",
        "colab_type": "text"
      },
      "cell_type": "markdown",
      "source": [
        "このようにできました。Groverのアルゴリズムが身近になりました。"
      ]
    }
  ]
}