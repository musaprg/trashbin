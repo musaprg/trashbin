{
  "nbformat": 4,
  "nbformat_minor": 0,
  "metadata": {
    "colab": {
      "name": "046_protein_foldings",
      "provenance": []
    },
    "kernelspec": {
      "name": "python3",
      "display_name": "Python 3"
    }
  },
  "cells": [
    {
      "cell_type": "markdown",
      "metadata": {
        "id": "9x8rGoL0OcUW",
        "colab_type": "text"
      },
      "source": [
        "#タンパク質折りたたみ問題\n",
        "\n",
        "量子アニーリングを用いた創薬関連のタンパク質折りたたみ問題がハーバード大学の先生によって2012年に発表されていました。そのタンパク質折りたたみ問題の論文を元に実際にwildqatで解いてみたいと思います。"
      ]
    },
    {
      "cell_type": "markdown",
      "metadata": {
        "id": "cN821dY4Oja6",
        "colab_type": "text"
      },
      "source": [
        "##参考にする論文\n",
        "natureに掲載されているこちらの論文をベースにします。\n",
        "\n",
        "Finding low-energy conformations of lattice protein models by quantum annealing\n",
        "Alejandro Perdomo-Ortiz, Neil Dickson, Marshall Drew-Brook, Geordie Rose & Alán Aspuru-Guzik\n",
        "Scientific Reports volume 2, Article number: 571 (2012)\n",
        "https://www.nature.com/articles/srep00571\n",
        "\n"
      ]
    },
    {
      "cell_type": "markdown",
      "metadata": {
        "id": "7Q5842YzOoFr",
        "colab_type": "text"
      },
      "source": [
        "##問題の概要とHPモデル、MJモデル\n",
        "\n",
        "タンパク質を単純にモデル化をしてそれをイジングモデルモデルに落とし込むという試みです。\n",
        "\n",
        "まずは、HPモデルというモデルを使用しています。\n",
        "\n",
        "HPモデル\n",
        "• アミノ酸をＨ（疎水性、非極性アミノ酸）とＰ(親水性、極性アミノ酸）のいずれかに分ける。\n",
        "• Ｈは、水を嫌い、互いに引き付けあう\n",
        "\n",
        "参考：HPモデルhttp://www.iba.t.u-tokyo.ac.jp/iba/AI/HP.pdf\n",
        "\n",
        "Mijazawa-Jernigan (MJ) model\n",
        "今回は単純化されたMJモデルを利用します。"
      ]
    },
    {
      "cell_type": "markdown",
      "metadata": {
        "id": "1lavzUR0O1dk",
        "colab_type": "text"
      },
      "source": [
        "##MJモデルのQUBOへの適用\n",
        "用意された塩基列を特定の方向に回転させる操作をイジングモデルに対応させています。\n",
        "\n",
        "<img src=\"https://github.com/Blueqat/Wildqat/blob/master/examples_ja/img/024_5.png?raw=1\">\n",
        "引用：https://www.nature.com/articles/srep00571\n",
        "\n",
        "今回使用する塩基列は、PSVKMAの配列で、\n",
        "下記のように特定の塩基列が隣接すると安定状態になり、エネルギーがへります。このエネルギーの安定化を使っってコスト関数を最小化させることを狙います。\n",
        "\n",
        "<img src=\"https://github.com/Blueqat/Wildqat/blob/master/examples_ja/img/024_0.png?raw=1\">\n",
        "\n",
        "また、今回塩基列を全て一度に処理するのは難しいのでいくつかのパターンに分けます。\n",
        "\n",
        "<img src=\"https://github.com/Blueqat/Wildqat/blob/master/examples_ja/img/024_1.png?raw=1\">\n",
        "\n",
        "引用：https://www.nature.com/articles/srep00571\n",
        "\n",
        "上記のようにすでにいくつかの折りたたまれたパターンから出発して安定状態を求めます。数が多くないので書き出すことができ、もっとも低いエネルギー安定状態は下記のようになります。それぞれのパターンに対して安定状態に到達できる形状が異なるようなので、どれか１つのschemeを取り上げて一番エネルギーの低い状態を立式から導き出したいと思います。\n",
        "\n",
        "<img src=\"https://github.com/Blueqat/Wildqat/blob/master/examples_ja/img/024_2.png?raw=1\">\n",
        "\n",
        "引用：https://www.nature.com/articles/srep00571"
      ]
    },
    {
      "cell_type": "markdown",
      "metadata": {
        "id": "qcRgHPVPUu-n",
        "colab_type": "text"
      },
      "source": [
        "##コスト関数\n",
        "今回のコスト関数は、\n",
        "\n",
        "$$E_p = E_{onsite} + E_{px} + E_{ext}$$\n",
        "\n",
        "となります。１項目はタンパク質の塩基列が重ならないという条件、２項目は塩基列同士の近接の相互作用のエネルギー関数、３項目は外部からの影響です。今回３項目は使用しないということなので、\n",
        "\n",
        "$$E_p = E_{onsite} + E_{pw}$$\n",
        "\n",
        "となります。"
      ]
    },
    {
      "cell_type": "markdown",
      "metadata": {
        "id": "incREHo7VUM_",
        "colab_type": "text"
      },
      "source": [
        "##モデル\n",
        "今回、論文中にも触れられている実験３をやって見たいと思います。塩基列は、\n",
        "\n",
        "<img src=\"https://github.com/Blueqat/Wildqat/blob/master/examples_ja/img/024_3.png?raw=1\">\n",
        "\n",
        "この順番ですが、今回はある程度折りたたまれた状態で始まります。\n",
        "\n",
        "<img src=\"https://github.com/Blueqat/Wildqat/blob/master/examples_ja/img/024_4.png?raw=1\">\n",
        "\n",
        "この場合、PSKVまでは決まっていて、Mは下か左が決まっていますので、回転方向はPから順番に書いてみると、\n",
        "\n",
        "$$010010q_10q_2q_3$$\n",
        "\n",
        "となり、３量子ビットの式を解けばよいことになります。$01$は右、$00$は下、$10$は左、Mは下か左しかないので、$00$か$10$なので、$0$は決まっていて、残りの$q_1$から$q_3$をイジング問題で求めます。\n",
        "\n",
        "コスト関数は、\n",
        "\n",
        "$$E = -1-4q_3+9q_1q_3+9q_2q_3-16q_1q_2q_3$$"
      ]
    },
    {
      "cell_type": "markdown",
      "metadata": {
        "id": "13okraFgWdfp",
        "colab_type": "text"
      },
      "source": [
        "##３体問題の２体問題への分解\n",
        "ここで、QUBOではそのままでは解けない３体問題がでてきます。この際には数学変換で２体問題へと分解をします。詳しくは他のチュートリアルを参照ください。\n",
        "\n",
        "新しい量子ビット$q_4$を導入して、\n",
        "\n",
        "$$q_4=q_1q_2$$\n",
        "\n",
        "これにペナルティ項を導入するとコスト関数は、\n",
        "\n",
        "$$E = -1-4q_3+9q_1q_3+9q_2q_3-16q_3q_4+\\delta(3q_4+q_1q_2-2q_1q_4-2q_2q_4)$$\n",
        "\n",
        "こちらをWildqatに入れて計算をして見ます。"
      ]
    },
    {
      "cell_type": "markdown",
      "metadata": {
        "id": "UGsLxgGFXGeT",
        "colab_type": "text"
      },
      "source": [
        "##Wildqatへ実装\n",
        "ここで上記のQUBOを実装します。\n",
        "デルタの値を10として見てとくと、"
      ]
    },
    {
      "cell_type": "code",
      "metadata": {
        "id": "9P2zwQ1IOQ8d",
        "colab_type": "code",
        "colab": {
          "base_uri": "https://localhost:8080/",
          "height": 136
        },
        "outputId": "fde11516-f487-4433-ec77-197f298d58f3"
      },
      "source": [
        "!pip install blueqat"
      ],
      "execution_count": 1,
      "outputs": [
        {
          "output_type": "stream",
          "text": [
            "Collecting blueqat\n",
            "\u001b[?25l  Downloading https://files.pythonhosted.org/packages/bb/86/1b72a7cbe500b861d63e84cc6383fbf3730f08ae69fcd85146ae8e3b8873/blueqat-0.3.10-py3-none-any.whl (46kB)\n",
            "\r\u001b[K     |███████                         | 10kB 15.2MB/s eta 0:00:01\r\u001b[K     |██████████████                  | 20kB 4.1MB/s eta 0:00:01\r\u001b[K     |█████████████████████▏          | 30kB 5.8MB/s eta 0:00:01\r\u001b[K     |████████████████████████████▏   | 40kB 3.3MB/s eta 0:00:01\r\u001b[K     |████████████████████████████████| 51kB 2.3MB/s \n",
            "\u001b[?25hRequirement already satisfied: scipy>=1.1.0 in /usr/local/lib/python3.6/dist-packages (from blueqat) (1.3.3)\n",
            "Requirement already satisfied: numpy~=1.12 in /usr/local/lib/python3.6/dist-packages (from blueqat) (1.17.4)\n",
            "Installing collected packages: blueqat\n",
            "Successfully installed blueqat-0.3.10\n"
          ],
          "name": "stdout"
        }
      ]
    },
    {
      "cell_type": "code",
      "metadata": {
        "id": "C94w4p1qXNaK",
        "colab_type": "code",
        "outputId": "6d6d4c51-2b68-4f4c-c644-584cac482c3c",
        "colab": {
          "base_uri": "https://localhost:8080/",
          "height": 34
        }
      },
      "source": [
        "import blueqat.opt as wq\n",
        "a = wq.opt()\n",
        "d = 10;\n",
        "a.qubo = [[0,d,9,-2*d],[0,0,9,-2*d],[0,0,-4,-16],[0,0,0,3*d]]\n",
        "a.sa()\n"
      ],
      "execution_count": 2,
      "outputs": [
        {
          "output_type": "execute_result",
          "data": {
            "text/plain": [
              "[0, 0, 1, 0]"
            ]
          },
          "metadata": {
            "tags": []
          },
          "execution_count": 2
        }
      ]
    },
    {
      "cell_type": "markdown",
      "metadata": {
        "id": "mpLUbubQXfEY",
        "colab_type": "text"
      },
      "source": [
        "答えは$0010$となりました、QUBOで表現されたタンパク質の折りたたみは、\n",
        "\n",
        "$0100100010$\n",
        "\n",
        "という回転を表現することになり、下記のようなものがもっとも安定なものとなります。\n",
        "\n",
        "<img src=\"https://github.com/Blueqat/Wildqat/blob/master/examples_ja/img/024_7.png?raw=1\">"
      ]
    }
  ]
}