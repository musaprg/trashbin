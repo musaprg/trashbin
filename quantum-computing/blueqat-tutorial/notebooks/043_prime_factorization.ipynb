{
  "nbformat": 4,
  "nbformat_minor": 0,
  "metadata": {
    "colab": {
      "name": "043_prime_factorization",
      "provenance": []
    },
    "kernelspec": {
      "name": "python3",
      "display_name": "Python 3"
    }
  },
  "cells": [
    {
      "cell_type": "markdown",
      "metadata": {
        "id": "ktatybgO-wRd",
        "colab_type": "text"
      },
      "source": [
        "#QUBOで素因数分解\n",
        "ここでは、QUBOを活用した素因数分解の方法を見ていきます。素因数分解は最小値問題に落とし込むことができ、コスト関数のコストを見ることで正解にたどり着いているかどうかを確認することができます。\n",
        "\n",
        "また、素因数分解は膨大な解候補の中からたった１つの解を求めないといけないのでQUBOの中でももっとも難しい問題の１つですので、このテーマを学習することはとても勉強になります。"
      ]
    },
    {
      "cell_type": "markdown",
      "metadata": {
        "id": "EVdS3AsVGCq8",
        "colab_type": "text"
      },
      "source": [
        "##15を素因数分解する\n",
        "例題で15を素因数分解して見ます。\n",
        "分解する整数をpとqとおくと、\n",
        "\n",
        "$$15 = p*q$$\n",
        "\n",
        "上記のようになります。この式を満たすためのコスト関数は、\n",
        "\n",
        "$$E = (15 - p*q)^2$$\n",
        "\n",
        "\n",
        "となります。pとqの10進数はバイナリ値の量子ビットをつかって下記のように表現ができます。\n",
        "\n",
        "$$p = 1+2q_0+4q_1, q=1+2q_2$$\n",
        "\n",
        "こちらを代入すると、\n",
        "\n",
        "$$E = \\{ 15 -(1+2q_0+4q_1)(1+2q_2)\\}^2$$\n",
        "\n",
        "<img class=\"math math-inline\" src=\"https://render.githubusercontent.com/render/math?math=E%20%3D%2016q_0%5E2q_2%5E2%20%2B%2016q_0%5E2q_2%20%2B%204q_0%5E2%20%2B%2064q_0q_1q_2%5E2%20%2B%2064q_0q_1q_2%20%2B%2016q_0q_1%20%2B%2016q_0q_2%5E2%20-%20104q_0q_2%20-%2056q_0%20%2B%2064q_1%5E2q_2%5E2%20%2B%2064q_1%5E2q_2%20%2B%2016q_1%5E2%20%2B%2032q_1q_2%5E2%20-%20208q_1q_2%20-%20112q_1%20%2B%204q_2%5E2%20-%2056q_2%20%2B%20196\">\n",
        "\n",
        "ここからバイナリの二乗をはずして、\n",
        "\n",
        "$$E = 128q_0q_1q_2 + 16q_0q_1 -56q_0q_2 -52q_0 -48q_1q_2 -96q_1 -52q_2 + 196$$\n",
        "こちらを計算していきます。\n",
        "\n"
      ]
    },
    {
      "cell_type": "markdown",
      "metadata": {
        "id": "4XCKbmOl2BY1",
        "colab_type": "text"
      },
      "source": [
        "##三体問題の分解を使う\n",
        "\n",
        "ここで、上記に３体問題が出てきますので、QUBOではそのままでは解けませんので２体問題への分解を行います。チュートリアル１８で出てきたテクニックを使い、新しい量子ビットq1*q2 = q3を導入して式に代入し、最後にペナルティ項をつけます。\n",
        "\n",
        "<img class=\"math math-inline\" src=\"https://render.githubusercontent.com/render/math?math=E%20%3D%20128q_0q_3%20%2B%2016q_0q_1%20-%2056q_0q_2%20-%2052q_0%20-%2048q_1q_2%20-%2096q_1%20-%2052q_2%20%2B%20196%20%2B%20%5Cdelta(3q_3%2Bq_1q_2-2q_1q_3-2q_2q_3)\">\n",
        "\n",
        "この式を解いていきます。ここで、Gamma = 128として解いて見ると、各項の係数をQUBOmatrixに入れて見て、"
      ]
    },
    {
      "cell_type": "code",
      "metadata": {
        "id": "tLiIadmF9DND",
        "colab_type": "code",
        "colab": {
          "base_uri": "https://localhost:8080/",
          "height": 136
        },
        "outputId": "1c34e833-50a5-46af-fce2-5f30a9f606a2"
      },
      "source": [
        "!pip install blueqat"
      ],
      "execution_count": 1,
      "outputs": [
        {
          "output_type": "stream",
          "text": [
            "Collecting blueqat\n",
            "\u001b[?25l  Downloading https://files.pythonhosted.org/packages/bb/86/1b72a7cbe500b861d63e84cc6383fbf3730f08ae69fcd85146ae8e3b8873/blueqat-0.3.10-py3-none-any.whl (46kB)\n",
            "\r\u001b[K     |███████                         | 10kB 21.1MB/s eta 0:00:01\r\u001b[K     |██████████████                  | 20kB 6.2MB/s eta 0:00:01\r\u001b[K     |█████████████████████▏          | 30kB 8.5MB/s eta 0:00:01\r\u001b[K     |████████████████████████████▏   | 40kB 5.6MB/s eta 0:00:01\r\u001b[K     |████████████████████████████████| 51kB 3.8MB/s \n",
            "\u001b[?25hRequirement already satisfied: scipy>=1.1.0 in /usr/local/lib/python3.6/dist-packages (from blueqat) (1.3.3)\n",
            "Requirement already satisfied: numpy~=1.12 in /usr/local/lib/python3.6/dist-packages (from blueqat) (1.17.4)\n",
            "Installing collected packages: blueqat\n",
            "Successfully installed blueqat-0.3.10\n"
          ],
          "name": "stdout"
        }
      ]
    },
    {
      "cell_type": "code",
      "metadata": {
        "id": "fwBgJDHE-uBL",
        "colab_type": "code",
        "outputId": "f1b035e6-6a1c-4737-ea1f-395be5dd43e8",
        "colab": {
          "base_uri": "https://localhost:8080/",
          "height": 34
        }
      },
      "source": [
        "import blueqat.opt as wq\n",
        "a = wq.opt()\n",
        "a.qubo = [[-52,16,-56,128],[0,-96,80,-256],[0,0,-52,-256],[0,0,0,384]]\n",
        "a.sa()"
      ],
      "execution_count": 2,
      "outputs": [
        {
          "output_type": "execute_result",
          "data": {
            "text/plain": [
              "[0, 1, 1, 1]"
            ]
          },
          "metadata": {
            "tags": []
          },
          "execution_count": 2
        }
      ]
    },
    {
      "cell_type": "code",
      "metadata": {
        "id": "l1CdzcSsuX4r",
        "colab_type": "code",
        "outputId": "9fb63259-a0ca-46f0-c089-d727a4334570",
        "colab": {
          "base_uri": "https://localhost:8080/",
          "height": 34
        }
      },
      "source": [
        "print(a.E[-1])"
      ],
      "execution_count": 3,
      "outputs": [
        {
          "output_type": "stream",
          "text": [
            "-196.0\n"
          ],
          "name": "stdout"
        }
      ]
    },
    {
      "cell_type": "markdown",
      "metadata": {
        "id": "5FnOKgVXvamp",
        "colab_type": "text"
      },
      "source": [
        "ここで、答えは0,0,0,1がでましたので、\n",
        "$$p = 1+0+4=5$$\n",
        "$$q = 1+2 = 3$$\n",
        "となりました。\n",
        "\n",
        "エネルギーも最終のエネルギーが$-196$となり、上記コスト関数の定数項と足し合わせることで全体のエネルギーが0となっているのが確認できました。\n",
        "\n",
        "これで素因数分解は解けています。"
      ]
    }
  ]
}