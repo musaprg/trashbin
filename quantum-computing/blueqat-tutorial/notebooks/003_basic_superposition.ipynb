{
  "nbformat": 4,
  "nbformat_minor": 0,
  "metadata": {
    "colab": {
      "name": "003_basic_superposition.ipynb",
      "version": "0.3.2",
      "provenance": [],
      "collapsed_sections": []
    },
    "kernelspec": {
      "display_name": "Python 3",
      "language": "python",
      "name": "python3"
    }
  },
  "cells": [
    {
      "cell_type": "markdown",
      "metadata": {
        "colab_type": "text",
        "id": "NjHnSAbHrInP"
      },
      "source": [
        "# 量子重ね合わせと測定\n",
        "ここではすこし量子コンピュータぽい回路を確認します。重ね合わせです。重ね合わせは0と1が重ね合わさっていると表現されます。基本的には重ね合わせ＝組み合わせなので組み合わせと捉えてもいいと思います。早速やってみましょう。"
      ]
    },
    {
      "cell_type": "code",
      "metadata": {
        "id": "C64wySBpZW1X",
        "colab_type": "code",
        "colab": {}
      },
      "source": [
        "!pip install blueqat"
      ],
      "execution_count": 0,
      "outputs": []
    },
    {
      "cell_type": "markdown",
      "metadata": {
        "colab_type": "text",
        "id": "PKhFYi-drld1"
      },
      "source": [
        "## 回路の作成\n",
        "回路はとてもシンプルです。アダマールゲートと呼ばれるゲートを使うことで重ね合わせを実現できます。ここでは重ね合わせを実感するために100回実行してみましょう。Hゲートを0番目の量子ビットにかけてみます。\n"
      ]
    },
    {
      "cell_type": "code",
      "metadata": {
        "colab_type": "code",
        "id": "O674HiVxjc7P",
        "outputId": "e5958825-c64d-48e3-9ab3-35aa9ebb2263",
        "colab": {
          "base_uri": "https://localhost:8080/",
          "height": 34
        }
      },
      "source": [
        "from blueqat import Circuit\n",
        "\n",
        "Circuit().h[0].m[:].run(shots=100)"
      ],
      "execution_count": 2,
      "outputs": [
        {
          "output_type": "execute_result",
          "data": {
            "text/plain": [
              "Counter({'0': 46, '1': 54})"
            ]
          },
          "metadata": {
            "tags": []
          },
          "execution_count": 2
        }
      ]
    },
    {
      "cell_type": "markdown",
      "metadata": {
        "id": "Pj4TW4zHDG7d",
        "colab_type": "text"
      },
      "source": [
        "上記は0が49回。1が51回でました。これが重ね合わせです。アダマールゲートを初期状態にかけると重ね合わせ状態が実現され、+という状態になります。これはちょうど0と1の間で、量子コンピュータで計算をして測定をすると0か1が50%ずつで出現します。"
      ]
    },
    {
      "cell_type": "markdown",
      "metadata": {
        "colab_type": "text",
        "id": "wHrRyYvfuCMC"
      },
      "source": [
        "## （応用）マイナス状態で重ね合わせを作ってみる\n",
        "アダマールゲートを設定した場合、+状態と呼ばれる状態になります。これに対して-状態もあります。それも少しみてみます。マイナス状態は+状態に対してZゲートを適用することで実現できます。\n"
      ]
    },
    {
      "cell_type": "code",
      "metadata": {
        "colab_type": "code",
        "id": "s4nPf83otvoG",
        "outputId": "f06a2670-07d2-4844-e003-19cc8cb82023",
        "colab": {
          "base_uri": "https://localhost:8080/",
          "height": 34
        }
      },
      "source": [
        "Circuit().h[0].z[0].m[:].run(shots=100)"
      ],
      "execution_count": 3,
      "outputs": [
        {
          "output_type": "execute_result",
          "data": {
            "text/plain": [
              "Counter({'0': 52, '1': 48})"
            ]
          },
          "metadata": {
            "tags": []
          },
          "execution_count": 3
        }
      ]
    },
    {
      "cell_type": "markdown",
      "metadata": {
        "id": "bnQKAJQuBKNS",
        "colab_type": "text"
      },
      "source": [
        "このように0と1がやはり約半々で出てきました。プラス状態とマイナス状態は区別がつかないので、シミュレータでは状態ベクトルを見ます。\n"
      ]
    },
    {
      "cell_type": "code",
      "metadata": {
        "id": "uzaQ3WSwBYgf",
        "colab_type": "code",
        "outputId": "eeaad801-651f-4997-ed2a-37d1bf3cfecf",
        "colab": {
          "base_uri": "https://localhost:8080/",
          "height": 34
        }
      },
      "source": [
        "Circuit().h[0].run()"
      ],
      "execution_count": 4,
      "outputs": [
        {
          "output_type": "execute_result",
          "data": {
            "text/plain": [
              "array([0.70710678+0.j, 0.70710678+0.j])"
            ]
          },
          "metadata": {
            "tags": []
          },
          "execution_count": 4
        }
      ]
    },
    {
      "cell_type": "markdown",
      "metadata": {
        "id": "7SL_2kj7BnuQ",
        "colab_type": "text"
      },
      "source": [
        "+状態の状態ベクトルは+符号で同様に出てきました。"
      ]
    },
    {
      "cell_type": "code",
      "metadata": {
        "id": "SdPHY7RBGuxe",
        "colab_type": "code",
        "outputId": "07d7cc6a-53b9-4d5c-e43b-411e80ee5091",
        "colab": {
          "base_uri": "https://localhost:8080/",
          "height": 34
        }
      },
      "source": [
        "Circuit().h[0].z[0].run()"
      ],
      "execution_count": 5,
      "outputs": [
        {
          "output_type": "execute_result",
          "data": {
            "text/plain": [
              "array([ 0.70710678+0.j, -0.70710678+0.j])"
            ]
          },
          "metadata": {
            "tags": []
          },
          "execution_count": 5
        }
      ]
    },
    {
      "cell_type": "markdown",
      "metadata": {
        "id": "Y6NtTz8fGyQQ",
        "colab_type": "text"
      },
      "source": [
        "一方、-状態では、状態ベクトルの一部が-になっています。このように区別をつけて確認できます。これはシミュレータだけの機能で、実際の量子コンピュータでは使用することができません。以上です。"
      ]
    }
  ]
}