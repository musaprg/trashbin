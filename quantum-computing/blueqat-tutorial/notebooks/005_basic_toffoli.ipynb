{
  "nbformat": 4,
  "nbformat_minor": 0,
  "metadata": {
    "colab": {
      "name": "005_basic_toffoli.ipynb",
      "provenance": [],
      "collapsed_sections": []
    },
    "kernelspec": {
      "display_name": "Python 3",
      "language": "python",
      "name": "python3"
    }
  },
  "cells": [
    {
      "cell_type": "markdown",
      "metadata": {
        "colab_type": "text",
        "id": "NjHnSAbHrInP"
      },
      "source": [
        "# トフォリゲート\n",
        "前回までは1量子ビットと2量子ビットの演算を行なってきました。トフォリゲートは3量子ビットを利用する演算です。トフォリゲートはトマソ・トフォリによって作られ、二つのコントロールビットと一つのターゲットビットを持ちます。両方のコントロールビットが1の時にのみ、ターゲットビットにXゲートが適用されます。早速みてみましょう。\n",
        "\n",
        "まずはインストールをします。"
      ]
    },
    {
      "cell_type": "code",
      "metadata": {
        "id": "cb3LQWj6mcqF",
        "colab_type": "code",
        "colab": {
          "base_uri": "https://localhost:8080/",
          "height": 136
        },
        "outputId": "d0ac5503-2092-433c-b83c-2bac91db61d0"
      },
      "source": [
        "!pip install blueqat"
      ],
      "execution_count": 1,
      "outputs": [
        {
          "output_type": "stream",
          "text": [
            "Collecting blueqat\n",
            "\u001b[?25l  Downloading https://files.pythonhosted.org/packages/bb/86/1b72a7cbe500b861d63e84cc6383fbf3730f08ae69fcd85146ae8e3b8873/blueqat-0.3.10-py3-none-any.whl (46kB)\n",
            "\r\u001b[K     |███████                         | 10kB 15.2MB/s eta 0:00:01\r\u001b[K     |██████████████                  | 20kB 1.8MB/s eta 0:00:01\r\u001b[K     |█████████████████████▏          | 30kB 2.6MB/s eta 0:00:01\r\u001b[K     |████████████████████████████▏   | 40kB 1.7MB/s eta 0:00:01\r\u001b[K     |████████████████████████████████| 51kB 1.7MB/s \n",
            "\u001b[?25hRequirement already satisfied: scipy>=1.1.0 in /usr/local/lib/python3.6/dist-packages (from blueqat) (1.3.2)\n",
            "Requirement already satisfied: numpy~=1.12 in /usr/local/lib/python3.6/dist-packages (from blueqat) (1.17.4)\n",
            "Installing collected packages: blueqat\n",
            "Successfully installed blueqat-0.3.10\n"
          ],
          "name": "stdout"
        }
      ]
    },
    {
      "cell_type": "markdown",
      "metadata": {
        "colab_type": "text",
        "id": "PKhFYi-drld1"
      },
      "source": [
        "## 回路の作成\n",
        "トフォリゲートは利用するのは簡単です。.ccxもしくは.toffoliを使います。\n",
        "まずは単純に回路を書いてみましょう。ここでは*をコントロールビット、Xをターゲットビットとしています。\n",
        "\n",
        "```\n",
        "|0> --*----\n",
        "|0> --*----\n",
        "|0> --X----\n",
        "```\n",
        "\n",
        "トフォリゲートは、\n",
        "\n",
        "\n",
        "\n"
      ]
    },
    {
      "cell_type": "code",
      "metadata": {
        "id": "TqzeX1C7tPa9",
        "colab_type": "code",
        "colab": {
          "base_uri": "https://localhost:8080/",
          "height": 34
        },
        "outputId": "062df2e2-c6ed-4c7c-b84b-6f1aa8c776cf"
      },
      "source": [
        "from blueqat import Circuit\n",
        "Circuit().ccx[0,1,2].m[:].run(shots=1)"
      ],
      "execution_count": 3,
      "outputs": [
        {
          "output_type": "execute_result",
          "data": {
            "text/plain": [
              "Counter({'000': 1})"
            ]
          },
          "metadata": {
            "tags": []
          },
          "execution_count": 3
        }
      ]
    },
    {
      "cell_type": "markdown",
      "metadata": {
        "id": "fo3V5kBpta89",
        "colab_type": "text"
      },
      "source": [
        "もしくは、"
      ]
    },
    {
      "cell_type": "code",
      "metadata": {
        "id": "aqWVl6G5tcJn",
        "colab_type": "code",
        "colab": {
          "base_uri": "https://localhost:8080/",
          "height": 34
        },
        "outputId": "4f22f41d-e585-4b67-ab57-9d9ab5185cca"
      },
      "source": [
        "Circuit().toffoli[0,1,2].m[:].run(shots=1)"
      ],
      "execution_count": 4,
      "outputs": [
        {
          "output_type": "execute_result",
          "data": {
            "text/plain": [
              "Counter({'000': 1})"
            ]
          },
          "metadata": {
            "tags": []
          },
          "execution_count": 4
        }
      ]
    },
    {
      "cell_type": "markdown",
      "metadata": {
        "id": "H1cdv6F-thje",
        "colab_type": "text"
      },
      "source": [
        "のように書けます。どちらの書き方をつかっても大丈夫です。上記はコントロールビットが両方とも0なので、ターゲットビットには変化がありません。"
      ]
    },
    {
      "cell_type": "markdown",
      "metadata": {
        "id": "V6p6ckztu6k8",
        "colab_type": "text"
      },
      "source": [
        "##コントロールビットを変化させてみる\n",
        "コントロールビットの片方を1にした時と、両方を1にした時とでどうなるかみてみましょう。最初にコントロールビットの両方を1にしてみます。1にするには反転ゲートのXゲートを使います。"
      ]
    },
    {
      "cell_type": "code",
      "metadata": {
        "id": "VHwHA55RvEwM",
        "colab_type": "code",
        "colab": {
          "base_uri": "https://localhost:8080/",
          "height": 34
        },
        "outputId": "52660123-d68c-4776-b9e7-603cf2bcbfd0"
      },
      "source": [
        "Circuit().x[0,1].ccx[0,1,2].m[:].run(shots=1)"
      ],
      "execution_count": 9,
      "outputs": [
        {
          "output_type": "execute_result",
          "data": {
            "text/plain": [
              "Counter({'111': 1})"
            ]
          },
          "metadata": {
            "tags": []
          },
          "execution_count": 9
        }
      ]
    },
    {
      "cell_type": "markdown",
      "metadata": {
        "id": "TQjky-y0vS7D",
        "colab_type": "text"
      },
      "source": [
        "どうなったでしょうか。0番目と1番目の量子ビットを1にしたことにより、2番目の量子ビットが0から1に変化しました。このようにコントロールビットを両方とも1にするとターゲットビットが反転します。"
      ]
    },
    {
      "cell_type": "markdown",
      "metadata": {
        "id": "Y7rEnsuYvl2y",
        "colab_type": "text"
      },
      "source": [
        "コントロールビットの片方の量子ビットだけを1にしたときはどうでしょうか。"
      ]
    },
    {
      "cell_type": "code",
      "metadata": {
        "id": "F9pzZ1UIvq7c",
        "colab_type": "code",
        "colab": {
          "base_uri": "https://localhost:8080/",
          "height": 34
        },
        "outputId": "aea907fb-62a7-4a65-d19b-4a5d57dc3e39"
      },
      "source": [
        "Circuit().x[0].ccx[0,1,2].m[:].run(shots=1)"
      ],
      "execution_count": 10,
      "outputs": [
        {
          "output_type": "execute_result",
          "data": {
            "text/plain": [
              "Counter({'100': 1})"
            ]
          },
          "metadata": {
            "tags": []
          },
          "execution_count": 10
        }
      ]
    },
    {
      "cell_type": "markdown",
      "metadata": {
        "id": "qoO0O7FZvr7J",
        "colab_type": "text"
      },
      "source": [
        "こちらもターゲットビットは変化なしです。"
      ]
    },
    {
      "cell_type": "code",
      "metadata": {
        "id": "u_ieQylyvt7c",
        "colab_type": "code",
        "colab": {
          "base_uri": "https://localhost:8080/",
          "height": 34
        },
        "outputId": "675bd73f-ef6e-4323-cc4e-5969ff65edc7"
      },
      "source": [
        "Circuit().x[1].ccx[0,1,2].m[:].run(shots=1)"
      ],
      "execution_count": 11,
      "outputs": [
        {
          "output_type": "execute_result",
          "data": {
            "text/plain": [
              "Counter({'010': 1})"
            ]
          },
          "metadata": {
            "tags": []
          },
          "execution_count": 11
        }
      ]
    },
    {
      "cell_type": "markdown",
      "metadata": {
        "id": "Wc0DO_GMv1Lk",
        "colab_type": "text"
      },
      "source": [
        "こちらもコントロールビットの片方だけが1なのでターゲットビットは反応なしです。"
      ]
    },
    {
      "cell_type": "markdown",
      "metadata": {
        "id": "9fc8XfYWxRIs",
        "colab_type": "text"
      },
      "source": [
        "##トフォリゲートの真理値表と行列表現\n",
        "トフォリゲートの入出力は真理値表というもので確認ができます。\n",
        "\n",
        "入力 | 出力\n",
        "--- | ---\n",
        "000 | 000\n",
        "001 | 001\n",
        "010 | 010\n",
        "011 | 011\n",
        "100 | 100\n",
        "101 | 101\n",
        "110 | 111\n",
        "111 | 110\n",
        "\n"
      ]
    },
    {
      "cell_type": "markdown",
      "metadata": {
        "id": "wpHT8BMG1S0g",
        "colab_type": "text"
      },
      "source": [
        "これをみると、110と111の時だけターゲットビットが反転しています。ゲートの行列表現も見てみましょう。\n",
        "\n",
        "$\\begin{bmatrix}\n",
        "1&0&0&0&0&0&0&0\\\\\n",
        "0&1&0&0&0&0&0&0\\\\\n",
        "0&0&1&0&0&0&0&0\\\\\n",
        "0&0&0&1&0&0&0&0\\\\\n",
        "0&0&0&0&1&0&0&0\\\\\n",
        "0&0&0&0&0&1&0&0\\\\\n",
        "0&0&0&0&0&0&0&1\\\\\n",
        "0&0&0&0&0&0&1&0\\\\\n",
        "\\end{bmatrix}$\n"
      ]
    },
    {
      "cell_type": "markdown",
      "metadata": {
        "id": "XCvx3mRu2X25",
        "colab_type": "text"
      },
      "source": [
        "最後のゲート演算でXゲートが見れます。真理値表とも合っているのが確認できます。"
      ]
    },
    {
      "cell_type": "markdown",
      "metadata": {
        "id": "0WNXEUFns4oY",
        "colab_type": "text"
      },
      "source": [
        "##トフォリゲートの中身\n",
        "トフォリゲートは実は中身は1量子ビットゲートと2量子ビットゲートで構成されています。回路はHとCXとTで構成されます。ちょっと長いですががんばってかいてみましょう。"
      ]
    },
    {
      "cell_type": "code",
      "metadata": {
        "colab_type": "code",
        "id": "O674HiVxjc7P",
        "outputId": "110c9e2e-34c0-4e59-f7ed-c86bb6d95578",
        "colab": {
          "base_uri": "https://localhost:8080/",
          "height": 34
        }
      },
      "source": [
        "from blueqat import Circuit\n",
        "import numpy as np\n",
        "\n",
        "Circuit().x[1:].h[0].cnot[1,0].rz(-np.pi/4)[0].cnot[2,0].rz(np.pi/4)[0].cnot[1,0].rz(-np.pi/4)[0].cnot[2,0].rz(np.pi/4)[:1].h[0].cnot[1,0].cnot[0,1].cnot[1,0].cnot[2,0].rz(-np.pi/4)[0].rz(np.pi/4)[2].cnot[2,0].m[:].run(shots=1)"
      ],
      "execution_count": 12,
      "outputs": [
        {
          "output_type": "execute_result",
          "data": {
            "text/plain": [
              "Counter({'111': 1})"
            ]
          },
          "metadata": {
            "tags": []
          },
          "execution_count": 12
        }
      ]
    }
  ]
}