{
  "nbformat": 4,
  "nbformat_minor": 0,
  "metadata": {
    "colab": {
      "name": "027_numberpartitioning",
      "provenance": []
    },
    "kernelspec": {
      "name": "python3",
      "display_name": "Python 3"
    }
  },
  "cells": [
    {
      "cell_type": "markdown",
      "metadata": {
        "id": "WBR-Vd1FcBF1",
        "colab_type": "text"
      },
      "source": [
        "# 自然数分割問題を計算する\n",
        "\n",
        "自然数分割問題とは、ある自然数の集合を２つのグループA, Bに分割し、それぞれのグループ内の自然数の和が同じになるような分割方法を探す問題です。\n",
        "これをwildqatを使用して解いてみます。\n",
        "\n",
        "\n",
        "wildqatがインストールされていない場合は、環境に併せて以下のようにインストールしてください。\n",
        "\n"
      ]
    },
    {
      "cell_type": "code",
      "metadata": {
        "id": "pMkrUpQgb5yC",
        "colab_type": "code",
        "outputId": "bef43bc9-c61d-4ca4-805d-d0a13a58e640",
        "colab": {
          "base_uri": "https://localhost:8080/",
          "height": 136
        }
      },
      "source": [
        "!pip3 install blueqat"
      ],
      "execution_count": 1,
      "outputs": [
        {
          "output_type": "stream",
          "text": [
            "Collecting blueqat\n",
            "\u001b[?25l  Downloading https://files.pythonhosted.org/packages/bb/86/1b72a7cbe500b861d63e84cc6383fbf3730f08ae69fcd85146ae8e3b8873/blueqat-0.3.10-py3-none-any.whl (46kB)\n",
            "\r\u001b[K     |███████                         | 10kB 22.0MB/s eta 0:00:01\r\u001b[K     |██████████████                  | 20kB 2.2MB/s eta 0:00:01\r\u001b[K     |█████████████████████▏          | 30kB 3.2MB/s eta 0:00:01\r\u001b[K     |████████████████████████████▏   | 40kB 2.1MB/s eta 0:00:01\r\u001b[K     |████████████████████████████████| 51kB 2.0MB/s \n",
            "\u001b[?25hRequirement already satisfied: scipy>=1.1.0 in /usr/local/lib/python3.6/dist-packages (from blueqat) (1.3.3)\n",
            "Requirement already satisfied: numpy~=1.12 in /usr/local/lib/python3.6/dist-packages (from blueqat) (1.17.4)\n",
            "Installing collected packages: blueqat\n",
            "Successfully installed blueqat-0.3.10\n"
          ],
          "name": "stdout"
        }
      ]
    },
    {
      "cell_type": "markdown",
      "metadata": {
        "id": "VWDd6GlHpnQb",
        "colab_type": "text"
      },
      "source": [
        "必要なライブラリをimportし、オブジェクトをインスタンス化します。"
      ]
    },
    {
      "cell_type": "code",
      "metadata": {
        "id": "Giyn1-GNcIZ0",
        "colab_type": "code",
        "colab": {}
      },
      "source": [
        "import blueqat.opt as wq\n",
        "import numpy as np\n",
        "a = wq.opt()"
      ],
      "execution_count": 0,
      "outputs": []
    },
    {
      "cell_type": "markdown",
      "metadata": {
        "id": "V1qLi57eeO8l",
        "colab_type": "text"
      },
      "source": [
        "\n",
        "解きたい問題のQUBOマトリクスを作成します。\n",
        "N個の自然数の$i$番目の自然数を$n_i$とし、その自然数がどちらのグループに属するかを$q_i$で表します。\n",
        "$n_i$がグループAに属する時には\n",
        "$q_i=1$、グループBに属する時には$q_i=0$とします。\n",
        "ここで、２つのグループ内のそれぞれの和が等しい時に最小となるようなコスト関数$E$を考えます。\n",
        "\n",
        "この場合、\n",
        "\n",
        "　$E=\\{\\sum_{i=1}^{N}n_i*(2q_i-1)\\}^2$ \n",
        "\n",
        "とすれば、自然数$n_i$がグループＡに属するとき$2q_i-1=1$、グループBに属するとき$2q_i-1=-1$\n",
        "になりますので、グループＡとグループＢに属する自然数の和が等しいときに\n",
        "$E=0$になり、異なると$E>0$になります。\n",
        "\n",
        "展開すると、\n",
        "\n",
        "　$E=(\\sum_{i=1}^{N}2n_iq_i)^2 -  2(\\sum_{i=1}^{N}2n_iq_i)(\\sum_{j=1}^{N}n_j) + (\\sum_{i=1}^{N}n_i)^2$ \n",
        "\n",
        "コスト関数Eは最小化すれば良いので、最後の定数項は要らなくなります。またコスト関数は大きさのみ関係あるので、全体を４で割って\n",
        "\n",
        "　$E=(\\sum_{i=1}^{N}n_iq_i)^2 - \\sum_{i=1}^{N}n_iq_i\\sum_{j=1}^{N}n_j$ \n",
        "\n",
        "また、$q_i=1$または$q_i=0$のとき、$q_i^2=q_i$です。また、$\\sum_{j=1}^N{n_j}$ はnの総和で定数ですので、\n",
        "$n_{sum}$とします。さらに展開して整理すると</br>\n",
        "\n",
        "　$E=\\sum_{i=1}^{N}(n_i^2 - n_{sum}n_i)q_i +2 \\sum_{i < j}n_in_jq_iq_j$ \n",
        "\n",
        "これを行列表記すると下記のようになります。\n",
        "\n",
        "　$qubo = \\left[\\begin{array}{rrrrr}n_1^2 - n_{sum}n_1 & 2n_1n_2 & 2n_1n_3 & 2n_1n_4 & ...\\\\ 0 & n_2^2 - n_{sum}n_2 & 2n_2n_3& 2n_2n_4 &...\\\\ 0 & 0 & n_3^2 - n_{sum}n_3 & 2n_3n_4 & ...\\\\ 0 & 0 & 0 & n_4^2 - n_{sum}n_4 & ...\\\\ ... & ... & ... & ... &... \\end{array} \\right]$ \n",
        "\n",
        "これをpythonプログラムで書き、シミュレータを実行して結果を得ます。"
      ]
    },
    {
      "cell_type": "code",
      "metadata": {
        "id": "1wqDGvAheHnd",
        "colab_type": "code",
        "colab": {}
      },
      "source": [
        "numbers = np.array([3,2,6,9,2,5,7,3,3,6,7,3,5,3,2,2,2,6,8,4,6,3,3,6,4,3,3,2,2,5,8,9])\n",
        "a.qubo = np.zeros((numbers.size,numbers.size))\n",
        "for i in range(numbers.size):\n",
        "  for j in range(numbers.size):\n",
        "    if i == j:\n",
        "      a.qubo[i][i]=numbers[i]**2-numbers.sum()*numbers[i]\n",
        "    elif i<j:\n",
        "      a.qubo[i][j]=2*numbers[i] * numbers[j]\n",
        "answer = a.sa()"
      ],
      "execution_count": 0,
      "outputs": []
    },
    {
      "cell_type": "markdown",
      "metadata": {
        "id": "MJuEqL6VRptU",
        "colab_type": "text"
      },
      "source": [
        "得られた結果を表示してみます。\n",
        "自然数が２つのグループに分けられ、和が等しくなっています。"
      ]
    },
    {
      "cell_type": "code",
      "metadata": {
        "id": "laK0z-S3Rnkm",
        "colab_type": "code",
        "colab": {
          "base_uri": "https://localhost:8080/",
          "height": 51
        },
        "outputId": "1d945282-03f9-45e1-efcf-985d5f517dfb"
      },
      "source": [
        "group1_string = \"\"\n",
        "group2_string = \"\"\n",
        "group1_sum = 0\n",
        "group2_sum = 0\n",
        "for i in range(numbers.size):\n",
        "  if answer[i] == 0:\n",
        "    group1_string+= '+' + str(numbers[i])\n",
        "    group1_sum+=numbers[i]\n",
        "  else:\n",
        "    group2_string+= '+' + str(numbers[i])\n",
        "    group2_sum+=numbers[i]\n",
        "\n",
        "print(group1_string[1:],\"=\",group1_sum)\n",
        "print(group2_string[1:],\"=\",group1_sum)"
      ],
      "execution_count": 9,
      "outputs": [
        {
          "output_type": "stream",
          "text": [
            "6+3+3+6+3+2+6+8+6+3+6+4+3+2+2+8 = 71\n",
            "3+2+9+2+5+7+7+5+3+2+2+4+3+3+5+9 = 71\n"
          ],
          "name": "stdout"
        }
      ]
    }
  ]
}