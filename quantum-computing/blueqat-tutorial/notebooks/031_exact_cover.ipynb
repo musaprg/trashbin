{
  "nbformat": 4,
  "nbformat_minor": 0,
  "metadata": {
    "kernelspec": {
      "display_name": "Python 3",
      "language": "python",
      "name": "python3"
    },
    "language_info": {
      "codemirror_mode": {
        "name": "ipython",
        "version": 3
      },
      "file_extension": ".py",
      "mimetype": "text/x-python",
      "name": "python",
      "nbconvert_exporter": "python",
      "pygments_lexer": "ipython3",
      "version": "3.6.5"
    },
    "colab": {
      "name": "031_exact_cover",
      "provenance": []
    }
  },
  "cells": [
    {
      "cell_type": "markdown",
      "metadata": {
        "id": "j8DLT-IMd9v_",
        "colab_type": "text"
      },
      "source": [
        "# Exact Cover問題\n",
        "\n",
        "最初にExact Cover問題について説明します。\n",
        "\n",
        "ある自然数の集合Uを考えます。またその自然数を含むいくつかのグループ$V_{1}, V_{2}, \\ldots, V_{N}$を想定します。１つの自然数が複数のグループに属していても構いません。さて、そのグループ$V_{i}$からいくつかピックアップしたときに、それらに同じ自然数が複数回含まれず、Uに含まれる自然数セットと同じになるようにピックアップする問題をExact Cover問題といいます。\n",
        "さらに、選んだグループ数を最小になるようにするものを、Smallest Exact Coverといいます。"
      ]
    },
    {
      "cell_type": "markdown",
      "metadata": {
        "id": "-a00GQ6kd9wB",
        "colab_type": "text"
      },
      "source": [
        "## 準備"
      ]
    },
    {
      "cell_type": "markdown",
      "metadata": {
        "id": "QA__xcyjd9wD",
        "colab_type": "text"
      },
      "source": [
        "これをblueqatを使用して解いてみます。"
      ]
    },
    {
      "cell_type": "code",
      "metadata": {
        "id": "p_vP4eV4esQs",
        "colab_type": "code",
        "colab": {
          "base_uri": "https://localhost:8080/",
          "height": 136
        },
        "outputId": "fd822c8b-6a6c-44dd-eb30-680ce7bf226b"
      },
      "source": [
        "pip install blueqat"
      ],
      "execution_count": 1,
      "outputs": [
        {
          "output_type": "stream",
          "text": [
            "Collecting blueqat\n",
            "\u001b[?25l  Downloading https://files.pythonhosted.org/packages/bb/86/1b72a7cbe500b861d63e84cc6383fbf3730f08ae69fcd85146ae8e3b8873/blueqat-0.3.10-py3-none-any.whl (46kB)\n",
            "\r\u001b[K     |███████                         | 10kB 17.6MB/s eta 0:00:01\r\u001b[K     |██████████████                  | 20kB 1.6MB/s eta 0:00:01\r\u001b[K     |█████████████████████▏          | 30kB 2.4MB/s eta 0:00:01\r\u001b[K     |████████████████████████████▏   | 40kB 1.6MB/s eta 0:00:01\r\u001b[K     |████████████████████████████████| 51kB 1.6MB/s \n",
            "\u001b[?25hRequirement already satisfied: numpy~=1.12 in /usr/local/lib/python3.6/dist-packages (from blueqat) (1.17.4)\n",
            "Requirement already satisfied: scipy>=1.1.0 in /usr/local/lib/python3.6/dist-packages (from blueqat) (1.3.3)\n",
            "Installing collected packages: blueqat\n",
            "Successfully installed blueqat-0.3.10\n"
          ],
          "name": "stdout"
        }
      ]
    },
    {
      "cell_type": "markdown",
      "metadata": {
        "id": "CchCvp4qd9wE",
        "colab_type": "text"
      },
      "source": [
        "必要なライブラリをimportし、オブジェクトをインスタンス化します。"
      ]
    },
    {
      "cell_type": "code",
      "metadata": {
        "id": "g60jclr5d9wF",
        "colab_type": "code",
        "colab": {}
      },
      "source": [
        "%matplotlib inline\n",
        "\n",
        "import numpy as np\n",
        "import matplotlib.pyplot as plt\n",
        "import blueqat.opt as wq"
      ],
      "execution_count": 0,
      "outputs": []
    },
    {
      "cell_type": "markdown",
      "metadata": {
        "id": "RmBsdCOWd9wI",
        "colab_type": "text"
      },
      "source": [
        "## QUBOの作成"
      ]
    },
    {
      "cell_type": "markdown",
      "metadata": {
        "id": "QwGfu3RYd9wJ",
        "colab_type": "text"
      },
      "source": [
        "解きたい問題のQUBOマトリクスを作成します。\n",
        "\n",
        "最初に自然数の集合を $U = \\{1, \\ldots, n\\}$、グループを$V_{i} \\subseteq U(i=1, \\ldots, N)$とします。また、i番目のグループをピックアップしたかどうかを$x_{i} \\in \\{1, 0\\}$で表します。ピックアップされた場合は1、されなかった場合は0です。ここで、各自然数（αとします）についてピックアップされた1つのグループのみに含まれている場合に最小となるようなコスト関数$E_{A}$を考えます。\n",
        "\n",
        "この場合、\n",
        "\n",
        "$E_{A} = A \\sum _ { \\alpha = 1 } ^ { n } \\left( 1 - \\sum _ { i : \\alpha \\in V _ { i } } x _ { i } \\right) ^ { 2 }$\n",
        "\n",
        "とすると、各自然数αに対して1つのグループのみがピックアップされた場合、$E_{A} = 0$となります。\n",
        "\n",
        "これをQUBO形式に変換していきます。まず括弧の中を展開します。\n",
        "\n",
        "$E_{A} = A \\sum _ { \\alpha = 1 } ^ { n } \\{ 1 - 2\\sum _ { i : \\alpha \\in V _ { i } } x _ { i } + ( \\sum _ { i : \\alpha \\in V _ { i } } x _ { i } ) ^ { 2 } \\} $\n",
        "\n",
        "今回$E_{A}$を最小化する問題なので、定数である{}内の第一項は無視できます。\n",
        "第二項は、$x_{i} \\in {1,0}$であることを利用して、次のように書き換えることができます。\n",
        "\n",
        "$ - 2\\sum _ { i : \\alpha \\in V _ { i } } x _ { i } = - 2\\sum _ { i = j, i : \\alpha \\in V _ { i }, j : \\alpha \\in V _ { j } } x _ { i } x _ {j}$\n",
        "\n",
        "第三項についても、i = jの場合と、$i \\neq j$の場合に分けると、次の様に書き換えられます。\n",
        "\n",
        "$ ( \\sum _ { i : \\alpha \\in V _ { i } } x _ { i } ) ^ { 2 } = \\sum _ { i = j, i : \\alpha \\in V _ { i }, j : \\alpha \\in V _ { j } } x _ { i } x _ {j} + 2 \\sum _ { i \\neq j, i : \\alpha \\in V _ { i }, j : \\alpha \\in V _ { j } } x _ { i } x _ {j} $\n",
        "\n",
        "まとめると、\n",
        "\n",
        "$E_{A} = A \\sum _ { \\alpha = 1 } ^ { n } ( - \\sum _ { i = j, i : \\alpha \\in V _ { i }, j : \\alpha \\in V _ { j } } x _ { i } x _ {j} + 2 \\sum _ { i \\neq j, i : \\alpha \\in V _ { i }, j : \\alpha \\in V _ { j } } x _ { i } x _ {j} )$\n",
        "\n",
        "となり、QUBO形式にすることができました。"
      ]
    },
    {
      "cell_type": "code",
      "metadata": {
        "id": "tVCr8wSId9wK",
        "colab_type": "code",
        "colab": {}
      },
      "source": [
        "U = [1,2,3,4,5,6,7,8,9,10]\n",
        "A = 1\n",
        "\n",
        "def get_qubo(V):\n",
        "    Q = np.zeros( (len(V), len(V)) )\n",
        "\n",
        "    for i in range(len(V)):\n",
        "        for j in range(len(V)):\n",
        "            for k in range(len(U)):\n",
        "                alpha = U[k]\n",
        "                in_Vi = V[i].count(alpha) > 0 #V[i]に存在しているか\n",
        "                in_Vj = V[j].count(alpha) > 0 #V[j]に存在しているか\n",
        "                if i == j and in_Vi:\n",
        "                    Q[i][j] += -1\n",
        "                elif i < j and in_Vi and in_Vj:\n",
        "                    Q[i][j] += 2\n",
        "\n",
        "    return Q * A"
      ],
      "execution_count": 0,
      "outputs": []
    },
    {
      "cell_type": "markdown",
      "metadata": {
        "id": "7d6ypaSZd9wN",
        "colab_type": "text"
      },
      "source": [
        "また、結果を表示する関数を定義しておきます。"
      ]
    },
    {
      "cell_type": "code",
      "metadata": {
        "id": "T4lH4-nzd9wO",
        "colab_type": "code",
        "colab": {}
      },
      "source": [
        "def display_answer(list_x, energies = None, show_graph = False):\n",
        "    print(\"Result x:\", list_x)\n",
        "    text = \"\"\n",
        "    for i in range(len(list_x)):\n",
        "        if(list_x[i]):\n",
        "            text += str(V[i])\n",
        "    print(\"Picked {} group(s): {}\".format(sum(list_x), text))\n",
        "    if energies is not None:\n",
        "        print(\"Energy:\", a.E[-1])\n",
        "    if show_graph:\n",
        "        plt.plot(a.E)\n",
        "        plt.show()"
      ],
      "execution_count": 0,
      "outputs": []
    },
    {
      "cell_type": "markdown",
      "metadata": {
        "id": "CGRYzGuzd9wR",
        "colab_type": "text"
      },
      "source": [
        "次の通り実行してみると、正しい答えが得られていることが分かります。"
      ]
    },
    {
      "cell_type": "code",
      "metadata": {
        "id": "awXrpvuVd9wS",
        "colab_type": "code",
        "outputId": "1ce20ad6-fa6f-41a9-829d-af018c05ba0f",
        "colab": {
          "base_uri": "https://localhost:8080/",
          "height": 51
        }
      },
      "source": [
        "V = [ [1,2], [3,4,5,6], [7,8,9,10], [1,3,5], [10] ]\n",
        "a = wq.opt()\n",
        "a.qubo = get_qubo(V)\n",
        "answer = a.sa()\n",
        "display_answer(answer)"
      ],
      "execution_count": 6,
      "outputs": [
        {
          "output_type": "stream",
          "text": [
            "Result x: [1, 1, 1, 0, 0]\n",
            "Picked 3 group(s): [1, 2][3, 4, 5, 6][7, 8, 9, 10]\n"
          ],
          "name": "stdout"
        }
      ]
    },
    {
      "cell_type": "markdown",
      "metadata": {
        "id": "d8cWoCO4d9wW",
        "colab_type": "text"
      },
      "source": [
        "## Vをもう少し複雑にしてみる"
      ]
    },
    {
      "cell_type": "markdown",
      "metadata": {
        "id": "kRQLaYuNd9wW",
        "colab_type": "text"
      },
      "source": [
        "Vをもう少し複雑にして（2つグループを追加して）、実行してみます。"
      ]
    },
    {
      "cell_type": "code",
      "metadata": {
        "id": "WA9_FtXUd9wX",
        "colab_type": "code",
        "outputId": "cfaa3c57-89f5-4110-e96a-47625b54f415",
        "colab": {
          "base_uri": "https://localhost:8080/",
          "height": 51
        }
      },
      "source": [
        "V = [ [1,2], [3,4,5,6], [7,8,9,10], [1,3,5], [10], [7,9], [2,4,6,8] ]\n",
        "a = wq.opt()\n",
        "a.qubo = get_qubo(V)\n",
        "answer = a.sa()\n",
        "display_answer(answer)"
      ],
      "execution_count": 7,
      "outputs": [
        {
          "output_type": "stream",
          "text": [
            "Result x: [0, 0, 0, 1, 1, 1, 1]\n",
            "Picked 4 group(s): [1, 3, 5][10][7, 9][2, 4, 6, 8]\n"
          ],
          "name": "stdout"
        }
      ]
    },
    {
      "cell_type": "markdown",
      "metadata": {
        "id": "kmbAIcEcd9wa",
        "colab_type": "text"
      },
      "source": [
        "正しい答えが得られていることが分かります。"
      ]
    },
    {
      "cell_type": "markdown",
      "metadata": {
        "id": "sqhPNjgsd9wb",
        "colab_type": "text"
      },
      "source": [
        "## Smallest Exact Coverへの拡張"
      ]
    },
    {
      "cell_type": "markdown",
      "metadata": {
        "id": "3WwY8Mnxd9wc",
        "colab_type": "text"
      },
      "source": [
        "さらにSmallest Exact Coverにも取り組んでみます。\n",
        "ピックアップされる数が最小にするためには、次の$E_{B}$を考えます。\n",
        "\n",
        "$ E _ { B } = B \\sum _ { i } x _ { i } $\n",
        "\n",
        "これも、$x_{i} \\in {1,0}$であることを利用して、次のように書き換えることができます\n",
        "\n",
        "$ E _ { B } = B \\sum _ { i, j : i = j } x _ { i } x _ {j} $\n",
        "\n",
        "そして、$E = E_{A} + E_{B}$が最小になるようにします。"
      ]
    },
    {
      "cell_type": "code",
      "metadata": {
        "id": "__aDCXbad9wd",
        "colab_type": "code",
        "colab": {}
      },
      "source": [
        "B = A / len(U) * 0.99\n",
        "def get_qubo_min(Q):\n",
        "    for i in range(len(V)):\n",
        "        Q[i][i] += B\n",
        "    return Q"
      ],
      "execution_count": 0,
      "outputs": []
    },
    {
      "cell_type": "markdown",
      "metadata": {
        "id": "4Q0W6yIid9wg",
        "colab_type": "text"
      },
      "source": [
        "### 以前の実装で試す"
      ]
    },
    {
      "cell_type": "markdown",
      "metadata": {
        "id": "kgSTb65hd9wg",
        "colab_type": "text"
      },
      "source": [
        "まずは、この拡張が含まれていない$ E _ {A} $だけの実装したもので5回実行してみます。\n",
        "\n",
        "結果をみると3つのグループと4つのグループがピックアップされた結果が混在しており、つねに最小数が選ばれている訳ではありません。"
      ]
    },
    {
      "cell_type": "code",
      "metadata": {
        "id": "BVu3rvHNd9wh",
        "colab_type": "code",
        "outputId": "51394ae7-1871-48cd-f575-2e2b47f12448",
        "colab": {
          "base_uri": "https://localhost:8080/",
          "height": 357
        }
      },
      "source": [
        "V = [ [1,2,3,4], [5,6,7,8], [9,10], [1,2], [3,4], [5,6], [7,8,9,10]]\n",
        "\n",
        "for i in range(5):\n",
        "    print(\"---{}回目\".format(i+1))\n",
        "    a = wq.opt()\n",
        "    a.qubo = get_qubo(V)\n",
        "    answer = a.sa()\n",
        "    display_answer(answer, a.E)"
      ],
      "execution_count": 10,
      "outputs": [
        {
          "output_type": "stream",
          "text": [
            "---1回目\n",
            "Result x: [0, 1, 1, 1, 1, 0, 0]\n",
            "Picked 4 group(s): [5, 6, 7, 8][9, 10][1, 2][3, 4]\n",
            "Energy: -10.0\n",
            "---2回目\n",
            "Result x: [0, 0, 0, 1, 1, 1, 1]\n",
            "Picked 4 group(s): [1, 2][3, 4][5, 6][7, 8, 9, 10]\n",
            "Energy: -10.0\n",
            "---3回目\n",
            "Result x: [0, 1, 1, 1, 1, 0, 0]\n",
            "Picked 4 group(s): [5, 6, 7, 8][9, 10][1, 2][3, 4]\n",
            "Energy: -10.0\n",
            "---4回目\n",
            "Result x: [1, 0, 0, 0, 0, 1, 1]\n",
            "Picked 3 group(s): [1, 2, 3, 4][5, 6][7, 8, 9, 10]\n",
            "Energy: -10.0\n",
            "---5回目\n",
            "Result x: [1, 1, 1, 0, 0, 0, 0]\n",
            "Picked 3 group(s): [1, 2, 3, 4][5, 6, 7, 8][9, 10]\n",
            "Energy: -10.0\n"
          ],
          "name": "stdout"
        }
      ]
    },
    {
      "cell_type": "markdown",
      "metadata": {
        "id": "9kXsQ8Yed9wk",
        "colab_type": "text"
      },
      "source": [
        "### 新しい実装で試す\n",
        "$ E _ {A} + E_{B}$となっている実装で試してみます。\n",
        "\n",
        "結果を見ると、概ね正しい答え（3つのグループ）が選ばれるようですが、まれに少しエネルギーの高い不正解（4つのグループ）の方が選ばれてしまいます。"
      ]
    },
    {
      "cell_type": "code",
      "metadata": {
        "id": "pw00gvmdd9wl",
        "colab_type": "code",
        "outputId": "5ef14b1b-fe95-4bca-c905-8a2945dd18a3",
        "colab": {
          "base_uri": "https://localhost:8080/",
          "height": 357
        }
      },
      "source": [
        "for i in range(5):\n",
        "    print(\"---{}回目\".format(i+1))\n",
        "    a = wq.opt()\n",
        "    a.qubo = get_qubo_min(get_qubo(V))\n",
        "    answer = a.sa()\n",
        "    display_answer(answer, a.E)"
      ],
      "execution_count": 11,
      "outputs": [
        {
          "output_type": "stream",
          "text": [
            "---1回目\n",
            "Result x: [1, 0, 0, 0, 0, 1, 1]\n",
            "Picked 3 group(s): [1, 2, 3, 4][5, 6][7, 8, 9, 10]\n",
            "Energy: -9.703\n",
            "---2回目\n",
            "Result x: [0, 0, 0, 1, 1, 1, 1]\n",
            "Picked 4 group(s): [1, 2][3, 4][5, 6][7, 8, 9, 10]\n",
            "Energy: -9.604\n",
            "---3回目\n",
            "Result x: [1, 0, 0, 0, 0, 1, 1]\n",
            "Picked 3 group(s): [1, 2, 3, 4][5, 6][7, 8, 9, 10]\n",
            "Energy: -9.703\n",
            "---4回目\n",
            "Result x: [1, 0, 0, 0, 0, 1, 1]\n",
            "Picked 3 group(s): [1, 2, 3, 4][5, 6][7, 8, 9, 10]\n",
            "Energy: -9.703\n",
            "---5回目\n",
            "Result x: [1, 1, 1, 0, 0, 0, 0]\n",
            "Picked 3 group(s): [1, 2, 3, 4][5, 6, 7, 8][9, 10]\n",
            "Energy: -9.703\n"
          ],
          "name": "stdout"
        }
      ]
    },
    {
      "cell_type": "markdown",
      "metadata": {
        "id": "91-5bOqsd9wn",
        "colab_type": "text"
      },
      "source": [
        "### 意地悪ケース\n",
        "最後に意地悪なケースを試します。\n",
        "{1,2}{3}{4}{5}{6}{7}{8}{9}{10}が選ばれるのが正解です。\n",
        "\n",
        "結果を見ると、概ね正しい答えが選ばれるようですが、まれに少しエネルギーの高い不正解の方が選ばれてしまいます。"
      ]
    },
    {
      "cell_type": "code",
      "metadata": {
        "id": "YmmtuVQXd9wo",
        "colab_type": "code",
        "outputId": "e86bc280-c5f9-42fc-c8c3-acf9b3240d70",
        "colab": {
          "base_uri": "https://localhost:8080/",
          "height": 357
        }
      },
      "source": [
        "V = [ [1,2], [3], [4], [5], [6], [7], [8], [9], [10], [2,3,4,5,6,7,8,9,10]]\n",
        "for i in range(5):\n",
        "    print(\"---{}回目\".format(i+1))\n",
        "    a = wq.opt()\n",
        "    a.qubo = get_qubo_min(get_qubo(V))\n",
        "    answer = a.sa()\n",
        "    display_answer(answer, a.E)"
      ],
      "execution_count": 12,
      "outputs": [
        {
          "output_type": "stream",
          "text": [
            "---1回目\n",
            "Result x: [0, 0, 0, 0, 0, 0, 0, 0, 0, 1]\n",
            "Picked 1 group(s): [2, 3, 4, 5, 6, 7, 8, 9, 10]\n",
            "Energy: -8.901\n",
            "---2回目\n",
            "Result x: [0, 0, 0, 0, 0, 0, 0, 0, 0, 1]\n",
            "Picked 1 group(s): [2, 3, 4, 5, 6, 7, 8, 9, 10]\n",
            "Energy: -8.901\n",
            "---3回目\n",
            "Result x: [1, 1, 1, 1, 1, 1, 1, 1, 1, 0]\n",
            "Picked 9 group(s): [1, 2][3][4][5][6][7][8][9][10]\n",
            "Energy: -9.108999999999998\n",
            "---4回目\n",
            "Result x: [0, 0, 0, 0, 0, 0, 0, 0, 0, 1]\n",
            "Picked 1 group(s): [2, 3, 4, 5, 6, 7, 8, 9, 10]\n",
            "Energy: -8.901\n",
            "---5回目\n",
            "Result x: [1, 1, 1, 1, 1, 1, 1, 1, 1, 0]\n",
            "Picked 9 group(s): [1, 2][3][4][5][6][7][8][9][10]\n",
            "Energy: -9.108999999999998\n"
          ],
          "name": "stdout"
        }
      ]
    }
  ]
}