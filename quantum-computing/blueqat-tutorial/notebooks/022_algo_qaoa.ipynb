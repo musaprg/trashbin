{
  "nbformat": 4,
  "nbformat_minor": 0,
  "metadata": {
    "colab": {
      "name": "022_algo_qaoa.ipynb",
      "version": "0.3.2",
      "provenance": [],
      "collapsed_sections": []
    },
    "kernelspec": {
      "display_name": "Python 3",
      "language": "python",
      "name": "python3"
    }
  },
  "cells": [
    {
      "metadata": {
        "colab_type": "text",
        "id": "NjHnSAbHrInP"
      },
      "cell_type": "markdown",
      "source": [
        "#QAOAアルゴリズム\n",
        "QAOAアルゴリズムは量子ゲートモデルの量子コンピュータで社会問題などの組合せ最適化問題を解くために、量子断熱計算というアルゴリズムをベースに作られたものです。"
      ]
    },
    {
      "metadata": {
        "id": "Ke7dyo7rFyUe",
        "colab_type": "text"
      },
      "cell_type": "markdown",
      "source": [
        "## QAOAの使い方\n",
        "QAOAはβ（ベータ）とγ（ガンマ）という２つのパラメータを最適化することで、組合せ最適化問題を解くことができます。イジングモデルと呼ばれる物理モデルに問題をマッピングすることによって問題を解きます。早速やってみましょう。"
      ]
    },
    {
      "metadata": {
        "id": "tQNIS0GPF1ja",
        "colab_type": "text"
      },
      "cell_type": "markdown",
      "source": [
        "## イジングモデルとコスト関数\n",
        "コスト関数と呼ばれる関数を作ります。それを最小化するように問題が解かれます。今回はΔのコスト関数とQUBOのコスト関数と呼ばれるものを２つ解いてみます。\n"
      ]
    },
    {
      "metadata": {
        "id": "5_HU7GuQF5QE",
        "colab_type": "text"
      },
      "cell_type": "markdown",
      "source": [
        "## QUBOコスト関数\n",
        "コスト関数として、\n",
        "E = q(0)*q(1)\n",
        "というのを考えてみます。\n",
        "\n",
        "これはqには0か+1がはいります。q(0)とq(1)の組み合わせとして最小（最大）になる組み合わせはなにか？というのが解くべき問題です。実際の社会問題では様々なテクニックを駆使しながらこれらを解きます。\n",
        "\n",
        "組み合わせは実際に考えてみたとき、\n",
        "q(0)=0もしくはq(1)=0のときE=0で全体は最小になります。\n",
        "これを実際に解いてみましょう。\n",
        "\n",
        "Blueqatの導入は簡単です。この式をそのままBlueqatに準備します。\n",
        "今回はblueqat.pauliというモジュールを使用します。"
      ]
    },
    {
      "metadata": {
        "id": "qzVe_fZMQ0TC",
        "colab_type": "code",
        "colab": {}
      },
      "cell_type": "code",
      "source": [
        "from blueqat import vqe\n",
        "from blueqat.pauli import qubo_bit as q\n",
        "\n",
        "E = q(0)*q(1)"
      ],
      "execution_count": 0,
      "outputs": []
    },
    {
      "metadata": {
        "id": "PGBkYSP1F7yy",
        "colab_type": "text"
      },
      "cell_type": "markdown",
      "source": [
        "早速解いてみましょう。\n",
        "ここでは精度を決めるstepと呼ばれるパラメータがあります。\n",
        "今回は2にしてみます。そして.run()で実行です。\n",
        "ここではQAOAとVQEというアルゴリズムが使われていますが、それはソフトウェア側で自動的にやってくれます。"
      ]
    },
    {
      "metadata": {
        "id": "MbkCTqEfR7be",
        "colab_type": "code",
        "colab": {
          "base_uri": "https://localhost:8080/",
          "height": 34
        },
        "outputId": "ea0697e0-a89a-4515-fada-a55863ada692"
      },
      "cell_type": "code",
      "source": [
        "step = 2\n",
        "\n",
        "result = vqe.Vqe(vqe.QaoaAnsatz(E, step)).run()\n",
        "print(result.most_common(12))"
      ],
      "execution_count": 27,
      "outputs": [
        {
          "output_type": "stream",
          "text": [
            "(((0, 0), 0.3875357109528269), ((0, 1), 0.30623214452358605), ((1, 0), 0.30623214452358594), ((1, 1), 1.1165784457975992e-17))\n"
          ],
          "name": "stdout"
        }
      ]
    },
    {
      "metadata": {
        "id": "0q2SopjVTg9o",
        "colab_type": "text"
      },
      "cell_type": "markdown",
      "source": [
        "このように、00と01と10と11という答えがでてきました。00がでやすく、01と10がそのあとに続きます。このように組合せ最適化問題がゲートモデルのマシンで解けました。\n"
      ]
    }
  ]
}