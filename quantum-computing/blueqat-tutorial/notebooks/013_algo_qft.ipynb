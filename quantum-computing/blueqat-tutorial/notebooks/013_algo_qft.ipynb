{
  "nbformat": 4,
  "nbformat_minor": 0,
  "metadata": {
    "colab": {
      "name": "013_algo_qft.ipynb",
      "version": "0.3.2",
      "provenance": [],
      "collapsed_sections": []
    },
    "kernelspec": {
      "display_name": "Python 3",
      "language": "python",
      "name": "python3"
    }
  },
  "cells": [
    {
      "metadata": {
        "colab_type": "text",
        "id": "NjHnSAbHrInP"
      },
      "cell_type": "markdown",
      "source": [
        "# 量子フーリエ変換\n",
        "量子フーリエ変換は既存計算機の高速フーリエ変換に対応したアルゴリズムです。少し違いますがほとんど同じなのでみていきましょう。\n"
      ]
    },
    {
      "metadata": {
        "id": "CJhIv6UdASWQ",
        "colab_type": "text"
      },
      "cell_type": "markdown",
      "source": [
        "## 量子フーリエ変換とは？\n",
        "フーリエ変換は時系列の波を周波数ごとに分解します。フーリエ変換の中で離散値をとるものが離散フーリエ変換で、それを計算機上で高速処理するアルゴリズムが高速フーリエ変換です。量子フーリエ変換はこの高速フーリエ変換を量子コンピュータを使って計算を行います。"
      ]
    },
    {
      "metadata": {
        "id": "oXg3hf3yAkMS",
        "colab_type": "text"
      },
      "cell_type": "markdown",
      "source": [
        "## 数理\n",
        "高速フーリエ変換にとても似ています（が符号が違う気が、、、）。ある量子状態を別の量子状態に写します。\n",
        "\n",
        "$$QFT:\\mid x \\rangle \\mapsto \\frac{1}{\\sqrt{N}}\\sum_{k=0}^{N-1} \\omega_n^{xk}\\mid k\\rangle \\\\ \\omega_n = e^{\\frac{2\\pi i}{N}}$$"
      ]
    },
    {
      "metadata": {
        "id": "U1uxGVsCCi85",
        "colab_type": "text"
      },
      "cell_type": "markdown",
      "source": [
        "## ビットを入力し、位相を量子状態で出力\n",
        "量子フーリエ変換の入力は01のビットになります。これらのビット入力が位相の形で量子状態として出力されます。出力状態をテンソル積を用いて表現すると、\n",
        "\n",
        "$$QFT(\\mid x_1,x_2,…,x_n \\rangle) = \\frac{1}{\\sqrt{N}}(\\mid 0 \\rangle + e^{2\\pi i [0.x_n]} \\mid 1 \\rangle) \\otimes … \\otimes (\\mid 0 \\rangle + e^{2\\pi i [0.x_1x_2…x_n]} \\mid 1 \\rangle)$$\n",
        "\n",
        "位相にビットが現れた状態での量子状態が得られます。ここで注意したいのは、各量子状態の出現確率は確率振幅の二乗で表せられますが、どの量子状態も出現確率は同一なので測定を通じて位相が得られない点です。"
      ]
    },
    {
      "metadata": {
        "id": "yd5MaoRKCuWS",
        "colab_type": "text"
      },
      "cell_type": "markdown",
      "source": [
        "## 量子回路の実装\n",
        "一番簡単な回路は２量子ビットです。\n",
        "\n",
        "<img src=\"./img/013_algo_qft01.png\">"
      ]
    },
    {
      "metadata": {
        "id": "3eRpgppa_1FI",
        "colab_type": "code",
        "colab": {
          "base_uri": "https://localhost:8080/",
          "height": 51
        },
        "outputId": "d638cc92-9486-43bc-c94a-14a65c6705d7"
      },
      "cell_type": "code",
      "source": [
        "from blueqat import Circuit\n",
        "import math\n",
        "\n",
        "Circuit().x[0].x[1].h[0].rz(math.pi/4)[0].cx[1,0].rz(-math.pi/4)[0].cx[1,0].h[1].run()"
      ],
      "execution_count": 102,
      "outputs": [
        {
          "output_type": "execute_result",
          "data": {
            "text/plain": [
              "array([ 5.00000000e-01+0.j , -8.32667268e-17-0.5j, -5.00000000e-01+0.j ,\n",
              "        8.32667268e-17+0.5j])"
            ]
          },
          "metadata": {
            "tags": []
          },
          "execution_count": 102
        }
      ]
    },
    {
      "metadata": {
        "id": "JM9lexiT_034",
        "colab_type": "text"
      },
      "cell_type": "markdown",
      "source": [
        "つぎにN=4です。\n",
        "<img src=\"./img/013_algo_qft02.png\">"
      ]
    },
    {
      "metadata": {
        "id": "PsHtcgTEAuph",
        "colab_type": "code",
        "colab": {
          "base_uri": "https://localhost:8080/",
          "height": 153
        },
        "outputId": "f5dc2dce-55a2-4b01-917b-6e27e3866d33"
      },
      "cell_type": "code",
      "source": [
        "Circuit().x[:].h[0].rz(math.pi/4)[0].cx[1,0].rz(-math.pi/4)[0].cx[1,0].rz(math.pi/8)[0].cx[2,0].rz(-math.pi/8)[0].cx[2,0].rz(math.pi/16)[0].cx[3,0].rz(-math.pi/16)[0].cx[3,0].h[1].rz(math.pi/4)[1].cx[2,1].rz(-math.pi/4)[1].cx[2,1].rz(math.pi/8)[1].cx[3,1].rz(-math.pi/8)[1].cx[3,1].h[2].rz(math.pi/4)[2].cx[3,2].rz(-math.pi/4)[2].cx[3,2].h[3].run()                                                                    "
      ],
      "execution_count": 99,
      "outputs": [
        {
          "output_type": "execute_result",
          "data": {
            "text/plain": [
              "array([ 2.50000000e-01+6.93889390e-18j,  2.30969883e-01-9.56708581e-02j,\n",
              "        1.76776695e-01-1.76776695e-01j,  9.56708581e-02-2.30969883e-01j,\n",
              "       -5.55111512e-17-2.50000000e-01j, -9.56708581e-02-2.30969883e-01j,\n",
              "       -1.76776695e-01-1.76776695e-01j, -2.30969883e-01-9.56708581e-02j,\n",
              "       -2.50000000e-01-6.93889390e-18j, -2.30969883e-01+9.56708581e-02j,\n",
              "       -1.76776695e-01+1.76776695e-01j, -9.56708581e-02+2.30969883e-01j,\n",
              "        5.55111512e-17+2.50000000e-01j,  9.56708581e-02+2.30969883e-01j,\n",
              "        1.76776695e-01+1.76776695e-01j,  2.30969883e-01+9.56708581e-02j])"
            ]
          },
          "metadata": {
            "tags": []
          },
          "execution_count": 99
        }
      ]
    },
    {
      "metadata": {
        "id": "_7OgXLuHA3C0",
        "colab_type": "text"
      },
      "cell_type": "markdown",
      "source": [
        "このように、実際にコードを用いて簡単に行うことができました。こちらが量子フーリエ変換です。\n",
        "\n"
      ]
    },
    {
      "metadata": {
        "id": "qdBTsGLnDBce",
        "colab_type": "text"
      },
      "cell_type": "markdown",
      "source": [
        "## （応用）確かめ\n",
        "量子フーリエ変換は量子状態を直接観測できないので、使いどころが難しいです。そのため最初はシミュレータで状態ベクトルを取得して、既存の高速フーリエ変換FFTと比較するのが良いでしょう。高速フーリエ変換はPythonの一般的なライブラリのNumpyに収録されていて確認ができます。"
      ]
    },
    {
      "metadata": {
        "id": "4VAuNlz1A079",
        "colab_type": "code",
        "colab": {
          "base_uri": "https://localhost:8080/",
          "height": 34
        },
        "outputId": "9a8114a5-66e6-4d52-99a0-d1f47d13b8b2"
      },
      "cell_type": "code",
      "source": [
        "import numpy as np\n",
        "print(np.fft.fft(np.array([0,0,0,1])/2)) "
      ],
      "execution_count": 101,
      "outputs": [
        {
          "output_type": "stream",
          "text": [
            "[ 0.5+0.j   0. +0.5j -0.5+0.j   0. -0.5j]\n"
          ],
          "name": "stdout"
        }
      ]
    },
    {
      "metadata": {
        "id": "36753dDzA83S",
        "colab_type": "text"
      },
      "cell_type": "markdown",
      "source": [
        "このようにビットを入力することで、実際に量子フーリエ変換における状態ベクトルからの値と比べて確認をすることができます。上記は最初の二量子ビットの状態と対応していることが確認できます。ビットは状態ベクトルの形に直す必要があるので、1,1のビットは0001と表現されます。以上です。"
      ]
    }
  ]
}