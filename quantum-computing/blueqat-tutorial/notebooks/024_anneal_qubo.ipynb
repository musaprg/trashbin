{
  "nbformat": 4,
  "nbformat_minor": 0,
  "metadata": {
    "colab": {
      "name": "024_anneal_qubo.ipynb",
      "provenance": [],
      "collapsed_sections": []
    },
    "kernelspec": {
      "display_name": "Python 3",
      "language": "python",
      "name": "python3"
    }
  },
  "cells": [
    {
      "cell_type": "markdown",
      "metadata": {
        "id": "Ke7dyo7rFyUe",
        "colab_type": "text"
      },
      "source": [
        "## 量子アニーリングとQUBO\n",
        "前回のチュートリアルではイジングモデルと呼ばれる-1と+1を使った式を学びました。今回は産業界でよく使われている01のバイナリ値をみてみます。"
      ]
    },
    {
      "cell_type": "markdown",
      "metadata": {
        "id": "5_HU7GuQF5QE",
        "colab_type": "text"
      },
      "source": [
        "##QUBOコスト関数\n",
        "ハミルトニアンやコスト関数、エネルギー関数と呼ばれる関数を最小にするように計算します。ここでは簡単な問題を通じてそれを確かめてみましょう。\n",
        "\n",
        "\n",
        "$$E = q[0]+q[0]*q[1]$$\n",
        "\n",
        "というコスト関数があったとします。これを計算してみましょう。今回$q$は$1$と$0$という数字を取りうるQUBOと呼ばれるモデルで計算してみます。計算で解いてみます。\n",
        "\n",
        "問題の設定は簡単です、$q[0]$と$q[1]$の係数を見てみます。$q[0]$の係数は$1$で$q[1]$はありませんので$0$です。\n",
        "そして、$q[0]*q[1]$の係数は$1$です。これを行列に直してみます。ここは全く同じです。"
      ]
    },
    {
      "cell_type": "markdown",
      "metadata": {
        "id": "5kcY82PnVI2H",
        "colab_type": "text"
      },
      "source": [
        "##QUBOmatrix\n",
        "QUBOはQUBOmatrixと呼ばれる上三角行列で表現されるmatrixに係数を埋めていきます。\n",
        "まずは縦横に$q[0],q[1]$を配置したイジングmatrixを用意してみます。\n",
        "\n",
        "$$\\begin{bmatrix}\n",
        "0&0\\\\\n",
        "0&0\n",
        "\\end{bmatrix}$$\n",
        "\n",
        "こちらに、上記の$q[0]$の係数が$1$、$q[1]$の係数が$0$のため、対応するところに$1$を置きます。このとき上半分だけ使います。\n",
        "\n",
        "$$\\begin{bmatrix}\n",
        "1&0\\\\\n",
        "0&0\n",
        "\\end{bmatrix}$$\n",
        "\n",
        "そして次に$q[0]*q[1]$の係数が$1$のため、これを非対角項に配置します。\n",
        "\n",
        "$$\\begin{bmatrix}\n",
        "1&1\\\\\n",
        "0&0\n",
        "\\end{bmatrix}$$ \n",
        "\n",
        "この行列を解きます。"
      ]
    },
    {
      "cell_type": "markdown",
      "metadata": {
        "id": "9LpScRYyV05W",
        "colab_type": "text"
      },
      "source": [
        "##まずは読み込み\n",
        "blueqatからoptモジュールを読み込みます。"
      ]
    },
    {
      "cell_type": "code",
      "metadata": {
        "id": "cjerHPm3WOVo",
        "colab_type": "code",
        "colab": {}
      },
      "source": [
        "from blueqat import opt\n",
        "\n",
        "a = opt.opt()"
      ],
      "execution_count": 0,
      "outputs": []
    },
    {
      "cell_type": "markdown",
      "metadata": {
        "id": "7ZrKi0VPWQDy",
        "colab_type": "text"
      },
      "source": [
        "次に早速問題を設定します。"
      ]
    },
    {
      "cell_type": "code",
      "metadata": {
        "id": "qzVe_fZMQ0TC",
        "colab_type": "code",
        "colab": {}
      },
      "source": [
        "a.qubo = [[1,1],[0,0]]"
      ],
      "execution_count": 0,
      "outputs": []
    },
    {
      "cell_type": "markdown",
      "metadata": {
        "id": "PGBkYSP1F7yy",
        "colab_type": "text"
      },
      "source": [
        "そして実行します。100回計算して集計してみます。アニーリングでは繰り返し計算をすることが多いです。"
      ]
    },
    {
      "cell_type": "code",
      "metadata": {
        "id": "MbkCTqEfR7be",
        "colab_type": "code",
        "outputId": "a6c37f38-603c-402b-c6d5-d7d5a6f2be19",
        "colab": {
          "base_uri": "https://localhost:8080/",
          "height": 34
        }
      },
      "source": [
        "result = a.sa(shots=100,sampler=\"fast\")\n",
        "opt.counter(result)"
      ],
      "execution_count": 0,
      "outputs": [
        {
          "output_type": "execute_result",
          "data": {
            "text/plain": [
              "Counter({'00': 52, '01': 48})"
            ]
          },
          "metadata": {
            "tags": []
          },
          "execution_count": 40
        }
      ]
    },
    {
      "cell_type": "markdown",
      "metadata": {
        "id": "0q2SopjVTg9o",
        "colab_type": "text"
      },
      "source": [
        "今回$00$と$01$という答えが半々ででてきました。答えは$q[0]=0,q[1]=0$と、$q[0]=0,q[1]=1$という２つのパターンがあります。今回は両方が答えでした。両方とも$E=0$で最小をとります。\n",
        "\n",
        "このようにコスト関数を01で考えることによって問題を解くことができます。"
      ]
    }
  ]
}
