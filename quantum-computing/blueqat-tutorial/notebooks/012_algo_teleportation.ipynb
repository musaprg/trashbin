{
  "nbformat": 4,
  "nbformat_minor": 0,
  "metadata": {
    "colab": {
      "name": "012_algo_teleportation.ipynb",
      "version": "0.3.2",
      "provenance": [],
      "collapsed_sections": []
    },
    "kernelspec": {
      "display_name": "Python 3",
      "language": "python",
      "name": "python3"
    }
  },
  "cells": [
    {
      "metadata": {
        "colab_type": "text",
        "id": "NjHnSAbHrInP"
      },
      "cell_type": "markdown",
      "source": [
        "# 量子テレポーテーション\n",
        "量子テレポーテーションは量子もつれにある２つの粒子の片方を観測することで、もう片方の状態が決まります。これにより状態がテレポートしたように見えるためこのような名前が付いています。量子もつれを生成し、それを測定し、測定結果を持って、最終的な転送先の量子ビットの操作をすることで量子状態を写すことができます。\n",
        "\n"
      ]
    },
    {
      "metadata": {
        "id": "CJhIv6UdASWQ",
        "colab_type": "text"
      },
      "cell_type": "markdown",
      "source": [
        "## 回路の実装\n",
        "最初にq0の状態を決めます。ここでは?にしています。次に、最初に量子もつれを作るのはq1とq2です。q1にHゲート、q1,q2にCXをかけることで、EPRペアと呼ばれる量子もつれ状態を実現できます。そして、ベル測定という部分ですが、q0,q1にもつれを発生させ、q0にHゲートをかけてから測定をします。今回は測定の代わりにCX/CZ回路で代替します。本来はCX/CZの代わりに測定をして、Xゲート、Zゲートを適用させます。\n",
        "\n",
        "<img src=\"./img/012_algo_teleportation01.png\">"
      ]
    },
    {
      "metadata": {
        "id": "oXg3hf3yAkMS",
        "colab_type": "text"
      },
      "cell_type": "markdown",
      "source": [
        "コードはとてもシンプルですので、実行して結果を見ます。"
      ]
    },
    {
      "metadata": {
        "id": "3eRpgppa_1FI",
        "colab_type": "code",
        "colab": {
          "base_uri": "https://localhost:8080/",
          "height": 34
        },
        "outputId": "b685a0d1-775e-4315-e84d-4785b5ecc141"
      },
      "cell_type": "code",
      "source": [
        "from blueqat import Circuit\n",
        "\n",
        "#量子テレポーテーション回路\n",
        "a = Circuit().h[1].cx[1,2].cx[0,1].h[0].cx[1,2].cz[0,2].m[:]\n",
        "a.run(shots=100)"
      ],
      "execution_count": 93,
      "outputs": [
        {
          "output_type": "execute_result",
          "data": {
            "text/plain": [
              "Counter({'000': 25, '010': 34, '100': 19, '110': 22})"
            ]
          },
          "metadata": {
            "tags": []
          },
          "execution_count": 93
        }
      ]
    },
    {
      "metadata": {
        "id": "JM9lexiT_034",
        "colab_type": "text"
      },
      "cell_type": "markdown",
      "source": [
        "これを見ると、初期のq0はq2の値を見ればいいので0がテレポートしたことがわかります。q0とq1の測定結果によらずq2にq0の元の状態の0が移っています。次に1を写して見ます。"
      ]
    },
    {
      "metadata": {
        "id": "PsHtcgTEAuph",
        "colab_type": "code",
        "colab": {
          "base_uri": "https://localhost:8080/",
          "height": 34
        },
        "outputId": "d8cb57d7-0687-4021-d563-ad14f6b563ee"
      },
      "cell_type": "code",
      "source": [
        "(Circuit().x[0] + a).run(shots=100)"
      ],
      "execution_count": 94,
      "outputs": [
        {
          "output_type": "execute_result",
          "data": {
            "text/plain": [
              "Counter({'001': 22, '011': 21, '101': 22, '111': 35})"
            ]
          },
          "metadata": {
            "tags": []
          },
          "execution_count": 94
        }
      ]
    },
    {
      "metadata": {
        "id": "_7OgXLuHA3C0",
        "colab_type": "text"
      },
      "cell_type": "markdown",
      "source": [
        "最初にq0をXゲートを使って1にして見ると、同様にq0とq1の測定結果によらず、q0の状態の1が移ってます。最後にHゲートをq0にかけてみると、"
      ]
    },
    {
      "metadata": {
        "id": "4VAuNlz1A079",
        "colab_type": "code",
        "colab": {
          "base_uri": "https://localhost:8080/",
          "height": 153
        },
        "outputId": "2e98c3d5-8573-4fe0-b89a-8880bc42b5ae"
      },
      "cell_type": "code",
      "source": [
        "(Circuit().h[0] + a).run(shots=100)"
      ],
      "execution_count": 95,
      "outputs": [
        {
          "output_type": "execute_result",
          "data": {
            "text/plain": [
              "Counter({'000': 18,\n",
              "         '001': 13,\n",
              "         '010': 12,\n",
              "         '011': 9,\n",
              "         '100': 19,\n",
              "         '101': 12,\n",
              "         '110': 9,\n",
              "         '111': 8})"
            ]
          },
          "metadata": {
            "tags": []
          },
          "execution_count": 95
        }
      ]
    },
    {
      "metadata": {
        "id": "36753dDzA83S",
        "colab_type": "text"
      },
      "cell_type": "markdown",
      "source": [
        "約半々でq2に0と1が約半々ででるようになって重ね合わせ状態が移っています。このように簡単に量子テレポーテーションが実装できました。"
      ]
    }
  ]
}