{
  "nbformat": 4,
  "nbformat_minor": 0,
  "metadata": {
    "kernelspec": {
      "display_name": "Python 3",
      "language": "python",
      "name": "python3"
    },
    "language_info": {
      "codemirror_mode": {
        "name": "ipython",
        "version": 3
      },
      "file_extension": ".py",
      "mimetype": "text/x-python",
      "name": "python",
      "nbconvert_exporter": "python",
      "pygments_lexer": "ipython3",
      "version": "3.6.5"
    },
    "colab": {
      "name": "037_set_packing",
      "provenance": []
    }
  },
  "cells": [
    {
      "cell_type": "markdown",
      "metadata": {
        "id": "wnS7seHtqJX9",
        "colab_type": "text"
      },
      "source": [
        "# Set Packing問題\n",
        "この問題はExact Cover問題と似ています。\n",
        "\n",
        "ある自然数の集合Uを考えます。またその自然数を含むいくつかのグループ$V_{1}, V_{2}, \\ldots, V_{N}$を想定します。１つの自然数が複数のグループに属していても構いません。さて、そのグループ$V_{i}$からいくつかピックアップしたときに、それらに同じ自然数が複数回含まれず、Uに含まれる自然数セットと同じになるようにピックアップする問題がExact Cover問題でした。このとき、選んだグループ数が最大になるように選ぶ問題をSet Packing問題といいます。"
      ]
    },
    {
      "cell_type": "markdown",
      "metadata": {
        "id": "zfcbdqKnqJX_",
        "colab_type": "text"
      },
      "source": [
        "## 準備\n",
        "blueqatがインストールされていない場合は、環境に併せて以下のようにインストールしてください。\n"
      ]
    },
    {
      "cell_type": "code",
      "metadata": {
        "id": "OcoEW-E9rqI2",
        "colab_type": "code",
        "colab": {
          "base_uri": "https://localhost:8080/",
          "height": 136
        },
        "outputId": "14b44c7b-c75b-43f3-f243-d26211103b97"
      },
      "source": [
        "!pip install blueqat"
      ],
      "execution_count": 3,
      "outputs": [
        {
          "output_type": "stream",
          "text": [
            "Collecting blueqat\n",
            "\u001b[?25l  Downloading https://files.pythonhosted.org/packages/bb/86/1b72a7cbe500b861d63e84cc6383fbf3730f08ae69fcd85146ae8e3b8873/blueqat-0.3.10-py3-none-any.whl (46kB)\n",
            "\r\u001b[K     |███████                         | 10kB 16.1MB/s eta 0:00:01\r\u001b[K     |██████████████                  | 20kB 1.9MB/s eta 0:00:01\r\u001b[K     |█████████████████████▏          | 30kB 2.7MB/s eta 0:00:01\r\u001b[K     |████████████████████████████▏   | 40kB 1.7MB/s eta 0:00:01\r\u001b[K     |████████████████████████████████| 51kB 1.7MB/s \n",
            "\u001b[?25hRequirement already satisfied: numpy~=1.12 in /usr/local/lib/python3.6/dist-packages (from blueqat) (1.17.4)\n",
            "Requirement already satisfied: scipy>=1.1.0 in /usr/local/lib/python3.6/dist-packages (from blueqat) (1.3.3)\n",
            "Installing collected packages: blueqat\n",
            "Successfully installed blueqat-0.3.10\n"
          ],
          "name": "stdout"
        }
      ]
    },
    {
      "cell_type": "markdown",
      "metadata": {
        "id": "EmPAif2eqJYA",
        "colab_type": "text"
      },
      "source": [
        "必要なライブラリをimportし、blueqatオブジェクトをインスタンス化します。"
      ]
    },
    {
      "cell_type": "code",
      "metadata": {
        "id": "B92IzyszqJYB",
        "colab_type": "code",
        "colab": {}
      },
      "source": [
        "%matplotlib inline\n",
        "\n",
        "import numpy as np\n",
        "import matplotlib.pyplot as plt\n",
        "import blueqat.opt as wq"
      ],
      "execution_count": 0,
      "outputs": []
    },
    {
      "cell_type": "markdown",
      "metadata": {
        "id": "93nG3FSLqJYF",
        "colab_type": "text"
      },
      "source": [
        "## QUBOの作成\n",
        "解きたい問題のコスト関数は\n",
        "\n",
        "$ E = E_{A} + E_{B} $\n",
        "\n",
        "で、$E_{A}, E_{B}$はそれぞれ、\n",
        "\n",
        "$ E _ { A } = A \\sum _ { i , j : V _ { i } \\cap V _ { j } \\neq \\emptyset } x _ { i } x _ { j }$\n",
        "\n",
        "$E _ { B } = - B \\sum _ { i } x _ { i }$\n",
        "\n",
        "と定義されています。\n",
        "\n",
        "まず、$E_{A}$は、$i \\not= j$である$V_{i}, V_{j}$を選んだときに、重複する自然数があったばあいにペナルティを与えることを意味しています。また、$E_{B}$は最も多く選択されている場合に、コストが低くなることを意味しています。\n",
        "\n",
        "係数$A, B$については、1つ多く選ぶ（コストがB下がる）より、重複がない（1つ重複があるとコストがA上がる）ことを優先したいので、$A > B$である必要があります。\n",
        "\n",
        "これをコードにすると次の通りです。"
      ]
    },
    {
      "cell_type": "code",
      "metadata": {
        "id": "8Aiu34otqJYG",
        "colab_type": "code",
        "colab": {}
      },
      "source": [
        "A = 1.0\n",
        "B = 0.9\n",
        "\n",
        "def get_qubo(V):\n",
        "    Q = np.zeros( (len(V), len(V)) )\n",
        "\n",
        "    for i in range(len(V)):\n",
        "        for j in range(i, len(V)):\n",
        "            if i == j:\n",
        "                Q[i][j] += -B\n",
        "            elif len(V[i]) + len(V[j]) != len( set(V[i]) | set(V[j]) ):\n",
        "                Q[i][j] +=  A\n",
        "\n",
        "    return Q"
      ],
      "execution_count": 0,
      "outputs": []
    },
    {
      "cell_type": "markdown",
      "metadata": {
        "id": "0UplGxzMqJYJ",
        "colab_type": "text"
      },
      "source": [
        "また、結果を表示する関数も定義しておきましょう。"
      ]
    },
    {
      "cell_type": "code",
      "metadata": {
        "id": "lY_Gmx6LqJYK",
        "colab_type": "code",
        "colab": {}
      },
      "source": [
        "def show_answer(list_x, energies = None, show_graph = False):\n",
        "    print(\"Result x:\", list_x)\n",
        "    text = \"\"\n",
        "    for i in range(len(list_x)):\n",
        "        if(list_x[i]):\n",
        "            text += str(V[i])\n",
        "    print(\"Picked {} group(s): {}\".format(sum(list_x), text))\n",
        "    if energies is not None:\n",
        "        print(\"Energy:\", a.E[-1])\n",
        "    if show_graph:\n",
        "        plt.plot(a.E)\n",
        "        plt.show()"
      ],
      "execution_count": 0,
      "outputs": []
    },
    {
      "cell_type": "markdown",
      "metadata": {
        "id": "TJ93OQ-sqJYN",
        "colab_type": "text"
      },
      "source": [
        "次の通り実行してみます"
      ]
    },
    {
      "cell_type": "code",
      "metadata": {
        "scrolled": true,
        "id": "H_90cXjCqJYO",
        "colab_type": "code",
        "outputId": "eeb8b96a-ce34-4eea-fdee-017ddfcf0bab",
        "colab": {
          "base_uri": "https://localhost:8080/",
          "height": 357
        }
      },
      "source": [
        "V = [ [1,2], [3,4,5,6], [7,8,9,10], [1,3,5], [10], [7,9], [2,4,6,8], [1,2,3,4,5,6,8,10] ]\n",
        "for i in range(5):\n",
        "    print(\"---{}回目\".format(i+1))\n",
        "    a = wq.opt()\n",
        "    a.qubo = get_qubo(V)\n",
        "    answer = a.sa()\n",
        "    show_answer(answer, a.E)"
      ],
      "execution_count": 10,
      "outputs": [
        {
          "output_type": "stream",
          "text": [
            "---1回目\n",
            "Result x: [1, 1, 0, 0, 1, 1, 0, 0]\n",
            "Picked 4 group(s): [1, 2][3, 4, 5, 6][10][7, 9]\n",
            "Energy: -3.5999999999999996\n",
            "---2回目\n",
            "Result x: [1, 1, 0, 0, 1, 1, 0, 0]\n",
            "Picked 4 group(s): [1, 2][3, 4, 5, 6][10][7, 9]\n",
            "Energy: -3.5999999999999996\n",
            "---3回目\n",
            "Result x: [0, 0, 0, 1, 1, 1, 1, 0]\n",
            "Picked 4 group(s): [1, 3, 5][10][7, 9][2, 4, 6, 8]\n",
            "Energy: -3.6000000000000005\n",
            "---4回目\n",
            "Result x: [1, 1, 0, 0, 1, 1, 0, 0]\n",
            "Picked 4 group(s): [1, 2][3, 4, 5, 6][10][7, 9]\n",
            "Energy: -3.5999999999999996\n",
            "---5回目\n",
            "Result x: [1, 1, 0, 0, 1, 1, 0, 0]\n",
            "Picked 4 group(s): [1, 2][3, 4, 5, 6][10][7, 9]\n",
            "Energy: -3.5999999999999996\n"
          ],
          "name": "stdout"
        }
      ]
    },
    {
      "cell_type": "markdown",
      "metadata": {
        "id": "7_AipXgnqJYS",
        "colab_type": "text"
      },
      "source": [
        "正しい答えは、{1,3,5},{10},{7,9},{2,4,6,8}ですが、時々ややコストが高い間違った答えが選ばれてしまいます。"
      ]
    },
    {
      "cell_type": "markdown",
      "metadata": {
        "id": "wRS0hXqMqJYT",
        "colab_type": "text"
      },
      "source": [
        "## Maximal Independent Set (MIS)問題との相似性\n",
        "なお、この問題は、グラフ理論におけるMIS問題と同じ問題になります。\n",
        "MIS問題とは、無向グラフの頂点を線で結んだうえで、線で結ばれた2つの頂点の両方に色を塗らないようにしつつ、できるだけたくさんの頂点に色を塗る問題です。"
      ]
    }
  ]
}